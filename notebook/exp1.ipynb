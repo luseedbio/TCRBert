{
 "cells": [
  {
   "cell_type": "markdown",
   "metadata": {},
   "source": [
    "# Experiment 1 \n",
    "\n",
    "- Fine-tuning of the pre-trained TAPE model in a progressively specialized manner while extending the frozen layers\n",
    "- Performance evaluation using two external datasets, Shomuradova and ImmuneCODE datatsets, which contain SARS-CoV-2 S-protein <sub>269~-277</sub>(YLQPRTFLL) epitope-specific TCR CDR3βs "
   ]
  },
  {
   "cell_type": "markdown",
   "metadata": {},
   "source": [
    "## Training process and model architecture\n",
    "\n",
    "\n",
    "<img src='res/fig1.png' width='70%'>\n",
    "\n",
    "Training process for the proposed model. The initial model is cloned from pre-trained Tasks Assessing Protein Embeddings (TAPE) model, adding a classification layer at the end. The pre-trained model is fine-tuned in two rounds in a progressively specialized manner while extending the frozen layers between rounds.\n",
    "\n",
    "<img src='res/fig2.png' width='30%'>\n",
    "\n",
    "The proposed model architecture. Input amino acid sequences concatenated by epitope and CDR3β sequences are first encoded into tokens using a tokenizer. Each token is then embedded into a 768-dimensional vector in the pre-trained Tasks Assessing Protein Embeddings (TAPE) model which has 12 encoding layers with 12 self-attention heads in each layer. The final classifier, a 2-layer feed forward network, is then used to predict either binder or not from the output of the TAPE model."
   ]
  },
  {
   "cell_type": "markdown",
   "metadata": {},
   "source": [
    "## Global configurations"
   ]
  },
  {
   "cell_type": "code",
   "execution_count": 37,
   "metadata": {
    "scrolled": true
   },
   "outputs": [
    {
     "name": "stdout",
     "output_type": "stream",
     "text": [
      "2021-11-16 21:56:17 [INFO]: Loaded exp_conf: {'title': 'exp1', 'description': 'Fine-tuning of pre-trained TAPE model in a progressively specialized manner', 'paper': 'exp1', 'model_config': '../config/bert-base/', 'outdir': '../output/exp1', 'train': {'pretrained_model': {'type': 'tape', 'location': '../config/bert-base/'}, 'data_parallel': False, 'backup': 'train.bak.{date}.tar.gz', 'rounds': [{'data': 'dash_vdjdb_mcpas', 'test_size': 0.2, 'batch_size': 128, 'n_epochs': 150, 'n_workers': 12, 'metrics': ['accuracy'], 'optimizer': {'type': 'adam', 'lr': 0.0001}, 'train_bert_encoders': [-10, None], 'early_stopper': {'monitor': 'accuracy', 'patience': 15}, 'model_checkpoint': {'chk': 'train.{round}.model_{epoch}.chk', 'monitor': 'accuracy', 'save_best_only': True, 'period': 1}, 'result': 'train.{round}.result.json'}, {'data': 'iedb_sars2', 'test_size': 0.2, 'batch_size': 128, 'n_epochs': 100, 'n_workers': 12, 'metrics': ['accuracy'], 'optimizer': {'type': 'adam', 'lr': 0.0001}, 'train_bert_encoders': [-6, None], 'early_stopper': {'monitor': 'accuracy', 'patience': 10}, 'model_checkpoint': {'chk': 'train.{round}.model_{epoch}.chk', 'monitor': 'accuracy', 'save_best_only': True, 'period': 1}, 'result': 'train.{round}.result.json'}]}, 'eval': {'data_parallel': False, 'batch_size': 128, 'n_workers': 12, 'metrics': ['accuracy', 'f1', 'roc_auc'], 'output_attentions': False, 'tests': [{'data': 'shomuradova', 'result': 'eval.shomuradova.result.json'}, {'data': 'immunecode', 'result': 'eval.immunecode.result.json'}]}}\n"
     ]
    },
    {
     "data": {
      "text/plain": [
       "{'title': 'exp1',\n",
       " 'description': 'Fine-tuning of pre-trained TAPE model in a progressively specialized manner',\n",
       " 'paper': 'exp1',\n",
       " 'model_config': '../config/bert-base/',\n",
       " 'outdir': '../output/exp1',\n",
       " 'train': {'pretrained_model': {'type': 'tape',\n",
       "   'location': '../config/bert-base/'},\n",
       "  'data_parallel': False,\n",
       "  'backup': 'train.bak.{date}.tar.gz',\n",
       "  'rounds': [{'data': 'dash_vdjdb_mcpas',\n",
       "    'test_size': 0.2,\n",
       "    'batch_size': 128,\n",
       "    'n_epochs': 150,\n",
       "    'n_workers': 12,\n",
       "    'metrics': ['accuracy'],\n",
       "    'optimizer': {'type': 'adam', 'lr': 0.0001},\n",
       "    'train_bert_encoders': [-10, None],\n",
       "    'early_stopper': {'monitor': 'accuracy', 'patience': 15},\n",
       "    'model_checkpoint': {'chk': 'train.{round}.model_{epoch}.chk',\n",
       "     'monitor': 'accuracy',\n",
       "     'save_best_only': True,\n",
       "     'period': 1},\n",
       "    'result': 'train.{round}.result.json'},\n",
       "   {'data': 'iedb_sars2',\n",
       "    'test_size': 0.2,\n",
       "    'batch_size': 128,\n",
       "    'n_epochs': 100,\n",
       "    'n_workers': 12,\n",
       "    'metrics': ['accuracy'],\n",
       "    'optimizer': {'type': 'adam', 'lr': 0.0001},\n",
       "    'train_bert_encoders': [-6, None],\n",
       "    'early_stopper': {'monitor': 'accuracy', 'patience': 10},\n",
       "    'model_checkpoint': {'chk': 'train.{round}.model_{epoch}.chk',\n",
       "     'monitor': 'accuracy',\n",
       "     'save_best_only': True,\n",
       "     'period': 1},\n",
       "    'result': 'train.{round}.result.json'}]},\n",
       " 'eval': {'data_parallel': False,\n",
       "  'batch_size': 128,\n",
       "  'n_workers': 12,\n",
       "  'metrics': ['accuracy', 'f1', 'roc_auc'],\n",
       "  'output_attentions': False,\n",
       "  'tests': [{'data': 'shomuradova', 'result': 'eval.shomuradova.result.json'},\n",
       "   {'data': 'immunecode', 'result': 'eval.immunecode.result.json'}]}}"
      ]
     },
     "metadata": {},
     "output_type": "display_data"
    }
   ],
   "source": [
    "import logging\n",
    "import logging.config\n",
    "import os\n",
    "import sys\n",
    "import warnings\n",
    "from enum import auto\n",
    "import pandas as pd\n",
    "import numpy as np\n",
    "from IPython.core.display import display\n",
    "\n",
    "rootdir = '/home/hym/trunk/TCRBert'\n",
    "workdir = '%s/notebook' % rootdir\n",
    "datadir = '%s/data' % rootdir\n",
    "srcdir = '%s/tcrbert' % rootdir\n",
    "outdir = '%s/output' % rootdir\n",
    "\n",
    "os.chdir(workdir)\n",
    "\n",
    "sys.path.append(rootdir)\n",
    "sys.path.append(srcdir)\n",
    "\n",
    "from tcrbert.exp import Experiment\n",
    "from tcrbert.predlistener import PredResultRecoder\n",
    "\n",
    "\n",
    "# Display\n",
    "pd.set_option('display.max.rows', 2000)\n",
    "pd.set_option('display.max.columns', 2000)\n",
    "\n",
    "# Logger\n",
    "warnings.filterwarnings('ignore')\n",
    "logging.config.fileConfig('../config/logging.conf')\n",
    "logger = logging.getLogger('tcrbert')\n",
    "logger.setLevel(logging.INFO)\n",
    "\n",
    "# Target experiment\n",
    "exp_key = 'exp1'\n",
    "experiment = Experiment.from_key(exp_key)\n",
    "\n",
    "exp_conf = experiment.exp_conf\n",
    "\n",
    "display(exp_conf)"
   ]
  },
  {
   "cell_type": "markdown",
   "metadata": {},
   "source": [
    "## Fine-tuning results"
   ]
  },
  {
   "cell_type": "code",
   "execution_count": 97,
   "metadata": {},
   "outputs": [
    {
     "name": "stdout",
     "output_type": "stream",
     "text": [
      "Populating the interactive namespace from numpy and matplotlib\n",
      "##############################\n",
      "n_epochs: 150\n",
      "stopped_epoch: 66\n",
      "best_epoch: 51\n",
      "best_score: 0.7807942708333334\n",
      "best_chk: ../output/exp1/train.0.model_51.chk\n",
      "##############################\n",
      "n_epochs: 100\n",
      "stopped_epoch: 32\n",
      "best_epoch: 22\n",
      "best_score: 0.9235887096774194\n",
      "best_chk: ../output/exp1/train.1.model_22.chk\n"
     ]
    },
    {
     "data": {
      "image/png": "[encoded data removed]",
      "text/plain": [
       "<Figure size 720x288 with 2 Axes>"
      ]
     },
     "metadata": {
      "needs_background": "light"
     },
     "output_type": "display_data"
    }
   ],
   "source": [
    "%pylab inline\n",
    "\n",
    "def show_train_result(train_result=None, ax=None, title=None):\n",
    "    df = pd.DataFrame({\n",
    "        'train_loss': train_result['train.score']['loss'],\n",
    "        'val_loss': train_result['val.score']['loss'],\n",
    "        'train_accuracy': train_result['train.score']['accuracy'],\n",
    "        'val_accuracy': train_result['val.score']['accuracy']\n",
    "    })\n",
    "\n",
    "    ax = df.loc[:, ['train_accuracy', 'val_accuracy']].plot(ax=ax, title=title)\n",
    "    bs = train_result['best_score']\n",
    "    n_epochs = train_result['stopped_epoch']\n",
    "    ax.axhline(y=bs, ls='--', c='red')\n",
    "    ax.xaxis.set_major_locator(MaxNLocator(integer=True))\n",
    "    ax.legend([\"Train accuracy\", \"Validation accuracy\", \"Best accuracy = %0.3f\" % bs], prop={\"size\": 11})\n",
    "    \n",
    "    print('##############################')\n",
    "    print('n_epochs: %s' % train_result['n_epochs'])\n",
    "    print('stopped_epoch: %s' % train_result['stopped_epoch'])\n",
    "    print('best_epoch: %s' % train_result['best_epoch'])\n",
    "    print('best_score: %s' % train_result['best_score'])\n",
    "    print('best_chk: %s' % train_result['best_chk'])\n",
    "\n",
    "\n",
    "fig, axes = plt.subplots(nrows=1, ncols=2)\n",
    "fig.set_figwidth(10)\n",
    "fig.set_figheight(4)\n",
    "plt.tight_layout(h_pad=2, w_pad=2)\n",
    "\n",
    "show_train_result(train_result=experiment.get_train_result(0), \n",
    "                  ax=axes[0])\n",
    "show_train_result(train_result=experiment.get_train_result(1), \n",
    "                  ax=axes[1])\n"
   ]
  },
  {
   "cell_type": "markdown",
   "metadata": {},
   "source": [
    "## Loading final fine-tuned model"
   ]
  },
  {
   "cell_type": "code",
   "execution_count": 49,
   "metadata": {},
   "outputs": [
    {
     "name": "stdout",
     "output_type": "stream",
     "text": [
      "2021-11-16 21:58:38 [INFO]: Create TAPE model using config: ../config/bert-base/\n",
      "2021-11-16 21:58:41 [INFO]: Loading the eval model from ../output/exp1/train.1.model_22.chk\n"
     ]
    },
    {
     "data": {
      "text/plain": [
       "BertTCREpitopeModel(\n",
       "  (bert): ProteinBertModel(\n",
       "    (embeddings): ProteinBertEmbeddings(\n",
       "      (word_embeddings): Embedding(30, 768, padding_idx=0)\n",
       "      (position_embeddings): Embedding(8192, 768)\n",
       "      (token_type_embeddings): Embedding(1, 768)\n",
       "      (LayerNorm): LayerNorm()\n",
       "      (dropout): Dropout(p=0.1)\n",
       "    )\n",
       "    (encoder): ProteinBertEncoder(\n",
       "      (layer): ModuleList(\n",
       "        (0): ProteinBertLayer(\n",
       "          (attention): ProteinBertAttention(\n",
       "            (self): ProteinBertSelfAttention(\n",
       "              (query): Linear(in_features=768, out_features=768, bias=True)\n",
       "              (key): Linear(in_features=768, out_features=768, bias=True)\n",
       "              (value): Linear(in_features=768, out_features=768, bias=True)\n",
       "              (dropout): Dropout(p=0.1)\n",
       "            )\n",
       "            (output): ProteinBertSelfOutput(\n",
       "              (dense): Linear(in_features=768, out_features=768, bias=True)\n",
       "              (LayerNorm): LayerNorm()\n",
       "              (dropout): Dropout(p=0.1)\n",
       "            )\n",
       "          )\n",
       "          (intermediate): ProteinBertIntermediate(\n",
       "            (dense): Linear(in_features=768, out_features=3072, bias=True)\n",
       "          )\n",
       "          (output): ProteinBertOutput(\n",
       "            (dense): Linear(in_features=3072, out_features=768, bias=True)\n",
       "            (LayerNorm): LayerNorm()\n",
       "            (dropout): Dropout(p=0.1)\n",
       "          )\n",
       "        )\n",
       "        (1): ProteinBertLayer(\n",
       "          (attention): ProteinBertAttention(\n",
       "            (self): ProteinBertSelfAttention(\n",
       "              (query): Linear(in_features=768, out_features=768, bias=True)\n",
       "              (key): Linear(in_features=768, out_features=768, bias=True)\n",
       "              (value): Linear(in_features=768, out_features=768, bias=True)\n",
       "              (dropout): Dropout(p=0.1)\n",
       "            )\n",
       "            (output): ProteinBertSelfOutput(\n",
       "              (dense): Linear(in_features=768, out_features=768, bias=True)\n",
       "              (LayerNorm): LayerNorm()\n",
       "              (dropout): Dropout(p=0.1)\n",
       "            )\n",
       "          )\n",
       "          (intermediate): ProteinBertIntermediate(\n",
       "            (dense): Linear(in_features=768, out_features=3072, bias=True)\n",
       "          )\n",
       "          (output): ProteinBertOutput(\n",
       "            (dense): Linear(in_features=3072, out_features=768, bias=True)\n",
       "            (LayerNorm): LayerNorm()\n",
       "            (dropout): Dropout(p=0.1)\n",
       "          )\n",
       "        )\n",
       "        (2): ProteinBertLayer(\n",
       "          (attention): ProteinBertAttention(\n",
       "            (self): ProteinBertSelfAttention(\n",
       "              (query): Linear(in_features=768, out_features=768, bias=True)\n",
       "              (key): Linear(in_features=768, out_features=768, bias=True)\n",
       "              (value): Linear(in_features=768, out_features=768, bias=True)\n",
       "              (dropout): Dropout(p=0.1)\n",
       "            )\n",
       "            (output): ProteinBertSelfOutput(\n",
       "              (dense): Linear(in_features=768, out_features=768, bias=True)\n",
       "              (LayerNorm): LayerNorm()\n",
       "              (dropout): Dropout(p=0.1)\n",
       "            )\n",
       "          )\n",
       "          (intermediate): ProteinBertIntermediate(\n",
       "            (dense): Linear(in_features=768, out_features=3072, bias=True)\n",
       "          )\n",
       "          (output): ProteinBertOutput(\n",
       "            (dense): Linear(in_features=3072, out_features=768, bias=True)\n",
       "            (LayerNorm): LayerNorm()\n",
       "            (dropout): Dropout(p=0.1)\n",
       "          )\n",
       "        )\n",
       "        (3): ProteinBertLayer(\n",
       "          (attention): ProteinBertAttention(\n",
       "            (self): ProteinBertSelfAttention(\n",
       "              (query): Linear(in_features=768, out_features=768, bias=True)\n",
       "              (key): Linear(in_features=768, out_features=768, bias=True)\n",
       "              (value): Linear(in_features=768, out_features=768, bias=True)\n",
       "              (dropout): Dropout(p=0.1)\n",
       "            )\n",
       "            (output): ProteinBertSelfOutput(\n",
       "              (dense): Linear(in_features=768, out_features=768, bias=True)\n",
       "              (LayerNorm): LayerNorm()\n",
       "              (dropout): Dropout(p=0.1)\n",
       "            )\n",
       "          )\n",
       "          (intermediate): ProteinBertIntermediate(\n",
       "            (dense): Linear(in_features=768, out_features=3072, bias=True)\n",
       "          )\n",
       "          (output): ProteinBertOutput(\n",
       "            (dense): Linear(in_features=3072, out_features=768, bias=True)\n",
       "            (LayerNorm): LayerNorm()\n",
       "            (dropout): Dropout(p=0.1)\n",
       "          )\n",
       "        )\n",
       "        (4): ProteinBertLayer(\n",
       "          (attention): ProteinBertAttention(\n",
       "            (self): ProteinBertSelfAttention(\n",
       "              (query): Linear(in_features=768, out_features=768, bias=True)\n",
       "              (key): Linear(in_features=768, out_features=768, bias=True)\n",
       "              (value): Linear(in_features=768, out_features=768, bias=True)\n",
       "              (dropout): Dropout(p=0.1)\n",
       "            )\n",
       "            (output): ProteinBertSelfOutput(\n",
       "              (dense): Linear(in_features=768, out_features=768, bias=True)\n",
       "              (LayerNorm): LayerNorm()\n",
       "              (dropout): Dropout(p=0.1)\n",
       "            )\n",
       "          )\n",
       "          (intermediate): ProteinBertIntermediate(\n",
       "            (dense): Linear(in_features=768, out_features=3072, bias=True)\n",
       "          )\n",
       "          (output): ProteinBertOutput(\n",
       "            (dense): Linear(in_features=3072, out_features=768, bias=True)\n",
       "            (LayerNorm): LayerNorm()\n",
       "            (dropout): Dropout(p=0.1)\n",
       "          )\n",
       "        )\n",
       "        (5): ProteinBertLayer(\n",
       "          (attention): ProteinBertAttention(\n",
       "            (self): ProteinBertSelfAttention(\n",
       "              (query): Linear(in_features=768, out_features=768, bias=True)\n",
       "              (key): Linear(in_features=768, out_features=768, bias=True)\n",
       "              (value): Linear(in_features=768, out_features=768, bias=True)\n",
       "              (dropout): Dropout(p=0.1)\n",
       "            )\n",
       "            (output): ProteinBertSelfOutput(\n",
       "              (dense): Linear(in_features=768, out_features=768, bias=True)\n",
       "              (LayerNorm): LayerNorm()\n",
       "              (dropout): Dropout(p=0.1)\n",
       "            )\n",
       "          )\n",
       "          (intermediate): ProteinBertIntermediate(\n",
       "            (dense): Linear(in_features=768, out_features=3072, bias=True)\n",
       "          )\n",
       "          (output): ProteinBertOutput(\n",
       "            (dense): Linear(in_features=3072, out_features=768, bias=True)\n",
       "            (LayerNorm): LayerNorm()\n",
       "            (dropout): Dropout(p=0.1)\n",
       "          )\n",
       "        )\n",
       "        (6): ProteinBertLayer(\n",
       "          (attention): ProteinBertAttention(\n",
       "            (self): ProteinBertSelfAttention(\n",
       "              (query): Linear(in_features=768, out_features=768, bias=True)\n",
       "              (key): Linear(in_features=768, out_features=768, bias=True)\n",
       "              (value): Linear(in_features=768, out_features=768, bias=True)\n",
       "              (dropout): Dropout(p=0.1)\n",
       "            )\n",
       "            (output): ProteinBertSelfOutput(\n",
       "              (dense): Linear(in_features=768, out_features=768, bias=True)\n",
       "              (LayerNorm): LayerNorm()\n",
       "              (dropout): Dropout(p=0.1)\n",
       "            )\n",
       "          )\n",
       "          (intermediate): ProteinBertIntermediate(\n",
       "            (dense): Linear(in_features=768, out_features=3072, bias=True)\n",
       "          )\n",
       "          (output): ProteinBertOutput(\n",
       "            (dense): Linear(in_features=3072, out_features=768, bias=True)\n",
       "            (LayerNorm): LayerNorm()\n",
       "            (dropout): Dropout(p=0.1)\n",
       "          )\n",
       "        )\n",
       "        (7): ProteinBertLayer(\n",
       "          (attention): ProteinBertAttention(\n",
       "            (self): ProteinBertSelfAttention(\n",
       "              (query): Linear(in_features=768, out_features=768, bias=True)\n",
       "              (key): Linear(in_features=768, out_features=768, bias=True)\n",
       "              (value): Linear(in_features=768, out_features=768, bias=True)\n",
       "              (dropout): Dropout(p=0.1)\n",
       "            )\n",
       "            (output): ProteinBertSelfOutput(\n",
       "              (dense): Linear(in_features=768, out_features=768, bias=True)\n",
       "              (LayerNorm): LayerNorm()\n",
       "              (dropout): Dropout(p=0.1)\n",
       "            )\n",
       "          )\n",
       "          (intermediate): ProteinBertIntermediate(\n",
       "            (dense): Linear(in_features=768, out_features=3072, bias=True)\n",
       "          )\n",
       "          (output): ProteinBertOutput(\n",
       "            (dense): Linear(in_features=3072, out_features=768, bias=True)\n",
       "            (LayerNorm): LayerNorm()\n",
       "            (dropout): Dropout(p=0.1)\n",
       "          )\n",
       "        )\n",
       "        (8): ProteinBertLayer(\n",
       "          (attention): ProteinBertAttention(\n",
       "            (self): ProteinBertSelfAttention(\n",
       "              (query): Linear(in_features=768, out_features=768, bias=True)\n",
       "              (key): Linear(in_features=768, out_features=768, bias=True)\n",
       "              (value): Linear(in_features=768, out_features=768, bias=True)\n",
       "              (dropout): Dropout(p=0.1)\n",
       "            )\n",
       "            (output): ProteinBertSelfOutput(\n",
       "              (dense): Linear(in_features=768, out_features=768, bias=True)\n",
       "              (LayerNorm): LayerNorm()\n",
       "              (dropout): Dropout(p=0.1)\n",
       "            )\n",
       "          )\n",
       "          (intermediate): ProteinBertIntermediate(\n",
       "            (dense): Linear(in_features=768, out_features=3072, bias=True)\n",
       "          )\n",
       "          (output): ProteinBertOutput(\n",
       "            (dense): Linear(in_features=3072, out_features=768, bias=True)\n",
       "            (LayerNorm): LayerNorm()\n",
       "            (dropout): Dropout(p=0.1)\n",
       "          )\n",
       "        )\n",
       "        (9): ProteinBertLayer(\n",
       "          (attention): ProteinBertAttention(\n",
       "            (self): ProteinBertSelfAttention(\n",
       "              (query): Linear(in_features=768, out_features=768, bias=True)\n",
       "              (key): Linear(in_features=768, out_features=768, bias=True)\n",
       "              (value): Linear(in_features=768, out_features=768, bias=True)\n",
       "              (dropout): Dropout(p=0.1)\n",
       "            )\n",
       "            (output): ProteinBertSelfOutput(\n",
       "              (dense): Linear(in_features=768, out_features=768, bias=True)\n",
       "              (LayerNorm): LayerNorm()\n",
       "              (dropout): Dropout(p=0.1)\n",
       "            )\n",
       "          )\n",
       "          (intermediate): ProteinBertIntermediate(\n",
       "            (dense): Linear(in_features=768, out_features=3072, bias=True)\n",
       "          )\n",
       "          (output): ProteinBertOutput(\n",
       "            (dense): Linear(in_features=3072, out_features=768, bias=True)\n",
       "            (LayerNorm): LayerNorm()\n",
       "            (dropout): Dropout(p=0.1)\n",
       "          )\n",
       "        )\n",
       "        (10): ProteinBertLayer(\n",
       "          (attention): ProteinBertAttention(\n",
       "            (self): ProteinBertSelfAttention(\n",
       "              (query): Linear(in_features=768, out_features=768, bias=True)\n",
       "              (key): Linear(in_features=768, out_features=768, bias=True)\n",
       "              (value): Linear(in_features=768, out_features=768, bias=True)\n",
       "              (dropout): Dropout(p=0.1)\n",
       "            )\n",
       "            (output): ProteinBertSelfOutput(\n",
       "              (dense): Linear(in_features=768, out_features=768, bias=True)\n",
       "              (LayerNorm): LayerNorm()\n",
       "              (dropout): Dropout(p=0.1)\n",
       "            )\n",
       "          )\n",
       "          (intermediate): ProteinBertIntermediate(\n",
       "            (dense): Linear(in_features=768, out_features=3072, bias=True)\n",
       "          )\n",
       "          (output): ProteinBertOutput(\n",
       "            (dense): Linear(in_features=3072, out_features=768, bias=True)\n",
       "            (LayerNorm): LayerNorm()\n",
       "            (dropout): Dropout(p=0.1)\n",
       "          )\n",
       "        )\n",
       "        (11): ProteinBertLayer(\n",
       "          (attention): ProteinBertAttention(\n",
       "            (self): ProteinBertSelfAttention(\n",
       "              (query): Linear(in_features=768, out_features=768, bias=True)\n",
       "              (key): Linear(in_features=768, out_features=768, bias=True)\n",
       "              (value): Linear(in_features=768, out_features=768, bias=True)\n",
       "              (dropout): Dropout(p=0.1)\n",
       "            )\n",
       "            (output): ProteinBertSelfOutput(\n",
       "              (dense): Linear(in_features=768, out_features=768, bias=True)\n",
       "              (LayerNorm): LayerNorm()\n",
       "              (dropout): Dropout(p=0.1)\n",
       "            )\n",
       "          )\n",
       "          (intermediate): ProteinBertIntermediate(\n",
       "            (dense): Linear(in_features=768, out_features=3072, bias=True)\n",
       "          )\n",
       "          (output): ProteinBertOutput(\n",
       "            (dense): Linear(in_features=3072, out_features=768, bias=True)\n",
       "            (LayerNorm): LayerNorm()\n",
       "            (dropout): Dropout(p=0.1)\n",
       "          )\n",
       "        )\n",
       "      )\n",
       "    )\n",
       "    (pooler): ProteinBertPooler(\n",
       "      (dense): Linear(in_features=768, out_features=768, bias=True)\n",
       "      (activation): Tanh()\n",
       "    )\n",
       "  )\n",
       "  (classifier): SimpleMLP(\n",
       "    (main): Sequential(\n",
       "      (0): Linear(in_features=768, out_features=512, bias=True)\n",
       "      (1): ReLU()\n",
       "      (2): Dropout(p=0.0, inplace)\n",
       "      (3): Linear(in_features=512, out_features=2, bias=True)\n",
       "    )\n",
       "  )\n",
       ")"
      ]
     },
     "metadata": {},
     "output_type": "display_data"
    }
   ],
   "source": [
    "model = experiment.load_eval_model()\n",
    "display(model)\n",
    "\n",
    "# Eval result recoder\n",
    "eval_recoder = PredResultRecoder(output_attentions=True, output_hidden_states=True)\n",
    "model.add_pred_listener(eval_recoder)"
   ]
  },
  {
   "cell_type": "markdown",
   "metadata": {},
   "source": [
    "## Model evaluations"
   ]
  },
  {
   "cell_type": "markdown",
   "metadata": {},
   "source": [
    "### Shomuradova <i>et al.</i>\n",
    "\n",
    "- Performance evaluation for the dataset containing COVID-19 S-protein<sub>266-277</sub>(YLQPRTFLL) epitope-specific CDR3βs from  Shomuradova <i>et al.</i>"
   ]
  },
  {
   "cell_type": "markdown",
   "metadata": {},
   "source": [
    "#### Loading eval dataset"
   ]
  },
  {
   "cell_type": "code",
   "execution_count": 50,
   "metadata": {
    "scrolled": true
   },
   "outputs": [
    {
     "name": "stdout",
     "output_type": "stream",
     "text": [
      "shomuradova\n"
     ]
    },
    {
     "data": {
      "text/html": [
       "<div>\n",
       "<style scoped>\n",
       "    .dataframe tbody tr th:only-of-type {\n",
       "        vertical-align: middle;\n",
       "    }\n",
       "\n",
       "    .dataframe tbody tr th {\n",
       "        vertical-align: top;\n",
       "    }\n",
       "\n",
       "    .dataframe thead th {\n",
       "        text-align: right;\n",
       "    }\n",
       "</style>\n",
       "<table border=\"1\" class=\"dataframe\">\n",
       "  <thead>\n",
       "    <tr style=\"text-align: right;\">\n",
       "      <th></th>\n",
       "      <th>epitope</th>\n",
       "      <th>epitope_gene</th>\n",
       "      <th>epitope_species</th>\n",
       "      <th>species</th>\n",
       "      <th>cdr3b</th>\n",
       "      <th>mhc</th>\n",
       "      <th>source</th>\n",
       "      <th>label</th>\n",
       "      <th>sentence</th>\n",
       "    </tr>\n",
       "  </thead>\n",
       "  <tbody>\n",
       "    <tr>\n",
       "      <th>YLQPRTFLL_CASSFQNTGELFF</th>\n",
       "      <td>YLQPRTFLL</td>\n",
       "      <td>Spike</td>\n",
       "      <td>SARS-CoV-2</td>\n",
       "      <td>HomoSapiens</td>\n",
       "      <td>CASSFQNTGELFF</td>\n",
       "      <td>HLA-A*02</td>\n",
       "      <td>Shomuradova</td>\n",
       "      <td>1</td>\n",
       "      <td>[2, 28, 15, 20, 19, 21, 23, 10, 15, 15, 7, 5, ...</td>\n",
       "    </tr>\n",
       "    <tr>\n",
       "      <th>YLQPRTFLL_CASSSVNNNEQFF</th>\n",
       "      <td>YLQPRTFLL</td>\n",
       "      <td>Spike</td>\n",
       "      <td>SARS-CoV-2</td>\n",
       "      <td>HomoSapiens</td>\n",
       "      <td>CASSSVNNNEQFF</td>\n",
       "      <td>HLA-A*02</td>\n",
       "      <td>Shomuradova</td>\n",
       "      <td>1</td>\n",
       "      <td>[2, 28, 15, 20, 19, 21, 23, 10, 15, 15, 7, 5, ...</td>\n",
       "    </tr>\n",
       "    <tr>\n",
       "      <th>YLQPRTFLL_CAVGEANTGELFF</th>\n",
       "      <td>YLQPRTFLL</td>\n",
       "      <td>Spike</td>\n",
       "      <td>SARS-CoV-2</td>\n",
       "      <td>HomoSapiens</td>\n",
       "      <td>CAVGEANTGELFF</td>\n",
       "      <td>HLA-A*02</td>\n",
       "      <td>Shomuradova</td>\n",
       "      <td>1</td>\n",
       "      <td>[2, 28, 15, 20, 19, 21, 23, 10, 15, 15, 7, 5, ...</td>\n",
       "    </tr>\n",
       "    <tr>\n",
       "      <th>YLQPRTFLL_CAYQEVNTGELFF</th>\n",
       "      <td>YLQPRTFLL</td>\n",
       "      <td>Spike</td>\n",
       "      <td>SARS-CoV-2</td>\n",
       "      <td>HomoSapiens</td>\n",
       "      <td>CAYQEVNTGELFF</td>\n",
       "      <td>HLA-A*02</td>\n",
       "      <td>Shomuradova</td>\n",
       "      <td>1</td>\n",
       "      <td>[2, 28, 15, 20, 19, 21, 23, 10, 15, 15, 7, 5, ...</td>\n",
       "    </tr>\n",
       "    <tr>\n",
       "      <th>YLQPRTFLL_CSARDDQAVNTGELFF</th>\n",
       "      <td>YLQPRTFLL</td>\n",
       "      <td>Spike</td>\n",
       "      <td>SARS-CoV-2</td>\n",
       "      <td>HomoSapiens</td>\n",
       "      <td>CSARDDQAVNTGELFF</td>\n",
       "      <td>HLA-A*02</td>\n",
       "      <td>Shomuradova</td>\n",
       "      <td>1</td>\n",
       "      <td>[2, 28, 15, 20, 19, 21, 23, 10, 15, 15, 7, 22,...</td>\n",
       "    </tr>\n",
       "  </tbody>\n",
       "</table>\n",
       "</div>"
      ],
      "text/plain": [
       "                              epitope epitope_gene epitope_species  \\\n",
       "YLQPRTFLL_CASSFQNTGELFF     YLQPRTFLL        Spike      SARS-CoV-2   \n",
       "YLQPRTFLL_CASSSVNNNEQFF     YLQPRTFLL        Spike      SARS-CoV-2   \n",
       "YLQPRTFLL_CAVGEANTGELFF     YLQPRTFLL        Spike      SARS-CoV-2   \n",
       "YLQPRTFLL_CAYQEVNTGELFF     YLQPRTFLL        Spike      SARS-CoV-2   \n",
       "YLQPRTFLL_CSARDDQAVNTGELFF  YLQPRTFLL        Spike      SARS-CoV-2   \n",
       "\n",
       "                                species             cdr3b       mhc  \\\n",
       "YLQPRTFLL_CASSFQNTGELFF     HomoSapiens     CASSFQNTGELFF  HLA-A*02   \n",
       "YLQPRTFLL_CASSSVNNNEQFF     HomoSapiens     CASSSVNNNEQFF  HLA-A*02   \n",
       "YLQPRTFLL_CAVGEANTGELFF     HomoSapiens     CAVGEANTGELFF  HLA-A*02   \n",
       "YLQPRTFLL_CAYQEVNTGELFF     HomoSapiens     CAYQEVNTGELFF  HLA-A*02   \n",
       "YLQPRTFLL_CSARDDQAVNTGELFF  HomoSapiens  CSARDDQAVNTGELFF  HLA-A*02   \n",
       "\n",
       "                                 source  label  \\\n",
       "YLQPRTFLL_CASSFQNTGELFF     Shomuradova      1   \n",
       "YLQPRTFLL_CASSSVNNNEQFF     Shomuradova      1   \n",
       "YLQPRTFLL_CAVGEANTGELFF     Shomuradova      1   \n",
       "YLQPRTFLL_CAYQEVNTGELFF     Shomuradova      1   \n",
       "YLQPRTFLL_CSARDDQAVNTGELFF  Shomuradova      1   \n",
       "\n",
       "                                                                     sentence  \n",
       "YLQPRTFLL_CASSFQNTGELFF     [2, 28, 15, 20, 19, 21, 23, 10, 15, 15, 7, 5, ...  \n",
       "YLQPRTFLL_CASSSVNNNEQFF     [2, 28, 15, 20, 19, 21, 23, 10, 15, 15, 7, 5, ...  \n",
       "YLQPRTFLL_CAVGEANTGELFF     [2, 28, 15, 20, 19, 21, 23, 10, 15, 15, 7, 5, ...  \n",
       "YLQPRTFLL_CAYQEVNTGELFF     [2, 28, 15, 20, 19, 21, 23, 10, 15, 15, 7, 5, ...  \n",
       "YLQPRTFLL_CSARDDQAVNTGELFF  [2, 28, 15, 20, 19, 21, 23, 10, 15, 15, 7, 22,...  "
      ]
     },
     "metadata": {},
     "output_type": "display_data"
    },
    {
     "data": {
      "text/plain": [
       "(610, 9)"
      ]
     },
     "metadata": {},
     "output_type": "display_data"
    },
    {
     "data": {
      "text/html": [
       "<div>\n",
       "<style scoped>\n",
       "    .dataframe tbody tr th:only-of-type {\n",
       "        vertical-align: middle;\n",
       "    }\n",
       "\n",
       "    .dataframe tbody tr th {\n",
       "        vertical-align: top;\n",
       "    }\n",
       "\n",
       "    .dataframe thead th {\n",
       "        text-align: right;\n",
       "    }\n",
       "</style>\n",
       "<table border=\"1\" class=\"dataframe\">\n",
       "  <thead>\n",
       "    <tr style=\"text-align: right;\">\n",
       "      <th></th>\n",
       "      <th>Epitope species</th>\n",
       "      <th>Epitope gene</th>\n",
       "      <th>Epitope</th>\n",
       "      <th>MHC</th>\n",
       "      <th>Samples</th>\n",
       "      <th>Positives</th>\n",
       "    </tr>\n",
       "  </thead>\n",
       "  <tbody>\n",
       "    <tr>\n",
       "      <th>0</th>\n",
       "      <td>SARS-CoV-2</td>\n",
       "      <td>Spike</td>\n",
       "      <td>YLQPRTFLL</td>\n",
       "      <td>HLA-A*02</td>\n",
       "      <td>610</td>\n",
       "      <td>305</td>\n",
       "    </tr>\n",
       "  </tbody>\n",
       "</table>\n",
       "</div>"
      ],
      "text/plain": [
       "  Epitope species Epitope gene    Epitope       MHC  Samples  Positives\n",
       "0      SARS-CoV-2        Spike  YLQPRTFLL  HLA-A*02      610        305"
      ]
     },
     "execution_count": 50,
     "metadata": {},
     "output_type": "execute_result"
    }
   ],
   "source": [
    "from torch.utils.data import DataLoader\n",
    "from tcrbert.dataset import TCREpitopeSentenceDataset\n",
    "import numpy as np\n",
    "from tcrbert.dataset import CN\n",
    "from tcrbert.bioseq import write_fa\n",
    "\n",
    "epitope = 'YLQPRTFLL'\n",
    "\n",
    "sh_ds = TCREpitopeSentenceDataset.from_key('shomuradova')\n",
    "sh_df = sh_ds.df_enc\n",
    "\n",
    "print(sh_ds.name)\n",
    "display(sh_df.head(), sh_df.shape)\n",
    "summary_df(sh_df)"
   ]
  },
  {
   "cell_type": "markdown",
   "metadata": {},
   "source": [
    "#### Performance evaluation for Shomuradova dataset"
   ]
  },
  {
   "cell_type": "code",
   "execution_count": 51,
   "metadata": {},
   "outputs": [
    {
     "name": "stdout",
     "output_type": "stream",
     "text": [
      "Populating the interactive namespace from numpy and matplotlib\n",
      "2021-11-16 21:58:51 [INFO]: ======================\n",
      "2021-11-16 21:58:51 [INFO]: Begin predict...\n",
      "2021-11-16 21:58:51 [INFO]: use_cuda, device: False, cpu\n",
      "2021-11-16 21:58:51 [INFO]: n_data: 610\n",
      "2021-11-16 21:58:51 [INFO]: batch_size: 610\n",
      "2021-11-16 21:58:51 [INFO]: [PredResultRecoder]: on_predict_begin...\n",
      "2021-11-16 21:58:51 [INFO]: Begin 0/1 prediction batch\n",
      "2021-11-16 21:59:13 [INFO]: End 0/1 prediction batch\n",
      "2021-11-16 21:59:13 [INFO]: [PredResultRecoder]: on_predict_end...\n",
      "2021-11-16 21:59:16 [INFO]: Done to predict...\n",
      "2021-11-16 21:59:16 [INFO]: ======================\n",
      "score_map: OrderedDict([('accuracy', 0.9426229508196722), ('f1', 0.942339373970346), ('roc_auc', 0.980462241332975)])\n"
     ]
    },
    {
     "data": {
      "text/plain": [
       "<matplotlib.legend.Legend at 0x7fed2f402790>"
      ]
     },
     "execution_count": 51,
     "metadata": {},
     "output_type": "execute_result"
    },
    {
     "data": {
      "image/png": "[encoded data removed]",
      "text/plain": [
       "<Figure size 432x288 with 1 Axes>"
      ]
     },
     "metadata": {
      "needs_background": "light"
     },
     "output_type": "display_data"
    }
   ],
   "source": [
    "%pylab inline\n",
    "\n",
    "import matplotlib.pyplot as plt\n",
    "import seaborn as sns\n",
    "from sklearn.metrics import roc_curve, auc\n",
    "import numpy as np\n",
    "\n",
    "metrics = ['accuracy', 'f1', 'roc_auc']\n",
    "\n",
    "data_loader = DataLoader(sh_ds, batch_size=len(sh_ds), shuffle=False, num_workers=2)\n",
    "model.predict(data_loader=data_loader, metrics=metrics)\n",
    "print('score_map: %s' % eval_recoder.result_map['score_map'])\n",
    "\n",
    "input_labels  = np.array(eval_recoder.result_map['input_labels'])\n",
    "output_labels = np.array(eval_recoder.result_map['output_labels'])\n",
    "output_probs  = np.array(eval_recoder.result_map['output_probs'])\n",
    "\n",
    "fpr, tpr, _ = roc_curve(input_labels, output_probs)\n",
    "score = auc(fpr, tpr)\n",
    "plt.plot(fpr, tpr, color='darkorange', label='ROC curve (AUROC = %0.3f)' % score)\n",
    "plt.plot([0, 1], [0, 1], color='navy', linestyle='--')\n",
    "plt.xlim([0.0, 1.0])\n",
    "plt.ylim([0.0, 1.05])\n",
    "plt.xlabel('False Positive Rate')\n",
    "plt.ylabel('True Positive Rate')\n",
    "plt.legend(loc=\"lower right\")\n",
    "\n",
    "\n",
    "\n",
    "# Epitope-specific ROC curves\n",
    "# epitopes = sh_df[CN.epitope].unique()\n",
    "\n",
    "# fig, axes = plt.subplots(nrows=epitopes.shape[0], ncols=1)\n",
    "# fig.set_figwidth(5)\n",
    "# fig.set_figheight(4*len(epitopes))\n",
    "# plt.tight_layout(h_pad=5, w_pad=3)\n",
    "\n",
    "# for i, epitope in enumerate(epitopes):\n",
    "#     indices = np.where(sh_df[CN.epitope] == epitope)[0]\n",
    "# #     title = '%s-specific CDR3βs' % epitope\n",
    "#     print(indices, len(indices))\n",
    "#     title = None\n",
    "#     ax = axes[i] if epitopes.shape[0] > 1 else axes\n",
    "#     show_roc_curve(input_labels[indices], output_probs[indices], title=title, ax=ax)"
   ]
  },
  {
   "cell_type": "markdown",
   "metadata": {},
   "source": [
    "#### Investigating position-wise attention weights \n",
    "\n",
    "##### Selecting target CDR3β sequences with most common lengths and predicted as a binder"
   ]
  },
  {
   "cell_type": "code",
   "execution_count": 52,
   "metadata": {
    "scrolled": false
   },
   "outputs": [
    {
     "name": "stdout",
     "output_type": "stream",
     "text": [
      "Populating the interactive namespace from numpy and matplotlib\n",
      "cum_ratio: 159/302=0.5264900662251656\n",
      "target_indices for 13: [  0   1   2   3   5   7   9  11  13  15  18  19  20  21  22  23  24  25\n",
      "  27  32  33  35  37  38  39  43  51  52  57  59  62  65  67  70  71  72\n",
      "  74  75  76  78  79  81  82  88  89  90  91  92  93  94  97  99 100 110\n",
      " 111 113 115 117 118 119 120 122 123 124 127 129 134 138 139 142 146 147\n",
      " 149 150 153 154 155 156 158 160 161 162 166 168 169 170 172 173 174 175\n",
      " 176 177 178 179 180 185 186 188 189 190 192 193 194 197 198 201 202 203\n",
      " 207 211 213 217 219 220 223 225 228 231 232 233 234 235 237 238 239 240\n",
      " 243 244 245 247 250 251 252 254 256 260 261 263 266 267 268 270 271 273\n",
      " 275 277 279 280 287 289 290 291 292 294 295 296 298 299 533](159)\n",
      "cum_ratio: 221/302=0.7317880794701986\n",
      "target_indices for 16: [  4  29  34  40  41  42  44  53  56  60  61  63  83  96 103 105 106 107\n",
      " 108 112 114 121 132 133 157 164 165 167 171 182 184 191 199 200 204 208\n",
      " 212 215 216 224 226 236 241 249 253 255 257 259 264 265 269 272 276 278\n",
      " 283 284 286 293 300 301 302 303](62)\n",
      "cum_ratio: 256/302=0.847682119205298\n",
      "target_indices for 11: [  6   8  10  12  14  17  26  36  48  49  50  55  58  64  69  85  86  95\n",
      "  98 130 135 141 143 163 187 195 206 210 218 227 229 248 262 370 403](35)\n",
      "cum_ratio: 284/302=0.9403973509933775\n",
      "cum_ratio: 290/302=0.9602649006622517\n",
      "cum_ratio: 295/302=0.9768211920529801\n",
      "cum_ratio: 299/302=0.9900662251655629\n",
      "cum_ratio: 302/302=1.0\n"
     ]
    },
    {
     "data": {
      "image/png": "[encoded data removed]",
      "text/plain": [
       "<Figure size 432x288 with 1 Axes>"
      ]
     },
     "metadata": {
      "needs_background": "light"
     },
     "output_type": "display_data"
    }
   ],
   "source": [
    "%pylab inline\n",
    "\n",
    "import matplotlib.pyplot as plt\n",
    "import matplotlib.image as image\n",
    "\n",
    "import seaborn as sns\n",
    "from collections import Counter, OrderedDict\n",
    "\n",
    "pos_indices = np.where(output_labels == 1)[0]\n",
    "# print('pos_indices: %s(%s)' % (pos_indices, str(pos_indices.shape)))\n",
    "pos_cdr3b = sh_df[CN.cdr3b].values[pos_indices]\n",
    "\n",
    "##########################################\n",
    "lens, cnts = zip(*sorted(Counter(map(lambda x: len(x), pos_cdr3b)).items()))\n",
    "lens = np.array(lens)\n",
    "cnts = np.array(cnts)\n",
    "ax = sns.barplot(x=lens, y=cnts, color='blue')\n",
    "ax.set_title('Length distribution of postives')\n",
    "ax.set_xlabel('CDR3β sequence length')\n",
    "ax.set_ylabel('# of positives')\n",
    "\n",
    "# Select target indices by cdr3b sequence lenghts\n",
    "target_index_map = OrderedDict()\n",
    "order = np.argsort(cnts)[::-1]\n",
    "cum_cnt = 0\n",
    "for cur_len, cur_cnt in zip(lens[order], cnts[order]):\n",
    "    cum_cnt += cur_cnt\n",
    "    cum_ratio = cum_cnt/pos_indices.shape[0]\n",
    "    print('cum_ratio: %s/%s=%s' % (cum_cnt, pos_indices.shape[0], cum_ratio))\n",
    "    if cum_ratio < 0.9:\n",
    "        target_indices = np.where((output_labels == 1) & (sh_df[CN.cdr3b].map(lambda x: len(x) == cur_len)))[0]\n",
    "        print('target_indices for %s: %s(%s)' % (cur_len, target_indices, target_indices.shape[0]))\n",
    "        target_index_map[cur_len] = target_indices\n",
    "\n"
   ]
  },
  {
   "cell_type": "markdown",
   "metadata": {},
   "source": [
    "##### Marginalized position-wise attention weights for target YLQPRTFLL-CDR3b sequences \n",
    "\n",
    "- The output attention weights have the dimension $(L, N, H, S, S)$, where $L$ is the number of encoding layers, $N$ is the number of YLQPRTFLL-CDR3β sequence pairs, $H$ is the number of attention heads, and $S$ is the fixed-length of the sequences. The attention weights were marginalized into a one-dimensional vector of length of $S$. A value of the vector at the position $m$, $Am$ is given by the following equation:\n",
    "\n",
    "<img src='res/eq1.png' width='50%'>"
   ]
  },
  {
   "cell_type": "code",
   "execution_count": 53,
   "metadata": {
    "scrolled": false
   },
   "outputs": [
    {
     "name": "stdout",
     "output_type": "stream",
     "text": [
      "Populating the interactive namespace from numpy and matplotlib\n",
      "attentions.shape: (12, 610, 12, 40, 40)\n",
      "Attention weights for 13: [0.01910887 0.0179613  0.01973714 0.02477849 0.01948013 0.01740976\n",
      " 0.01900532 0.01822388 0.01893266 0.02441667 0.01896947 0.02572736\n",
      " 0.02743797 0.04475417 0.04124944 0.04041077 0.03960473 0.03146686\n",
      " 0.0290944  0.02959589 0.02391365 0.026086  ]\n",
      "Attention weights for 16: [0.01880863 0.01630818 0.01778503 0.02330432 0.01905179 0.01686901\n",
      " 0.01948565 0.01802048 0.01873603 0.02190986 0.01850647 0.02340156\n",
      " 0.02902398 0.04218578 0.04262356 0.03521042 0.03835867 0.04506871\n",
      " 0.03318812 0.02880196 0.02597458 0.02519257 0.02197142 0.02124949\n",
      " 0.02519121]\n",
      "Attention weights for 11: [0.01851932 0.01812305 0.02129371 0.02367177 0.01928474 0.01703554\n",
      " 0.0200285  0.0179186  0.01996592 0.02376263 0.02014127 0.02324174\n",
      " 0.02296821 0.03928088 0.04920531 0.0431544  0.0341846  0.03139623\n",
      " 0.02781255 0.03191699]\n"
     ]
    },
    {
     "data": {
      "image/png": "[encoded data removed]",
      "text/plain": [
       "<Figure size 504x864 with 3 Axes>"
      ]
     },
     "metadata": {
      "needs_background": "light"
     },
     "output_type": "display_data"
    }
   ],
   "source": [
    "%pylab inline\n",
    "\n",
    "# n_layers = model.config.num_hidden_layers\n",
    "# n_data = len(eval_ds)\n",
    "# n_heads = model.config.num_attention_heads\n",
    "# max_len = eval_ds.max_len\n",
    "\n",
    "epitope_len = len(epitope)\n",
    "\n",
    "attentions = eval_recoder.result_map['attentions']\n",
    "# attentions.shape: (n_layers, n_data, n_heads, max_len, max_len)\n",
    "print('attentions.shape: %s' % str(attentions.shape))\n",
    "\n",
    "# target_attn_map = OrderedDict()\n",
    "\n",
    "fig, axes = plt.subplots(nrows=3, ncols=1)\n",
    "fig.set_figwidth(7)\n",
    "fig.set_figheight(12)\n",
    "plt.tight_layout(h_pad=3, w_pad=3)\n",
    "\n",
    "for i, (cur_len, cur_indices) in enumerate(target_index_map.items()):\n",
    "    attns = attentions[:, cur_indices]\n",
    "    sent_len = epitope_len + cur_len\n",
    "    \n",
    "    # Position-wise marginal attentions by mean\n",
    "    attns = np.mean(attns, axis=(0, 1, 2, 3))[1:sent_len+1]\n",
    "    print('Attention weights for %s: %s' % (cur_len, attns))\n",
    "    \n",
    "    ax = pd.Series(attns).plot(kind='bar', ax=axes[i], rot=0)\n",
    "    ax.set_title('%smer CDR3β sequences' % cur_len)\n",
    "\n",
    "    ticks = list(epitope) + list(range(1, cur_len + 1))\n",
    "    mark_ratio = 0.1\n",
    "    mark_pos = []\n",
    "\n",
    "    for rank, pos in enumerate(np.argsort(attns[:epitope_len])[::-1]):\n",
    "        if rank < (epitope_len*mark_ratio):\n",
    "            ticks[pos] = '%s\\n•' % (ticks[pos])\n",
    "            mark_pos.append(pos)\n",
    "\n",
    "    for rank, pos in enumerate(np.argsort(attns[epitope_len:])[::-1]):\n",
    "        if rank < (cur_len*mark_ratio):\n",
    "            ticks[epitope_len+pos] = '%s\\n•' % (ticks[epitope_len+pos])\n",
    "            mark_pos.append(epitope_len+pos)\n",
    "\n",
    "    ax.set_xticklabels(ticks) \n",
    "    for i, tick in enumerate(ax.get_xticklabels()):\n",
    "        if i < epitope_len:\n",
    "            tick.set_color('green')\n",
    "        else:\n",
    "            tick.set_color('black')\n",
    "        if i in mark_pos:\n",
    "            tick.set_color('darkred')"
   ]
  },
  {
   "cell_type": "markdown",
   "metadata": {},
   "source": [
    "### ImmuneCODE dataset\n",
    "\n",
    "-  The dataset contained 718 COVID-19 S-protein<sub>269-277</sub>-specific TCRs from the ImmuneRACE study launched by Adaptive Biotechnologies and Microsoft (https://immunerace.adaptivebiotech.com, June 10, 2020 dataset, from hereafter referred to as ImmuneCODE dataset"
   ]
  },
  {
   "cell_type": "markdown",
   "metadata": {},
   "source": [
    "#### Loading eval dataset"
   ]
  },
  {
   "cell_type": "code",
   "execution_count": 54,
   "metadata": {},
   "outputs": [
    {
     "data": {
      "text/plain": [
       "'immunecode'"
      ]
     },
     "metadata": {},
     "output_type": "display_data"
    },
    {
     "data": {
      "text/plain": [
       "742"
      ]
     },
     "metadata": {},
     "output_type": "display_data"
    },
    {
     "name": "stdout",
     "output_type": "stream",
     "text": [
      "After removing duplicates, len(im_ds): 718\n"
     ]
    },
    {
     "data": {
      "text/html": [
       "<div>\n",
       "<style scoped>\n",
       "    .dataframe tbody tr th:only-of-type {\n",
       "        vertical-align: middle;\n",
       "    }\n",
       "\n",
       "    .dataframe tbody tr th {\n",
       "        vertical-align: top;\n",
       "    }\n",
       "\n",
       "    .dataframe thead th {\n",
       "        text-align: right;\n",
       "    }\n",
       "</style>\n",
       "<table border=\"1\" class=\"dataframe\">\n",
       "  <thead>\n",
       "    <tr style=\"text-align: right;\">\n",
       "      <th></th>\n",
       "      <th>Epitope species</th>\n",
       "      <th>Epitope gene</th>\n",
       "      <th>Epitope</th>\n",
       "      <th>MHC</th>\n",
       "      <th>Samples</th>\n",
       "      <th>Positives</th>\n",
       "    </tr>\n",
       "  </thead>\n",
       "  <tbody>\n",
       "    <tr>\n",
       "      <th>0</th>\n",
       "      <td>SARS-CoV-2</td>\n",
       "      <td>Spike</td>\n",
       "      <td>YLQPRTFLL</td>\n",
       "      <td>-</td>\n",
       "      <td>718</td>\n",
       "      <td>328</td>\n",
       "    </tr>\n",
       "  </tbody>\n",
       "</table>\n",
       "</div>"
      ],
      "text/plain": [
       "  Epitope species Epitope gene    Epitope MHC  Samples  Positives\n",
       "0      SARS-CoV-2        Spike  YLQPRTFLL   -      718        328"
      ]
     },
     "metadata": {},
     "output_type": "display_data"
    },
    {
     "data": {
      "text/plain": [
       "(718, 9)"
      ]
     },
     "metadata": {},
     "output_type": "display_data"
    }
   ],
   "source": [
    "im_ds = TCREpitopeSentenceDataset.from_key('immunecode')\n",
    "display(im_ds.name, len(im_ds))\n",
    "\n",
    "# Remove duplicated CDR3beta seqs with Shomuradova\n",
    "im_ds.df_enc = im_ds.df_enc[\n",
    "        im_ds.df_enc[CN.cdr3b].map(lambda seq: seq not in sh_df[CN.cdr3b].values)\n",
    "]\n",
    "im_df = im_ds.df_enc\n",
    "print('After removing duplicates, len(im_ds): %s' % len(im_ds))\n",
    "display(summary_df(im_df), im_df.shape)"
   ]
  },
  {
   "cell_type": "markdown",
   "metadata": {},
   "source": [
    "#### Performance evaluation for the ImmuneCODE dataset"
   ]
  },
  {
   "cell_type": "code",
   "execution_count": 55,
   "metadata": {},
   "outputs": [
    {
     "name": "stdout",
     "output_type": "stream",
     "text": [
      "Populating the interactive namespace from numpy and matplotlib\n",
      "2021-11-16 21:59:41 [INFO]: ======================\n",
      "2021-11-16 21:59:41 [INFO]: Begin predict...\n",
      "2021-11-16 21:59:41 [INFO]: use_cuda, device: False, cpu\n",
      "2021-11-16 21:59:41 [INFO]: n_data: 718\n",
      "2021-11-16 21:59:41 [INFO]: batch_size: 718\n",
      "2021-11-16 21:59:41 [INFO]: [PredResultRecoder]: on_predict_begin...\n",
      "2021-11-16 21:59:42 [INFO]: Begin 0/1 prediction batch\n",
      "2021-11-16 22:00:11 [INFO]: End 0/1 prediction batch\n",
      "2021-11-16 22:00:12 [INFO]: [PredResultRecoder]: on_predict_end...\n",
      "2021-11-16 22:00:15 [INFO]: Done to predict...\n",
      "2021-11-16 22:00:15 [INFO]: ======================\n",
      "score_map: OrderedDict([('accuracy', 0.9707520891364902), ('f1', 0.9683257918552036), ('roc_auc', 0.9902087242026267)])\n"
     ]
    },
    {
     "data": {
      "image/png": "[encoded data removed]",
      "text/plain": [
       "<Figure size 432x288 with 1 Axes>"
      ]
     },
     "metadata": {
      "needs_background": "light"
     },
     "output_type": "display_data"
    }
   ],
   "source": [
    "%pylab inline\n",
    "\n",
    "from sklearn.metrics import roc_curve, auc\n",
    "\n",
    "data_loader = DataLoader(im_ds, batch_size=len(im_ds), shuffle=False, num_workers=2)\n",
    "model.predict(data_loader=data_loader, metrics=metrics)\n",
    "\n",
    "input_labels  = np.array(eval_recoder.result_map['input_labels'])\n",
    "output_labels = np.array(eval_recoder.result_map['output_labels'])\n",
    "output_probs  = np.array(eval_recoder.result_map['output_probs'])\n",
    "\n",
    "fpr, tpr, _ = roc_curve(input_labels, output_probs)\n",
    "score = auc(fpr, tpr)\n",
    "plt.plot(fpr, tpr, color='darkorange', label='ROC curve (AUROC = %0.3f)' % score)\n",
    "plt.plot([0, 1], [0, 1], color='navy', linestyle='--')\n",
    "plt.xlim([0.0, 1.0])\n",
    "plt.ylim([0.0, 1.05])\n",
    "plt.xlabel('False Positive Rate')\n",
    "plt.ylabel('True Positive Rate')\n",
    "plt.legend(loc=\"lower right\")\n",
    "\n",
    "print('score_map: %s' % eval_recoder.result_map['score_map'])"
   ]
  },
  {
   "cell_type": "markdown",
   "metadata": {},
   "source": [
    "#### Investigating position-wise attention weights\n",
    "\n",
    "##### Selecting target CDR3β sequences with most common lengths and predicted as a binder"
   ]
  },
  {
   "cell_type": "code",
   "execution_count": 56,
   "metadata": {},
   "outputs": [
    {
     "name": "stdout",
     "output_type": "stream",
     "text": [
      "Populating the interactive namespace from numpy and matplotlib\n",
      "cum_ratio: 162/335=0.4835820895522388\n",
      "target_indices for 13: [  0   2   5   9  10  11  16  17  18  19  21  23  26  27  28  30  32  33\n",
      "  36  40  41  42  43  44  45  46  47  48  51  55  56  60  63  65  68  69\n",
      "  71  72  74  75  77  81  84  85  86  87  90  93  94 100 105 106 107 109\n",
      " 110 111 112 113 114 115 118 126 127 129 131 133 135 138 140 145 147 148\n",
      " 151 154 156 157 163 166 167 168 170 172 174 175 176 177 181 183 184 188\n",
      " 190 192 194 196 199 200 201 202 203 204 207 208 209 210 211 216 219 220\n",
      " 222 223 224 226 230 231 233 234 235 239 247 254 255 256 258 259 260 261\n",
      " 263 264 265 269 280 281 282 283 286 289 290 292 293 295 297 298 299 304\n",
      " 306 308 310 312 314 317 318 319 320 321 323 324 325 326 327 406 422 648](162)\n",
      "cum_ratio: 222/335=0.6626865671641791\n",
      "target_indices for 14: [  7  22  29  37  39  49  52  53  54  78  82  83  88 101 102 103 104 108\n",
      " 117 120 121 128 134 136 142 144 150 152 159 160 161 164 178 179 185 186\n",
      " 193 205 212 213 229 236 238 242 248 273 279 285 287 291 294 296 300 301\n",
      " 303 485 499 505 597 682](60)\n",
      "cum_ratio: 280/335=0.835820895522388\n",
      "target_indices for 16: [  3  12  13  14  24  25  35  38  58  61  62  64  67  73  79  80  89  91\n",
      "  92  95  96  98 116 122 124 125 130 137 139 141 149 153 158 162 165 182\n",
      " 197 198 206 214 217 225 228 232 237 241 245 250 271 275 277 288 302 305\n",
      " 307 311 316 535](58)\n",
      "cum_ratio: 296/335=0.8835820895522388\n",
      "cum_ratio: 311/335=0.9283582089552239\n",
      "cum_ratio: 320/335=0.9552238805970149\n",
      "cum_ratio: 328/335=0.9791044776119403\n",
      "cum_ratio: 331/335=0.9880597014925373\n",
      "cum_ratio: 333/335=0.9940298507462687\n",
      "cum_ratio: 335/335=1.0\n"
     ]
    },
    {
     "data": {
      "image/png": "[encoded data removed]",
      "text/plain": [
       "<Figure size 432x288 with 1 Axes>"
      ]
     },
     "metadata": {
      "needs_background": "light"
     },
     "output_type": "display_data"
    }
   ],
   "source": [
    "%pylab inline\n",
    "\n",
    "import matplotlib.pyplot as plt\n",
    "import matplotlib.image as image\n",
    "\n",
    "import seaborn as sns\n",
    "from collections import Counter, OrderedDict\n",
    "\n",
    "pos_indices = np.where(output_labels == 1)[0]\n",
    "# print('pos_indices: %s(%s)' % (pos_indices, str(pos_indices.shape)))\n",
    "pos_cdr3b = im_df[CN.cdr3b].values[pos_indices]\n",
    "\n",
    "##########################################\n",
    "lens, cnts = zip(*sorted(Counter(map(lambda x: len(x), pos_cdr3b)).items()))\n",
    "lens = np.array(lens)\n",
    "cnts = np.array(cnts)\n",
    "ax = sns.barplot(x=lens, y=cnts, color='blue')\n",
    "ax.set_title('Length distribution of postives')\n",
    "ax.set_xlabel('Length')\n",
    "\n",
    "# Select target indices by cdr3b sequence lenghts\n",
    "target_index_map = OrderedDict()\n",
    "order = np.argsort(cnts)[::-1]\n",
    "cum_cnt = 0\n",
    "for cur_len, cur_cnt in zip(lens[order], cnts[order]):\n",
    "    cum_cnt += cur_cnt\n",
    "    cum_ratio = cum_cnt/pos_indices.shape[0]\n",
    "    print('cum_ratio: %s/%s=%s' % (cum_cnt, pos_indices.shape[0], cum_ratio))\n",
    "    if cum_ratio < 0.85:\n",
    "        target_indices = np.where((output_labels == 1) & (im_df[CN.cdr3b].map(lambda x: len(x) == cur_len)))[0]\n",
    "        print('target_indices for %s: %s(%s)' % (cur_len, target_indices, target_indices.shape[0]))\n",
    "        target_index_map[cur_len] = target_indices\n"
   ]
  },
  {
   "cell_type": "markdown",
   "metadata": {},
   "source": [
    "##### Marginalized position-wise attention weights for target YLQPRTFLL-CDR3b sequences "
   ]
  },
  {
   "cell_type": "code",
   "execution_count": 57,
   "metadata": {},
   "outputs": [
    {
     "name": "stdout",
     "output_type": "stream",
     "text": [
      "Populating the interactive namespace from numpy and matplotlib\n",
      "attentions.shape: (12, 718, 12, 40, 40)\n",
      "Current attns for 13: [0.01656112 0.01646522 0.02022249 0.02097218 0.01862695 0.01718343\n",
      " 0.01560583 0.01641221 0.01763443 0.02272799 0.01940311 0.02762335\n",
      " 0.03012449 0.04839429 0.04504769 0.04432626 0.04259143 0.03211622\n",
      " 0.03023707 0.03137943 0.0224603  0.02500178]\n",
      "Current attns for 14: [0.01604391 0.01599983 0.02082858 0.02031975 0.01891712 0.0170706\n",
      " 0.01600923 0.01614624 0.01754919 0.01931873 0.02231514 0.0255737\n",
      " 0.03187513 0.04038894 0.04592648 0.05056289 0.04457226 0.04065126\n",
      " 0.02988513 0.0291209  0.02616752 0.02136733 0.02354312]\n",
      "Current attns for 16: [0.01620361 0.01487183 0.01840162 0.01970023 0.01804639 0.01689658\n",
      " 0.01644257 0.01632515 0.01710964 0.01997712 0.01833138 0.02462533\n",
      " 0.02972515 0.04228593 0.04342785 0.04169411 0.04379743 0.04711964\n",
      " 0.03700148 0.03179613 0.02709892 0.02510061 0.02230474 0.01970927\n",
      " 0.02342939]\n"
     ]
    },
    {
     "data": {
      "image/png": "[encoded data removed]",
      "text/plain": [
       "<Figure size 504x864 with 3 Axes>"
      ]
     },
     "metadata": {
      "needs_background": "light"
     },
     "output_type": "display_data"
    }
   ],
   "source": [
    "%pylab inline\n",
    "\n",
    "# n_layers = model.config.num_hidden_layers\n",
    "# n_data = len(eval_ds)\n",
    "# n_heads = model.config.num_attention_heads\n",
    "# max_len = eval_ds.max_len\n",
    "\n",
    "epitope_len = len(epitope)\n",
    "\n",
    "attentions = eval_recoder.result_map['attentions']\n",
    "# attentions.shape: (n_layers, n_data, n_heads, max_len, max_len)\n",
    "print('attentions.shape: %s' % str(attentions.shape))\n",
    "\n",
    "# target_attn_map = OrderedDict()\n",
    "\n",
    "fig, axes = plt.subplots(nrows=3, ncols=1)\n",
    "fig.set_figwidth(7)\n",
    "fig.set_figheight(12)\n",
    "plt.tight_layout(h_pad=3, w_pad=3)\n",
    "\n",
    "for i, (cur_len, cur_indices) in enumerate(target_index_map.items()):\n",
    "    attns = attentions[:, cur_indices]\n",
    "    sent_len = epitope_len + cur_len\n",
    "    \n",
    "    # Position-wise marginal attentions by mean\n",
    "    attns = np.mean(attns[-10:], axis=(0, 1, 2, 3))[1:sent_len+1]\n",
    "    print('Current attns for %s: %s' % (cur_len, attns))\n",
    "    \n",
    "    ax = pd.Series(attns).plot(kind='bar', ax=axes[i], rot=0)\n",
    "    ax.set_title('%smer CDR3β sequences' % cur_len)\n",
    "\n",
    "    ticks = list(epitope) + list(range(1, cur_len + 1))\n",
    "    mark_ratio = 0.1\n",
    "    mark_pos = []\n",
    "\n",
    "    for rank, pos in enumerate(np.argsort(attns[:epitope_len])[::-1]):\n",
    "        if rank < (epitope_len*mark_ratio):\n",
    "            ticks[pos] = '%s\\n•' % (ticks[pos])\n",
    "            mark_pos.append(pos)\n",
    "\n",
    "    for rank, pos in enumerate(np.argsort(attns[epitope_len:])[::-1]):\n",
    "        if rank < (cur_len*mark_ratio):\n",
    "            ticks[epitope_len+pos] = '%s\\n•' % (ticks[epitope_len+pos])\n",
    "            mark_pos.append(epitope_len+pos)\n",
    "\n",
    "    ax.set_xticklabels(ticks) \n",
    "    for i, tick in enumerate(ax.get_xticklabels()):\n",
    "        if i < epitope_len:\n",
    "            tick.set_color('darkgreen')\n",
    "        else:\n",
    "            tick.set_color('black')\n",
    "        if i in mark_pos:\n",
    "            tick.set_color('darkred')\n",
    "    \n"
   ]
  }
 ],
 "metadata": {
  "kernelspec": {
   "display_name": "Python 3",
   "language": "python",
   "name": "python3"
  },
  "language_info": {
   "codemirror_mode": {
    "name": "ipython",
    "version": 3
   },
   "file_extension": ".py",
   "mimetype": "text/x-python",
   "name": "python",
   "nbconvert_exporter": "python",
   "pygments_lexer": "ipython3",
   "version": "3.7.8"
  },
  "toc": {
   "base_numbering": 1,
   "nav_menu": {},
   "number_sections": true,
   "sideBar": true,
   "skip_h1_title": false,
   "title_cell": "Table of Contents",
   "title_sidebar": "Contents",
   "toc_cell": false,
   "toc_position": {},
   "toc_section_display": true,
   "toc_window_display": true
  },
  "varInspector": {
   "cols": {
    "lenName": 16,
    "lenType": 16,
    "lenVar": 40
   },
   "kernels_config": {
    "python": {
     "delete_cmd_postfix": "",
     "delete_cmd_prefix": "del ",
     "library": "var_list.py",
     "varRefreshCmd": "print(var_dic_list())"
    },
    "r": {
     "delete_cmd_postfix": ") ",
     "delete_cmd_prefix": "rm(",
     "library": "var_list.r",
     "varRefreshCmd": "cat(var_dic_list()) "
    }
   },
   "position": {
    "height": "639px",
    "left": "1740px",
    "right": "20px",
    "top": "120px",
    "width": "800px"
   },
   "types_to_exclude": [
    "module",
    "function",
    "builtin_function_or_method",
    "instance",
    "_Feature"
   ],
   "window_display": false
  }
 },
 "nbformat": 4,
 "nbformat_minor": 1
}
