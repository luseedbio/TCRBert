{
 "cells": [
  {
   "cell_type": "markdown",
   "metadata": {},
   "source": [
    "# Experiment 1\n",
    "- Pre-trained model: BERT-based TAPE model => 12개의 encoder layers\n",
    "\n",
    "- Fine-tuning rounds:\n",
    "    - Round 1\n",
    "        - 말단 10개의 encoder와 classifier를 Dash, VDJdb, McPAS 데이터를 사용하여 fine-tuning\n",
    "        - 150 epochs with early stopping until 15 epochs\n",
    "        - Adam optimizer with lr: 1e-4\n",
    "    - Round 2\n",
    "        - 말단 6개 encoder와 classifier를 IEDB SARS-2 데이터를 사용하여 fine-tuning\n",
    "        - 100 epochs with early stopping until 10 epochs\n",
    "        - Adam optimizer with lr: 1e-5\n",
    "        \n",
    "- Model evaluation\n",
    "    - COVID-19 S-protein269-277(YLQPRTFLL) with the epitope-specific TCRβs from recent two studies\n",
    "    - 352 TCRbeta from Shomuradova et al, 415 TCRbeta from ImmuneCODE\n",
    "    - Attention 분석을 통해 TCR CDR3beta와 에피토프 펩타이드 서열의 모티프를 식별한다.\n",
    "   "
   ]
  },
  {
   "cell_type": "markdown",
   "metadata": {},
   "source": [
    "## Global configurations"
   ]
  },
  {
   "cell_type": "code",
   "execution_count": 102,
   "metadata": {
    "scrolled": true
   },
   "outputs": [
    {
     "name": "stdout",
     "output_type": "stream",
     "text": [
      "2021-10-26 18:53:33 [INFO]: Loaded exp_conf: {'title': 'exp1', 'description': 'Dash, VDJdb, McPAS 데이터로 말단 10개의 encoder와 classifier 학습=>IEDB SARS-2 데이터로 말단 6개 encoder와 classifier 학습', 'paper': 'exp1', 'model_config': '../config/bert-base/', 'train': {'pretrained_model': {'type': 'tape', 'location': '../config/bert-base/'}, 'data_parallel': False, 'rounds': [{'data': 'dash_vdjdb_mcpas', 'test_size': 0.2, 'batch_size': 128, 'n_epochs': 150, 'n_workers': 12, 'metrics': ['accuracy'], 'optimizer': {'type': 'adam', 'lr': 0.0001}, 'train_bert_encoders': [-10, None], 'early_stopper': {'monitor': 'accuracy', 'patience': 15}, 'model_checkpoint': {'chk': '../output/exp1/train.{round}.model_{epoch}.chk', 'monitor': 'accuracy', 'save_best_only': True, 'period': 1}, 'result': '../output/exp1/train.{round}.result.json'}, {'data': 'iedb_sars2', 'test_size': 0.2, 'batch_size': 128, 'n_epochs': 100, 'n_workers': 12, 'metrics': ['accuracy'], 'optimizer': {'type': 'adam', 'lr': 0.0001}, 'train_bert_encoders': [-6, None], 'early_stopper': {'monitor': 'accuracy', 'patience': 10}, 'model_checkpoint': {'chk': '../output/exp1/train.{round}.model_{epoch}.chk', 'monitor': 'accuracy', 'save_best_only': True, 'period': 1}, 'result': '../output/exp1/train.{round}.result.json'}]}, 'eval': {'data_parallel': False, 'batch_size': 128, 'n_workers': 12, 'metrics': ['accuracy', 'f1', 'roc_auc'], 'output_attentions': False, 'tests': [{'data': 'shomuradova', 'result': '../output/exp1/eval.shomuradova.result.json'}, {'data': 'immunecode', 'result': '../output/exp1/eval.immunecode.result.json'}]}}\n"
     ]
    },
    {
     "data": {
      "text/plain": [
       "{'title': 'exp1',\n",
       " 'description': 'Dash, VDJdb, McPAS 데이터로 말단 10개의 encoder와 classifier 학습=>IEDB SARS-2 데이터로 말단 6개 encoder와 classifier 학습',\n",
       " 'paper': 'exp1',\n",
       " 'model_config': '../config/bert-base/',\n",
       " 'train': {'pretrained_model': {'type': 'tape',\n",
       "   'location': '../config/bert-base/'},\n",
       "  'data_parallel': False,\n",
       "  'rounds': [{'data': 'dash_vdjdb_mcpas',\n",
       "    'test_size': 0.2,\n",
       "    'batch_size': 128,\n",
       "    'n_epochs': 150,\n",
       "    'n_workers': 12,\n",
       "    'metrics': ['accuracy'],\n",
       "    'optimizer': {'type': 'adam', 'lr': 0.0001},\n",
       "    'train_bert_encoders': [-10, None],\n",
       "    'early_stopper': {'monitor': 'accuracy', 'patience': 15},\n",
       "    'model_checkpoint': {'chk': '../output/exp1/train.{round}.model_{epoch}.chk',\n",
       "     'monitor': 'accuracy',\n",
       "     'save_best_only': True,\n",
       "     'period': 1},\n",
       "    'result': '../output/exp1/train.{round}.result.json'},\n",
       "   {'data': 'iedb_sars2',\n",
       "    'test_size': 0.2,\n",
       "    'batch_size': 128,\n",
       "    'n_epochs': 100,\n",
       "    'n_workers': 12,\n",
       "    'metrics': ['accuracy'],\n",
       "    'optimizer': {'type': 'adam', 'lr': 0.0001},\n",
       "    'train_bert_encoders': [-6, None],\n",
       "    'early_stopper': {'monitor': 'accuracy', 'patience': 10},\n",
       "    'model_checkpoint': {'chk': '../output/exp1/train.{round}.model_{epoch}.chk',\n",
       "     'monitor': 'accuracy',\n",
       "     'save_best_only': True,\n",
       "     'period': 1},\n",
       "    'result': '../output/exp1/train.{round}.result.json'}]},\n",
       " 'eval': {'data_parallel': False,\n",
       "  'batch_size': 128,\n",
       "  'n_workers': 12,\n",
       "  'metrics': ['accuracy', 'f1', 'roc_auc'],\n",
       "  'output_attentions': False,\n",
       "  'tests': [{'data': 'shomuradova',\n",
       "    'result': '../output/exp1/eval.shomuradova.result.json'},\n",
       "   {'data': 'immunecode',\n",
       "    'result': '../output/exp1/eval.immunecode.result.json'}]}}"
      ]
     },
     "metadata": {},
     "output_type": "display_data"
    }
   ],
   "source": [
    "import logging\n",
    "import logging.config\n",
    "import os\n",
    "import sys\n",
    "import warnings\n",
    "from enum import auto\n",
    "import pandas as pd\n",
    "import numpy as np\n",
    "from IPython.core.display import display\n",
    "\n",
    "rootdir = '/home/hym/trunk/TCRBert'\n",
    "workdir = '%s/notebook' % rootdir\n",
    "datadir = '%s/data' % rootdir\n",
    "srcdir = '%s/tcrbert' % rootdir\n",
    "outdir = '%s/output' % rootdir\n",
    "\n",
    "os.chdir(workdir)\n",
    "\n",
    "sys.path.append(rootdir)\n",
    "sys.path.append(srcdir)\n",
    "\n",
    "from tcrbert.exp import Experiment\n",
    "from tcrbert.predlistener import PredResultRecoder\n",
    "\n",
    "\n",
    "# Display\n",
    "pd.set_option('display.max.rows', 2000)\n",
    "pd.set_option('display.max.columns', 2000)\n",
    "\n",
    "# Logger\n",
    "warnings.filterwarnings('ignore')\n",
    "logging.config.fileConfig('../config/logging.conf')\n",
    "logger = logging.getLogger('tcrbert')\n",
    "logger.setLevel(logging.INFO)\n",
    "\n",
    "# Target experiment\n",
    "exp_key = 'exp1'\n",
    "experiment = Experiment.from_key(exp_key)\n",
    "\n",
    "exp_conf = experiment.exp_conf\n",
    "\n",
    "display(exp_conf)"
   ]
  },
  {
   "cell_type": "markdown",
   "metadata": {},
   "source": [
    "## Exploring fine-tuning datasets"
   ]
  },
  {
   "cell_type": "markdown",
   "metadata": {},
   "source": [
    "### Dash + VDJdb + McPAS"
   ]
  },
  {
   "cell_type": "code",
   "execution_count": 104,
   "metadata": {},
   "outputs": [
    {
     "data": {
      "text/html": [
       "<div>\n",
       "<style scoped>\n",
       "    .dataframe tbody tr th:only-of-type {\n",
       "        vertical-align: middle;\n",
       "    }\n",
       "\n",
       "    .dataframe tbody tr th {\n",
       "        vertical-align: top;\n",
       "    }\n",
       "\n",
       "    .dataframe thead th {\n",
       "        text-align: right;\n",
       "    }\n",
       "</style>\n",
       "<table border=\"1\" class=\"dataframe\">\n",
       "  <thead>\n",
       "    <tr style=\"text-align: right;\">\n",
       "      <th></th>\n",
       "      <th>epitope</th>\n",
       "      <th>epitope_gene</th>\n",
       "      <th>epitope_species</th>\n",
       "      <th>species</th>\n",
       "      <th>cdr3b</th>\n",
       "      <th>mhc</th>\n",
       "      <th>source</th>\n",
       "      <th>label</th>\n",
       "      <th>sentence</th>\n",
       "    </tr>\n",
       "  </thead>\n",
       "  <tbody>\n",
       "    <tr>\n",
       "      <th>GLCTLVAML_CASSLWTGSHEQYF</th>\n",
       "      <td>GLCTLVAML</td>\n",
       "      <td>BMLF</td>\n",
       "      <td>EBV</td>\n",
       "      <td>human</td>\n",
       "      <td>CASSLWTGSHEQYF</td>\n",
       "      <td>HLA-A*02:01</td>\n",
       "      <td>Dash</td>\n",
       "      <td>1</td>\n",
       "      <td>[2, 11, 15, 7, 23, 15, 25, 5, 16, 15, 7, 5, 22...</td>\n",
       "    </tr>\n",
       "    <tr>\n",
       "      <th>GLCTLVAML_CASSQSPGGEQYF</th>\n",
       "      <td>GLCTLVAML</td>\n",
       "      <td>BMLF</td>\n",
       "      <td>EBV</td>\n",
       "      <td>human</td>\n",
       "      <td>CASSQSPGGEQYF</td>\n",
       "      <td>HLA-A*02:01</td>\n",
       "      <td>Dash</td>\n",
       "      <td>1</td>\n",
       "      <td>[2, 11, 15, 7, 23, 15, 25, 5, 16, 15, 7, 5, 22...</td>\n",
       "    </tr>\n",
       "    <tr>\n",
       "      <th>GLCTLVAML_CASSLTTEQQFF</th>\n",
       "      <td>GLCTLVAML</td>\n",
       "      <td>BMLF</td>\n",
       "      <td>EBV</td>\n",
       "      <td>human</td>\n",
       "      <td>CASSLTTEQQFF</td>\n",
       "      <td>HLA-A*02:01</td>\n",
       "      <td>Dash</td>\n",
       "      <td>1</td>\n",
       "      <td>[2, 11, 15, 7, 23, 15, 25, 5, 16, 15, 7, 5, 22...</td>\n",
       "    </tr>\n",
       "    <tr>\n",
       "      <th>GLCTLVAML_CSARDATGNGYTF</th>\n",
       "      <td>GLCTLVAML</td>\n",
       "      <td>BMLF</td>\n",
       "      <td>EBV</td>\n",
       "      <td>human</td>\n",
       "      <td>CSARDATGNGYTF</td>\n",
       "      <td>HLA-A*02:01</td>\n",
       "      <td>Dash</td>\n",
       "      <td>1</td>\n",
       "      <td>[2, 11, 15, 7, 23, 15, 25, 5, 16, 15, 7, 22, 5...</td>\n",
       "    </tr>\n",
       "    <tr>\n",
       "      <th>GLCTLVAML_CSARDSTGNGYTF</th>\n",
       "      <td>GLCTLVAML</td>\n",
       "      <td>BMLF</td>\n",
       "      <td>EBV</td>\n",
       "      <td>human</td>\n",
       "      <td>CSARDSTGNGYTF</td>\n",
       "      <td>HLA-A*02:01</td>\n",
       "      <td>Dash</td>\n",
       "      <td>1</td>\n",
       "      <td>[2, 11, 15, 7, 23, 15, 25, 5, 16, 15, 7, 22, 5...</td>\n",
       "    </tr>\n",
       "    <tr>\n",
       "      <th>...</th>\n",
       "      <td>...</td>\n",
       "      <td>...</td>\n",
       "      <td>...</td>\n",
       "      <td>...</td>\n",
       "      <td>...</td>\n",
       "      <td>...</td>\n",
       "      <td>...</td>\n",
       "      <td>...</td>\n",
       "      <td>...</td>\n",
       "    </tr>\n",
       "    <tr>\n",
       "      <th>YVLDHLIVV_CASHAGTLKEKLFF</th>\n",
       "      <td>YVLDHLIVV</td>\n",
       "      <td>NaN</td>\n",
       "      <td>Epstein Barr virus (EBV)</td>\n",
       "      <td>Human</td>\n",
       "      <td>CASHAGTLKEKLFF</td>\n",
       "      <td>HLA-A2</td>\n",
       "      <td>Control</td>\n",
       "      <td>0</td>\n",
       "      <td>[2, 28, 25, 15, 8, 12, 15, 13, 25, 25, 7, 5, 2...</td>\n",
       "    </tr>\n",
       "    <tr>\n",
       "      <th>YVLDHLIVV_CAISDETEAFF</th>\n",
       "      <td>YVLDHLIVV</td>\n",
       "      <td>NaN</td>\n",
       "      <td>Epstein Barr virus (EBV)</td>\n",
       "      <td>Human</td>\n",
       "      <td>CAISDETEAFF</td>\n",
       "      <td>HLA-A2</td>\n",
       "      <td>Control</td>\n",
       "      <td>0</td>\n",
       "      <td>[2, 28, 25, 15, 8, 12, 15, 13, 25, 25, 7, 5, 1...</td>\n",
       "    </tr>\n",
       "    <tr>\n",
       "      <th>YVLDHLIVV_CASRPGQINQPQHF</th>\n",
       "      <td>YVLDHLIVV</td>\n",
       "      <td>NaN</td>\n",
       "      <td>Epstein Barr virus (EBV)</td>\n",
       "      <td>Human</td>\n",
       "      <td>CASRPGQINQPQHF</td>\n",
       "      <td>HLA-A2</td>\n",
       "      <td>Control</td>\n",
       "      <td>0</td>\n",
       "      <td>[2, 28, 25, 15, 8, 12, 15, 13, 25, 25, 7, 5, 2...</td>\n",
       "    </tr>\n",
       "    <tr>\n",
       "      <th>YVLDHLIVV_CSAFALSPSTDTQYF</th>\n",
       "      <td>YVLDHLIVV</td>\n",
       "      <td>NaN</td>\n",
       "      <td>Epstein Barr virus (EBV)</td>\n",
       "      <td>Human</td>\n",
       "      <td>CSAFALSPSTDTQYF</td>\n",
       "      <td>HLA-A2</td>\n",
       "      <td>Control</td>\n",
       "      <td>0</td>\n",
       "      <td>[2, 28, 25, 15, 8, 12, 15, 13, 25, 25, 7, 22, ...</td>\n",
       "    </tr>\n",
       "    <tr>\n",
       "      <th>YVLDHLIVV_CASSPGVTGEKLFF</th>\n",
       "      <td>YVLDHLIVV</td>\n",
       "      <td>NaN</td>\n",
       "      <td>Epstein Barr virus (EBV)</td>\n",
       "      <td>Human</td>\n",
       "      <td>CASSPGVTGEKLFF</td>\n",
       "      <td>HLA-A2</td>\n",
       "      <td>Control</td>\n",
       "      <td>0</td>\n",
       "      <td>[2, 28, 25, 15, 8, 12, 15, 13, 25, 25, 7, 5, 2...</td>\n",
       "    </tr>\n",
       "  </tbody>\n",
       "</table>\n",
       "<p>25138 rows × 9 columns</p>\n",
       "</div>"
      ],
      "text/plain": [
       "                             epitope epitope_gene           epitope_species  \\\n",
       "GLCTLVAML_CASSLWTGSHEQYF   GLCTLVAML         BMLF                       EBV   \n",
       "GLCTLVAML_CASSQSPGGEQYF    GLCTLVAML         BMLF                       EBV   \n",
       "GLCTLVAML_CASSLTTEQQFF     GLCTLVAML         BMLF                       EBV   \n",
       "GLCTLVAML_CSARDATGNGYTF    GLCTLVAML         BMLF                       EBV   \n",
       "GLCTLVAML_CSARDSTGNGYTF    GLCTLVAML         BMLF                       EBV   \n",
       "...                              ...          ...                       ...   \n",
       "YVLDHLIVV_CASHAGTLKEKLFF   YVLDHLIVV          NaN  Epstein Barr virus (EBV)   \n",
       "YVLDHLIVV_CAISDETEAFF      YVLDHLIVV          NaN  Epstein Barr virus (EBV)   \n",
       "YVLDHLIVV_CASRPGQINQPQHF   YVLDHLIVV          NaN  Epstein Barr virus (EBV)   \n",
       "YVLDHLIVV_CSAFALSPSTDTQYF  YVLDHLIVV          NaN  Epstein Barr virus (EBV)   \n",
       "YVLDHLIVV_CASSPGVTGEKLFF   YVLDHLIVV          NaN  Epstein Barr virus (EBV)   \n",
       "\n",
       "                          species            cdr3b          mhc   source  \\\n",
       "GLCTLVAML_CASSLWTGSHEQYF    human   CASSLWTGSHEQYF  HLA-A*02:01     Dash   \n",
       "GLCTLVAML_CASSQSPGGEQYF     human    CASSQSPGGEQYF  HLA-A*02:01     Dash   \n",
       "GLCTLVAML_CASSLTTEQQFF      human     CASSLTTEQQFF  HLA-A*02:01     Dash   \n",
       "GLCTLVAML_CSARDATGNGYTF     human    CSARDATGNGYTF  HLA-A*02:01     Dash   \n",
       "GLCTLVAML_CSARDSTGNGYTF     human    CSARDSTGNGYTF  HLA-A*02:01     Dash   \n",
       "...                           ...              ...          ...      ...   \n",
       "YVLDHLIVV_CASHAGTLKEKLFF    Human   CASHAGTLKEKLFF       HLA-A2  Control   \n",
       "YVLDHLIVV_CAISDETEAFF       Human      CAISDETEAFF       HLA-A2  Control   \n",
       "YVLDHLIVV_CASRPGQINQPQHF    Human   CASRPGQINQPQHF       HLA-A2  Control   \n",
       "YVLDHLIVV_CSAFALSPSTDTQYF   Human  CSAFALSPSTDTQYF       HLA-A2  Control   \n",
       "YVLDHLIVV_CASSPGVTGEKLFF    Human   CASSPGVTGEKLFF       HLA-A2  Control   \n",
       "\n",
       "                           label  \\\n",
       "GLCTLVAML_CASSLWTGSHEQYF       1   \n",
       "GLCTLVAML_CASSQSPGGEQYF        1   \n",
       "GLCTLVAML_CASSLTTEQQFF         1   \n",
       "GLCTLVAML_CSARDATGNGYTF        1   \n",
       "GLCTLVAML_CSARDSTGNGYTF        1   \n",
       "...                          ...   \n",
       "YVLDHLIVV_CASHAGTLKEKLFF       0   \n",
       "YVLDHLIVV_CAISDETEAFF          0   \n",
       "YVLDHLIVV_CASRPGQINQPQHF       0   \n",
       "YVLDHLIVV_CSAFALSPSTDTQYF      0   \n",
       "YVLDHLIVV_CASSPGVTGEKLFF       0   \n",
       "\n",
       "                                                                    sentence  \n",
       "GLCTLVAML_CASSLWTGSHEQYF   [2, 11, 15, 7, 23, 15, 25, 5, 16, 15, 7, 5, 22...  \n",
       "GLCTLVAML_CASSQSPGGEQYF    [2, 11, 15, 7, 23, 15, 25, 5, 16, 15, 7, 5, 22...  \n",
       "GLCTLVAML_CASSLTTEQQFF     [2, 11, 15, 7, 23, 15, 25, 5, 16, 15, 7, 5, 22...  \n",
       "GLCTLVAML_CSARDATGNGYTF    [2, 11, 15, 7, 23, 15, 25, 5, 16, 15, 7, 22, 5...  \n",
       "GLCTLVAML_CSARDSTGNGYTF    [2, 11, 15, 7, 23, 15, 25, 5, 16, 15, 7, 22, 5...  \n",
       "...                                                                      ...  \n",
       "YVLDHLIVV_CASHAGTLKEKLFF   [2, 28, 25, 15, 8, 12, 15, 13, 25, 25, 7, 5, 2...  \n",
       "YVLDHLIVV_CAISDETEAFF      [2, 28, 25, 15, 8, 12, 15, 13, 25, 25, 7, 5, 1...  \n",
       "YVLDHLIVV_CASRPGQINQPQHF   [2, 28, 25, 15, 8, 12, 15, 13, 25, 25, 7, 5, 2...  \n",
       "YVLDHLIVV_CSAFALSPSTDTQYF  [2, 28, 25, 15, 8, 12, 15, 13, 25, 25, 7, 22, ...  \n",
       "YVLDHLIVV_CASSPGVTGEKLFF   [2, 28, 25, 15, 8, 12, 15, 13, 25, 25, 7, 5, 2...  \n",
       "\n",
       "[25138 rows x 9 columns]"
      ]
     },
     "metadata": {},
     "output_type": "display_data"
    },
    {
     "data": {
      "text/plain": [
       "(25138, 9)"
      ]
     },
     "metadata": {},
     "output_type": "display_data"
    },
    {
     "data": {
      "text/html": [
       "<div>\n",
       "<style scoped>\n",
       "    .dataframe tbody tr th:only-of-type {\n",
       "        vertical-align: middle;\n",
       "    }\n",
       "\n",
       "    .dataframe tbody tr th {\n",
       "        vertical-align: top;\n",
       "    }\n",
       "\n",
       "    .dataframe thead th {\n",
       "        text-align: right;\n",
       "    }\n",
       "</style>\n",
       "<table border=\"1\" class=\"dataframe\">\n",
       "  <thead>\n",
       "    <tr style=\"text-align: right;\">\n",
       "      <th></th>\n",
       "      <th>Epitope species</th>\n",
       "      <th>Epitope gene</th>\n",
       "      <th>Epitope</th>\n",
       "      <th>MHC</th>\n",
       "      <th>Samples</th>\n",
       "      <th>Positives</th>\n",
       "    </tr>\n",
       "  </thead>\n",
       "  <tbody>\n",
       "    <tr>\n",
       "      <th>0</th>\n",
       "      <td>Experimental autoimmune encephalomyelitis (EAE)</td>\n",
       "      <td>-</td>\n",
       "      <td>ACASQKRPSQR</td>\n",
       "      <td>H-2u</td>\n",
       "      <td>42</td>\n",
       "      <td>21</td>\n",
       "    </tr>\n",
       "    <tr>\n",
       "      <th>1</th>\n",
       "      <td>HomoSapiens</td>\n",
       "      <td>GANAB</td>\n",
       "      <td>ALYGFVPVL</td>\n",
       "      <td>HLA-A*02:01</td>\n",
       "      <td>60</td>\n",
       "      <td>30</td>\n",
       "    </tr>\n",
       "    <tr>\n",
       "      <th>2</th>\n",
       "      <td>IAV</td>\n",
       "      <td>NP</td>\n",
       "      <td>ASNENMETM</td>\n",
       "      <td>H2-Db</td>\n",
       "      <td>570</td>\n",
       "      <td>285</td>\n",
       "    </tr>\n",
       "    <tr>\n",
       "      <th>3</th>\n",
       "      <td>HCV</td>\n",
       "      <td>NS3</td>\n",
       "      <td>ATDALMTGY</td>\n",
       "      <td>HLA-A*01</td>\n",
       "      <td>306</td>\n",
       "      <td>153</td>\n",
       "    </tr>\n",
       "    <tr>\n",
       "      <th>4</th>\n",
       "      <td>HCV</td>\n",
       "      <td>NS3</td>\n",
       "      <td>CINGVCWTV</td>\n",
       "      <td>HLA-A*02</td>\n",
       "      <td>86</td>\n",
       "      <td>43</td>\n",
       "    </tr>\n",
       "  </tbody>\n",
       "</table>\n",
       "</div>"
      ],
      "text/plain": [
       "                                   Epitope species Epitope gene      Epitope  \\\n",
       "0  Experimental autoimmune encephalomyelitis (EAE)            -  ACASQKRPSQR   \n",
       "1                                      HomoSapiens        GANAB    ALYGFVPVL   \n",
       "2                                              IAV           NP    ASNENMETM   \n",
       "3                                              HCV          NS3    ATDALMTGY   \n",
       "4                                              HCV          NS3    CINGVCWTV   \n",
       "\n",
       "           MHC  Samples  Positives  \n",
       "0         H-2u       42         21  \n",
       "1  HLA-A*02:01       60         30  \n",
       "2        H2-Db      570        285  \n",
       "3     HLA-A*01      306        153  \n",
       "4     HLA-A*02       86         43  "
      ]
     },
     "metadata": {},
     "output_type": "display_data"
    },
    {
     "data": {
      "text/plain": [
       "(78, 6)"
      ]
     },
     "metadata": {},
     "output_type": "display_data"
    },
    {
     "data": {
      "text/plain": [
       "0"
      ]
     },
     "execution_count": 104,
     "metadata": {},
     "output_type": "execute_result"
    }
   ],
   "source": [
    "from tcrbert.dataset import TCREpitopeSentenceDataset, CN\n",
    "from tcrbert.commons import StrUtils\n",
    "\n",
    "\n",
    "def summary_train_df(df):\n",
    "    cols = ['Epitope species', 'Epitope gene', 'Epitope', 'MHC', 'Samples', 'Positives']\n",
    "    rows = []\n",
    "    for i, (epitope, subtab) in enumerate(df.groupby([CN.epitope])):\n",
    "        row = subtab.iloc[0]\n",
    "        especies = StrUtils.default_str(row[CN.epitope_species], '-')\n",
    "        egene = StrUtils.default_str(row[CN.epitope_gene], '-')\n",
    "        mhc = StrUtils.default_str(row[CN.mhc], '-')\n",
    "        n_data = subtab.shape[0]\n",
    "        n_pos = np.count_nonzero(subtab[CN.label] == 1)\n",
    "#         print('%s: epitope: %s, species: %s, gene: %s, mhc: %s, n_data: %s, n_pos: %s' % \n",
    "#               (i, epitope, especies, egene, mhc, n_data, n_pos))\n",
    "        rows.append([especies, egene, epitope, mhc, n_data, n_pos])\n",
    "    \n",
    "    return pd.DataFrame(rows, columns=cols)\n",
    "\n",
    "data_key = 'dash_vdjdb_mcpas'\n",
    "train_ds = TCREpitopeSentenceDataset.from_key(data_key)\n",
    "train_df = train_ds.df_enc\n",
    "\n",
    "sent_encoder = train_ds.encoder\n",
    "\n",
    "display(train_df, train_df.shape)\n",
    "\n",
    "summary_df = summary_train_df(train_df)\n",
    "display(summary_df.head(), summary_df.shape)\n",
    "summary_df.to_csv('%s/summary_%s.csv' % (outdir, data_key))\n",
    "\n",
    "# tmp = train_df.epitope.value_counts()\n",
    "# display(tmp, tmp.shape)\n",
    "# display(train_df.label.value_counts())\n",
    "\n",
    "# display(train_df[train_ds.CN_SENTENCE].map(lambda x: ''.join(sent_encoder.to_tokens(x))))\n",
    "\n",
    "np.count_nonzero(train_df[CN.epitope] == 'YLQPRTFLL')\n",
    "\n"
   ]
  },
  {
   "cell_type": "markdown",
   "metadata": {},
   "source": [
    "### IEDB SARS-Cov-2"
   ]
  },
  {
   "cell_type": "code",
   "execution_count": 105,
   "metadata": {},
   "outputs": [
    {
     "data": {
      "text/html": [
       "<div>\n",
       "<style scoped>\n",
       "    .dataframe tbody tr th:only-of-type {\n",
       "        vertical-align: middle;\n",
       "    }\n",
       "\n",
       "    .dataframe tbody tr th {\n",
       "        vertical-align: top;\n",
       "    }\n",
       "\n",
       "    .dataframe thead th {\n",
       "        text-align: right;\n",
       "    }\n",
       "</style>\n",
       "<table border=\"1\" class=\"dataframe\">\n",
       "  <thead>\n",
       "    <tr style=\"text-align: right;\">\n",
       "      <th></th>\n",
       "      <th>epitope</th>\n",
       "      <th>epitope_gene</th>\n",
       "      <th>epitope_species</th>\n",
       "      <th>species</th>\n",
       "      <th>cdr3b</th>\n",
       "      <th>mhc</th>\n",
       "      <th>source</th>\n",
       "      <th>label</th>\n",
       "      <th>sentence</th>\n",
       "    </tr>\n",
       "  </thead>\n",
       "  <tbody>\n",
       "    <tr>\n",
       "      <th>FLPFFSNVTWFHAI_CASSIRSSYEQYF</th>\n",
       "      <td>FLPFFSNVTWFHAI</td>\n",
       "      <td>surface glycoprotein [Severe acute respiratory...</td>\n",
       "      <td>SARS-CoV2</td>\n",
       "      <td>human</td>\n",
       "      <td>CASSIRSSYEQYF</td>\n",
       "      <td>HLA class I</td>\n",
       "      <td>IEDB</td>\n",
       "      <td>1</td>\n",
       "      <td>[2, 10, 15, 19, 10, 10, 22, 17, 25, 23, 26, 10...</td>\n",
       "    </tr>\n",
       "    <tr>\n",
       "      <th>FLPFFSNVTWFHAI_CASSIGVYGYTF</th>\n",
       "      <td>FLPFFSNVTWFHAI</td>\n",
       "      <td>surface glycoprotein [Severe acute respiratory...</td>\n",
       "      <td>SARS-CoV2</td>\n",
       "      <td>human</td>\n",
       "      <td>CASSIGVYGYTF</td>\n",
       "      <td>HLA class I</td>\n",
       "      <td>IEDB</td>\n",
       "      <td>1</td>\n",
       "      <td>[2, 10, 15, 19, 10, 10, 22, 17, 25, 23, 26, 10...</td>\n",
       "    </tr>\n",
       "    <tr>\n",
       "      <th>FLPFFSNVTWFHAI_CASSIRSAYEQYF</th>\n",
       "      <td>FLPFFSNVTWFHAI</td>\n",
       "      <td>surface glycoprotein [Severe acute respiratory...</td>\n",
       "      <td>SARS-CoV2</td>\n",
       "      <td>human</td>\n",
       "      <td>CASSIRSAYEQYF</td>\n",
       "      <td>HLA class I</td>\n",
       "      <td>IEDB</td>\n",
       "      <td>1</td>\n",
       "      <td>[2, 10, 15, 19, 10, 10, 22, 17, 25, 23, 26, 10...</td>\n",
       "    </tr>\n",
       "    <tr>\n",
       "      <th>FLPFFSNVTWFHAI_CASSSRSSYEQYF</th>\n",
       "      <td>FLPFFSNVTWFHAI</td>\n",
       "      <td>surface glycoprotein [Severe acute respiratory...</td>\n",
       "      <td>SARS-CoV2</td>\n",
       "      <td>human</td>\n",
       "      <td>CASSSRSSYEQYF</td>\n",
       "      <td>HLA class I</td>\n",
       "      <td>IEDB</td>\n",
       "      <td>1</td>\n",
       "      <td>[2, 10, 15, 19, 10, 10, 22, 17, 25, 23, 26, 10...</td>\n",
       "    </tr>\n",
       "    <tr>\n",
       "      <th>FLPFFSNVTWFHAI_CASSTRSAYEQYF</th>\n",
       "      <td>FLPFFSNVTWFHAI</td>\n",
       "      <td>surface glycoprotein [Severe acute respiratory...</td>\n",
       "      <td>SARS-CoV2</td>\n",
       "      <td>human</td>\n",
       "      <td>CASSTRSAYEQYF</td>\n",
       "      <td>HLA class I</td>\n",
       "      <td>IEDB</td>\n",
       "      <td>1</td>\n",
       "      <td>[2, 10, 15, 19, 10, 10, 22, 17, 25, 23, 26, 10...</td>\n",
       "    </tr>\n",
       "  </tbody>\n",
       "</table>\n",
       "</div>"
      ],
      "text/plain": [
       "                                     epitope  \\\n",
       "FLPFFSNVTWFHAI_CASSIRSSYEQYF  FLPFFSNVTWFHAI   \n",
       "FLPFFSNVTWFHAI_CASSIGVYGYTF   FLPFFSNVTWFHAI   \n",
       "FLPFFSNVTWFHAI_CASSIRSAYEQYF  FLPFFSNVTWFHAI   \n",
       "FLPFFSNVTWFHAI_CASSSRSSYEQYF  FLPFFSNVTWFHAI   \n",
       "FLPFFSNVTWFHAI_CASSTRSAYEQYF  FLPFFSNVTWFHAI   \n",
       "\n",
       "                                                                   epitope_gene  \\\n",
       "FLPFFSNVTWFHAI_CASSIRSSYEQYF  surface glycoprotein [Severe acute respiratory...   \n",
       "FLPFFSNVTWFHAI_CASSIGVYGYTF   surface glycoprotein [Severe acute respiratory...   \n",
       "FLPFFSNVTWFHAI_CASSIRSAYEQYF  surface glycoprotein [Severe acute respiratory...   \n",
       "FLPFFSNVTWFHAI_CASSSRSSYEQYF  surface glycoprotein [Severe acute respiratory...   \n",
       "FLPFFSNVTWFHAI_CASSTRSAYEQYF  surface glycoprotein [Severe acute respiratory...   \n",
       "\n",
       "                             epitope_species species          cdr3b  \\\n",
       "FLPFFSNVTWFHAI_CASSIRSSYEQYF       SARS-CoV2   human  CASSIRSSYEQYF   \n",
       "FLPFFSNVTWFHAI_CASSIGVYGYTF        SARS-CoV2   human   CASSIGVYGYTF   \n",
       "FLPFFSNVTWFHAI_CASSIRSAYEQYF       SARS-CoV2   human  CASSIRSAYEQYF   \n",
       "FLPFFSNVTWFHAI_CASSSRSSYEQYF       SARS-CoV2   human  CASSSRSSYEQYF   \n",
       "FLPFFSNVTWFHAI_CASSTRSAYEQYF       SARS-CoV2   human  CASSTRSAYEQYF   \n",
       "\n",
       "                                      mhc source  label  \\\n",
       "FLPFFSNVTWFHAI_CASSIRSSYEQYF  HLA class I   IEDB      1   \n",
       "FLPFFSNVTWFHAI_CASSIGVYGYTF   HLA class I   IEDB      1   \n",
       "FLPFFSNVTWFHAI_CASSIRSAYEQYF  HLA class I   IEDB      1   \n",
       "FLPFFSNVTWFHAI_CASSSRSSYEQYF  HLA class I   IEDB      1   \n",
       "FLPFFSNVTWFHAI_CASSTRSAYEQYF  HLA class I   IEDB      1   \n",
       "\n",
       "                                                                       sentence  \n",
       "FLPFFSNVTWFHAI_CASSIRSSYEQYF  [2, 10, 15, 19, 10, 10, 22, 17, 25, 23, 26, 10...  \n",
       "FLPFFSNVTWFHAI_CASSIGVYGYTF   [2, 10, 15, 19, 10, 10, 22, 17, 25, 23, 26, 10...  \n",
       "FLPFFSNVTWFHAI_CASSIRSAYEQYF  [2, 10, 15, 19, 10, 10, 22, 17, 25, 23, 26, 10...  \n",
       "FLPFFSNVTWFHAI_CASSSRSSYEQYF  [2, 10, 15, 19, 10, 10, 22, 17, 25, 23, 26, 10...  \n",
       "FLPFFSNVTWFHAI_CASSTRSAYEQYF  [2, 10, 15, 19, 10, 10, 22, 17, 25, 23, 26, 10...  "
      ]
     },
     "metadata": {},
     "output_type": "display_data"
    },
    {
     "data": {
      "text/plain": [
       "(98563, 9)"
      ]
     },
     "metadata": {},
     "output_type": "display_data"
    },
    {
     "data": {
      "text/html": [
       "<div>\n",
       "<style scoped>\n",
       "    .dataframe tbody tr th:only-of-type {\n",
       "        vertical-align: middle;\n",
       "    }\n",
       "\n",
       "    .dataframe tbody tr th {\n",
       "        vertical-align: top;\n",
       "    }\n",
       "\n",
       "    .dataframe thead th {\n",
       "        text-align: right;\n",
       "    }\n",
       "</style>\n",
       "<table border=\"1\" class=\"dataframe\">\n",
       "  <thead>\n",
       "    <tr style=\"text-align: right;\">\n",
       "      <th></th>\n",
       "      <th>Epitope species</th>\n",
       "      <th>Epitope gene</th>\n",
       "      <th>Epitope</th>\n",
       "      <th>MHC</th>\n",
       "      <th>Samples</th>\n",
       "      <th>Positives</th>\n",
       "    </tr>\n",
       "  </thead>\n",
       "  <tbody>\n",
       "    <tr>\n",
       "      <th>0</th>\n",
       "      <td>SARS-CoV2</td>\n",
       "      <td>surface glycoprotein [Severe acute respiratory...</td>\n",
       "      <td>AEIRASANLAATK</td>\n",
       "      <td>HLA class I</td>\n",
       "      <td>214</td>\n",
       "      <td>107</td>\n",
       "    </tr>\n",
       "    <tr>\n",
       "      <th>1</th>\n",
       "      <td>SARS-CoV2</td>\n",
       "      <td>orf1ab polyprotein [Severe acute respiratory s...</td>\n",
       "      <td>AELAKNVSLDNVL</td>\n",
       "      <td>HLA class I</td>\n",
       "      <td>3588</td>\n",
       "      <td>1794</td>\n",
       "    </tr>\n",
       "    <tr>\n",
       "      <th>2</th>\n",
       "      <td>SARS-CoV2</td>\n",
       "      <td>membrane glycoprotein [Severe acute respirator...</td>\n",
       "      <td>AIAMACLVGLM</td>\n",
       "      <td>HLA class I</td>\n",
       "      <td>174</td>\n",
       "      <td>87</td>\n",
       "    </tr>\n",
       "    <tr>\n",
       "      <th>3</th>\n",
       "      <td>SARS-CoV2</td>\n",
       "      <td>orf1ab polyprotein [Severe acute respiratory s...</td>\n",
       "      <td>ALLADKFPV</td>\n",
       "      <td>HLA class I</td>\n",
       "      <td>42</td>\n",
       "      <td>21</td>\n",
       "    </tr>\n",
       "    <tr>\n",
       "      <th>4</th>\n",
       "      <td>SARS-CoV2</td>\n",
       "      <td>orf1ab polyprotein [Severe acute respiratory s...</td>\n",
       "      <td>ALRKVPTDNYITTY</td>\n",
       "      <td>HLA class I</td>\n",
       "      <td>692</td>\n",
       "      <td>346</td>\n",
       "    </tr>\n",
       "  </tbody>\n",
       "</table>\n",
       "</div>"
      ],
      "text/plain": [
       "  Epitope species                                       Epitope gene  \\\n",
       "0       SARS-CoV2  surface glycoprotein [Severe acute respiratory...   \n",
       "1       SARS-CoV2  orf1ab polyprotein [Severe acute respiratory s...   \n",
       "2       SARS-CoV2  membrane glycoprotein [Severe acute respirator...   \n",
       "3       SARS-CoV2  orf1ab polyprotein [Severe acute respiratory s...   \n",
       "4       SARS-CoV2  orf1ab polyprotein [Severe acute respiratory s...   \n",
       "\n",
       "          Epitope          MHC  Samples  Positives  \n",
       "0   AEIRASANLAATK  HLA class I      214        107  \n",
       "1   AELAKNVSLDNVL  HLA class I     3588       1794  \n",
       "2     AIAMACLVGLM  HLA class I      174         87  \n",
       "3       ALLADKFPV  HLA class I       42         21  \n",
       "4  ALRKVPTDNYITTY  HLA class I      692        346  "
      ]
     },
     "metadata": {},
     "output_type": "display_data"
    },
    {
     "data": {
      "text/plain": [
       "(145, 6)"
      ]
     },
     "metadata": {},
     "output_type": "display_data"
    },
    {
     "data": {
      "text/plain": [
       "0"
      ]
     },
     "execution_count": 105,
     "metadata": {},
     "output_type": "execute_result"
    }
   ],
   "source": [
    "from tcrbert.dataset import TCREpitopeSentenceDataset, CN\n",
    "\n",
    "data_key = 'iedb_sars2'\n",
    "train_ds = TCREpitopeSentenceDataset.from_key(data_key)\n",
    "train_df = train_ds.df_enc\n",
    "\n",
    "sent_encoder = train_ds.encoder\n",
    "\n",
    "display(train_df.head(), train_df.shape)\n",
    "\n",
    "summary_df = summary_train_df(train_df)\n",
    "display(summary_df.head(), summary_df.shape)\n",
    "summary_df.to_csv('%s/summary_%s.csv' % (outdir, data_key))\n",
    "\n",
    "# tmp = train_df.epitope.value_counts()\n",
    "# display(tmp, tmp.shape)\n",
    "# display(train_df.label.value_counts())\n",
    "# display(train_df[train_ds.CN_SENTENCE].map(lambda x: ''.join(sent_encoder.to_tokens(x))))\n",
    "\n",
    "np.count_nonzero(train_df[CN.epitope] == 'YLQPRTFLL')"
   ]
  },
  {
   "cell_type": "markdown",
   "metadata": {},
   "source": [
    "## Fine-tuning"
   ]
  },
  {
   "cell_type": "code",
   "execution_count": 4,
   "metadata": {},
   "outputs": [
    {
     "name": "stdout",
     "output_type": "stream",
     "text": [
      "2021-10-02 23:39:46 [INFO]: ======================\n",
      "2021-10-02 23:39:46 [INFO]: Begin train at 2021-10-02 23:39:46.632207\n",
      "2021-10-02 23:39:46 [INFO]: Loading the TAPE pretrained model from ../config/bert-base/\n",
      "2021-10-02 23:39:49 [INFO]: Start 2 train rounds of exp1 at 2021-10-02 23:39:46.632207\n",
      "2021-10-02 23:39:49 [INFO]: train_conf: {'pretrained_model': {'type': 'tape', 'location': '../config/bert-base/'}, 'data_parallel': False, 'rounds': [{'data': 'dash_vdjdb_mcpas', 'test_size': 0.2, 'batch_size': 128, 'n_epochs': 150, 'n_workers': 12, 'metrics': ['accuracy'], 'optimizer': {'type': 'adam', 'lr': 0.0001}, 'train_bert_encoders': [-10, None], 'early_stopper': {'monitor': 'accuracy', 'patience': 15}, 'model_checkpoint': {'chk': '../output/exp1/train.{round}.model_{epoch}.chk', 'monitor': 'accuracy', 'save_best_only': True, 'period': 1}, 'result': '../output/exp1/train.{round}.result.json'}, {'data': 'iedb_sars2', 'test_size': 0.2, 'batch_size': 128, 'n_epochs': 100, 'n_workers': 12, 'metrics': ['accuracy'], 'optimizer': {'type': 'adam', 'lr': 0.0001}, 'train_bert_encoders': [-6, None], 'early_stopper': {'monitor': 'accuracy', 'patience': 10}, 'model_checkpoint': {'chk': '../output/exp1/train.{round}.model_{epoch}.chk', 'monitor': 'accuracy', 'save_best_only': True, 'period': 1}, 'result': '../output/exp1/train.{round}.result.json'}]}\n",
      "2021-10-02 23:39:49 [INFO]: Start 0 train round using data: dash_vdjdb_mcpas, round_conf: {'data': 'dash_vdjdb_mcpas', 'test_size': 0.2, 'batch_size': 128, 'n_epochs': 150, 'n_workers': 12, 'metrics': ['accuracy'], 'optimizer': {'type': 'adam', 'lr': 0.0001}, 'train_bert_encoders': [-10, None], 'early_stopper': {'monitor': 'accuracy', 'patience': 15}, 'model_checkpoint': {'chk': '../output/exp1/train.{round}.model_{epoch}.chk', 'monitor': 'accuracy', 'save_best_only': True, 'period': 1}, 'result': '../output/exp1/train.{round}.result.json'}\n",
      "2021-10-02 23:39:50 [INFO]: The bert encoders to be trained: [-10, None]\n",
      "2021-10-02 23:39:53 [INFO]: ======================\n",
      "2021-10-02 23:39:53 [INFO]: Begin training...\n",
      "2021-10-02 23:39:53 [INFO]: use_cuda, device: True, cuda:0\n",
      "2021-10-02 23:39:53 [INFO]: model: BertTCREpitopeModel(\n",
      "  (bert): ProteinBertModel(\n",
      "    (embeddings): ProteinBertEmbeddings(\n",
      "      (word_embeddings): Embedding(30, 768, padding_idx=0)\n",
      "      (position_embeddings): Embedding(8192, 768)\n",
      "      (token_type_embeddings): Embedding(1, 768)\n",
      "      (LayerNorm): LayerNorm()\n",
      "      (dropout): Dropout(p=0.1)\n",
      "    )\n",
      "    (encoder): ProteinBertEncoder(\n",
      "      (layer): ModuleList(\n",
      "        (0): ProteinBertLayer(\n",
      "          (attention): ProteinBertAttention(\n",
      "            (self): ProteinBertSelfAttention(\n",
      "              (query): Linear(in_features=768, out_features=768, bias=True)\n",
      "              (key): Linear(in_features=768, out_features=768, bias=True)\n",
      "              (value): Linear(in_features=768, out_features=768, bias=True)\n",
      "              (dropout): Dropout(p=0.1)\n",
      "            )\n",
      "            (output): ProteinBertSelfOutput(\n",
      "              (dense): Linear(in_features=768, out_features=768, bias=True)\n",
      "              (LayerNorm): LayerNorm()\n",
      "              (dropout): Dropout(p=0.1)\n",
      "            )\n",
      "          )\n",
      "          (intermediate): ProteinBertIntermediate(\n",
      "            (dense): Linear(in_features=768, out_features=3072, bias=True)\n",
      "          )\n",
      "          (output): ProteinBertOutput(\n",
      "            (dense): Linear(in_features=3072, out_features=768, bias=True)\n",
      "            (LayerNorm): LayerNorm()\n",
      "            (dropout): Dropout(p=0.1)\n",
      "          )\n",
      "        )\n",
      "        (1): ProteinBertLayer(\n",
      "          (attention): ProteinBertAttention(\n",
      "            (self): ProteinBertSelfAttention(\n",
      "              (query): Linear(in_features=768, out_features=768, bias=True)\n",
      "              (key): Linear(in_features=768, out_features=768, bias=True)\n",
      "              (value): Linear(in_features=768, out_features=768, bias=True)\n",
      "              (dropout): Dropout(p=0.1)\n",
      "            )\n",
      "            (output): ProteinBertSelfOutput(\n",
      "              (dense): Linear(in_features=768, out_features=768, bias=True)\n",
      "              (LayerNorm): LayerNorm()\n",
      "              (dropout): Dropout(p=0.1)\n",
      "            )\n",
      "          )\n",
      "          (intermediate): ProteinBertIntermediate(\n",
      "            (dense): Linear(in_features=768, out_features=3072, bias=True)\n",
      "          )\n",
      "          (output): ProteinBertOutput(\n",
      "            (dense): Linear(in_features=3072, out_features=768, bias=True)\n",
      "            (LayerNorm): LayerNorm()\n",
      "            (dropout): Dropout(p=0.1)\n",
      "          )\n",
      "        )\n",
      "        (2): ProteinBertLayer(\n",
      "          (attention): ProteinBertAttention(\n",
      "            (self): ProteinBertSelfAttention(\n",
      "              (query): Linear(in_features=768, out_features=768, bias=True)\n",
      "              (key): Linear(in_features=768, out_features=768, bias=True)\n",
      "              (value): Linear(in_features=768, out_features=768, bias=True)\n",
      "              (dropout): Dropout(p=0.1)\n",
      "            )\n",
      "            (output): ProteinBertSelfOutput(\n",
      "              (dense): Linear(in_features=768, out_features=768, bias=True)\n",
      "              (LayerNorm): LayerNorm()\n",
      "              (dropout): Dropout(p=0.1)\n",
      "            )\n",
      "          )\n",
      "          (intermediate): ProteinBertIntermediate(\n",
      "            (dense): Linear(in_features=768, out_features=3072, bias=True)\n",
      "          )\n",
      "          (output): ProteinBertOutput(\n",
      "            (dense): Linear(in_features=3072, out_features=768, bias=True)\n",
      "            (LayerNorm): LayerNorm()\n",
      "            (dropout): Dropout(p=0.1)\n",
      "          )\n",
      "        )\n",
      "        (3): ProteinBertLayer(\n",
      "          (attention): ProteinBertAttention(\n",
      "            (self): ProteinBertSelfAttention(\n",
      "              (query): Linear(in_features=768, out_features=768, bias=True)\n",
      "              (key): Linear(in_features=768, out_features=768, bias=True)\n",
      "              (value): Linear(in_features=768, out_features=768, bias=True)\n",
      "              (dropout): Dropout(p=0.1)\n",
      "            )\n",
      "            (output): ProteinBertSelfOutput(\n",
      "              (dense): Linear(in_features=768, out_features=768, bias=True)\n",
      "              (LayerNorm): LayerNorm()\n",
      "              (dropout): Dropout(p=0.1)\n",
      "            )\n",
      "          )\n",
      "          (intermediate): ProteinBertIntermediate(\n",
      "            (dense): Linear(in_features=768, out_features=3072, bias=True)\n",
      "          )\n",
      "          (output): ProteinBertOutput(\n",
      "            (dense): Linear(in_features=3072, out_features=768, bias=True)\n",
      "            (LayerNorm): LayerNorm()\n",
      "            (dropout): Dropout(p=0.1)\n",
      "          )\n",
      "        )\n",
      "        (4): ProteinBertLayer(\n",
      "          (attention): ProteinBertAttention(\n",
      "            (self): ProteinBertSelfAttention(\n",
      "              (query): Linear(in_features=768, out_features=768, bias=True)\n",
      "              (key): Linear(in_features=768, out_features=768, bias=True)\n",
      "              (value): Linear(in_features=768, out_features=768, bias=True)\n",
      "              (dropout): Dropout(p=0.1)\n",
      "            )\n",
      "            (output): ProteinBertSelfOutput(\n",
      "              (dense): Linear(in_features=768, out_features=768, bias=True)\n",
      "              (LayerNorm): LayerNorm()\n",
      "              (dropout): Dropout(p=0.1)\n",
      "            )\n",
      "          )\n",
      "          (intermediate): ProteinBertIntermediate(\n",
      "            (dense): Linear(in_features=768, out_features=3072, bias=True)\n",
      "          )\n",
      "          (output): ProteinBertOutput(\n",
      "            (dense): Linear(in_features=3072, out_features=768, bias=True)\n",
      "            (LayerNorm): LayerNorm()\n",
      "            (dropout): Dropout(p=0.1)\n",
      "          )\n",
      "        )\n",
      "        (5): ProteinBertLayer(\n",
      "          (attention): ProteinBertAttention(\n",
      "            (self): ProteinBertSelfAttention(\n",
      "              (query): Linear(in_features=768, out_features=768, bias=True)\n",
      "              (key): Linear(in_features=768, out_features=768, bias=True)\n",
      "              (value): Linear(in_features=768, out_features=768, bias=True)\n",
      "              (dropout): Dropout(p=0.1)\n",
      "            )\n",
      "            (output): ProteinBertSelfOutput(\n",
      "              (dense): Linear(in_features=768, out_features=768, bias=True)\n",
      "              (LayerNorm): LayerNorm()\n",
      "              (dropout): Dropout(p=0.1)\n",
      "            )\n",
      "          )\n",
      "          (intermediate): ProteinBertIntermediate(\n",
      "            (dense): Linear(in_features=768, out_features=3072, bias=True)\n",
      "          )\n",
      "          (output): ProteinBertOutput(\n",
      "            (dense): Linear(in_features=3072, out_features=768, bias=True)\n",
      "            (LayerNorm): LayerNorm()\n",
      "            (dropout): Dropout(p=0.1)\n",
      "          )\n",
      "        )\n",
      "        (6): ProteinBertLayer(\n",
      "          (attention): ProteinBertAttention(\n",
      "            (self): ProteinBertSelfAttention(\n",
      "              (query): Linear(in_features=768, out_features=768, bias=True)\n",
      "              (key): Linear(in_features=768, out_features=768, bias=True)\n",
      "              (value): Linear(in_features=768, out_features=768, bias=True)\n",
      "              (dropout): Dropout(p=0.1)\n",
      "            )\n",
      "            (output): ProteinBertSelfOutput(\n",
      "              (dense): Linear(in_features=768, out_features=768, bias=True)\n",
      "              (LayerNorm): LayerNorm()\n",
      "              (dropout): Dropout(p=0.1)\n",
      "            )\n",
      "          )\n",
      "          (intermediate): ProteinBertIntermediate(\n",
      "            (dense): Linear(in_features=768, out_features=3072, bias=True)\n",
      "          )\n",
      "          (output): ProteinBertOutput(\n",
      "            (dense): Linear(in_features=3072, out_features=768, bias=True)\n",
      "            (LayerNorm): LayerNorm()\n",
      "            (dropout): Dropout(p=0.1)\n",
      "          )\n",
      "        )\n",
      "        (7): ProteinBertLayer(\n",
      "          (attention): ProteinBertAttention(\n",
      "            (self): ProteinBertSelfAttention(\n",
      "              (query): Linear(in_features=768, out_features=768, bias=True)\n",
      "              (key): Linear(in_features=768, out_features=768, bias=True)\n",
      "              (value): Linear(in_features=768, out_features=768, bias=True)\n",
      "              (dropout): Dropout(p=0.1)\n",
      "            )\n",
      "            (output): ProteinBertSelfOutput(\n",
      "              (dense): Linear(in_features=768, out_features=768, bias=True)\n",
      "              (LayerNorm): LayerNorm()\n",
      "              (dropout): Dropout(p=0.1)\n",
      "            )\n",
      "          )\n",
      "          (intermediate): ProteinBertIntermediate(\n",
      "            (dense): Linear(in_features=768, out_features=3072, bias=True)\n",
      "          )\n",
      "          (output): ProteinBertOutput(\n",
      "            (dense): Linear(in_features=3072, out_features=768, bias=True)\n",
      "            (LayerNorm): LayerNorm()\n",
      "            (dropout): Dropout(p=0.1)\n",
      "          )\n",
      "        )\n",
      "        (8): ProteinBertLayer(\n",
      "          (attention): ProteinBertAttention(\n",
      "            (self): ProteinBertSelfAttention(\n",
      "              (query): Linear(in_features=768, out_features=768, bias=True)\n",
      "              (key): Linear(in_features=768, out_features=768, bias=True)\n",
      "              (value): Linear(in_features=768, out_features=768, bias=True)\n",
      "              (dropout): Dropout(p=0.1)\n",
      "            )\n",
      "            (output): ProteinBertSelfOutput(\n",
      "              (dense): Linear(in_features=768, out_features=768, bias=True)\n",
      "              (LayerNorm): LayerNorm()\n",
      "              (dropout): Dropout(p=0.1)\n",
      "            )\n",
      "          )\n",
      "          (intermediate): ProteinBertIntermediate(\n",
      "            (dense): Linear(in_features=768, out_features=3072, bias=True)\n",
      "          )\n",
      "          (output): ProteinBertOutput(\n",
      "            (dense): Linear(in_features=3072, out_features=768, bias=True)\n",
      "            (LayerNorm): LayerNorm()\n",
      "            (dropout): Dropout(p=0.1)\n",
      "          )\n",
      "        )\n",
      "        (9): ProteinBertLayer(\n",
      "          (attention): ProteinBertAttention(\n",
      "            (self): ProteinBertSelfAttention(\n",
      "              (query): Linear(in_features=768, out_features=768, bias=True)\n",
      "              (key): Linear(in_features=768, out_features=768, bias=True)\n",
      "              (value): Linear(in_features=768, out_features=768, bias=True)\n",
      "              (dropout): Dropout(p=0.1)\n",
      "            )\n",
      "            (output): ProteinBertSelfOutput(\n",
      "              (dense): Linear(in_features=768, out_features=768, bias=True)\n",
      "              (LayerNorm): LayerNorm()\n",
      "              (dropout): Dropout(p=0.1)\n",
      "            )\n",
      "          )\n",
      "          (intermediate): ProteinBertIntermediate(\n",
      "            (dense): Linear(in_features=768, out_features=3072, bias=True)\n",
      "          )\n",
      "          (output): ProteinBertOutput(\n",
      "            (dense): Linear(in_features=3072, out_features=768, bias=True)\n",
      "            (LayerNorm): LayerNorm()\n",
      "            (dropout): Dropout(p=0.1)\n",
      "          )\n",
      "        )\n",
      "        (10): ProteinBertLayer(\n",
      "          (attention): ProteinBertAttention(\n",
      "            (self): ProteinBertSelfAttention(\n",
      "              (query): Linear(in_features=768, out_features=768, bias=True)\n",
      "              (key): Linear(in_features=768, out_features=768, bias=True)\n",
      "              (value): Linear(in_features=768, out_features=768, bias=True)\n",
      "              (dropout): Dropout(p=0.1)\n",
      "            )\n",
      "            (output): ProteinBertSelfOutput(\n",
      "              (dense): Linear(in_features=768, out_features=768, bias=True)\n",
      "              (LayerNorm): LayerNorm()\n",
      "              (dropout): Dropout(p=0.1)\n",
      "            )\n",
      "          )\n",
      "          (intermediate): ProteinBertIntermediate(\n",
      "            (dense): Linear(in_features=768, out_features=3072, bias=True)\n",
      "          )\n",
      "          (output): ProteinBertOutput(\n",
      "            (dense): Linear(in_features=3072, out_features=768, bias=True)\n",
      "            (LayerNorm): LayerNorm()\n",
      "            (dropout): Dropout(p=0.1)\n",
      "          )\n",
      "        )\n",
      "        (11): ProteinBertLayer(\n",
      "          (attention): ProteinBertAttention(\n",
      "            (self): ProteinBertSelfAttention(\n",
      "              (query): Linear(in_features=768, out_features=768, bias=True)\n",
      "              (key): Linear(in_features=768, out_features=768, bias=True)\n",
      "              (value): Linear(in_features=768, out_features=768, bias=True)\n",
      "              (dropout): Dropout(p=0.1)\n",
      "            )\n",
      "            (output): ProteinBertSelfOutput(\n",
      "              (dense): Linear(in_features=768, out_features=768, bias=True)\n",
      "              (LayerNorm): LayerNorm()\n",
      "              (dropout): Dropout(p=0.1)\n",
      "            )\n",
      "          )\n",
      "          (intermediate): ProteinBertIntermediate(\n",
      "            (dense): Linear(in_features=768, out_features=3072, bias=True)\n",
      "          )\n",
      "          (output): ProteinBertOutput(\n",
      "            (dense): Linear(in_features=3072, out_features=768, bias=True)\n",
      "            (LayerNorm): LayerNorm()\n",
      "            (dropout): Dropout(p=0.1)\n",
      "          )\n",
      "        )\n",
      "      )\n",
      "    )\n",
      "    (pooler): ProteinBertPooler(\n",
      "      (dense): Linear(in_features=768, out_features=768, bias=True)\n",
      "      (activation): Tanh()\n",
      "    )\n",
      "  )\n",
      "  (classifier): SimpleMLP(\n",
      "    (main): Sequential(\n",
      "      (0): Linear(in_features=768, out_features=512, bias=True)\n",
      "      (1): ReLU()\n",
      "      (2): Dropout(p=0.0, inplace)\n",
      "      (3): Linear(in_features=512, out_features=2, bias=True)\n",
      "    )\n",
      "  )\n",
      ")\n"
     ]
    },
    {
     "name": "stdout",
     "output_type": "stream",
     "text": [
      "2021-10-02 23:39:53 [INFO]: train.n_data: 20110, test.n_data: 5028\n",
      "2021-10-02 23:39:53 [INFO]: optimizer: Adam (\n",
      "Parameter Group 0\n",
      "    amsgrad: False\n",
      "    betas: (0.9, 0.999)\n",
      "    eps: 1e-08\n",
      "    lr: 0.0001\n",
      "    weight_decay: 0\n",
      ")\n",
      "2021-10-02 23:39:53 [INFO]: evaluator: <tcrbert.model.BertTCREpitopeModel.PredictionEvaluator object at 0x7f039a779a50>\n",
      "2021-10-02 23:39:53 [INFO]: n_epochs: 150\n",
      "2021-10-02 23:39:53 [INFO]: train.batch_size: 128\n",
      "2021-10-02 23:39:53 [INFO]: test.batch_size: 128\n"
     ]
    },
    {
     "name": "stderr",
     "output_type": "stream",
     "text": [
      "Training in epoch 0/150: 100%|██████████| 158/158 [03:25<00:00,  1.30s/batch]\n",
      "Validating in epoch 0/150: 100%|██████████| 40/40 [00:38<00:00,  1.05batch/s]"
     ]
    },
    {
     "name": "stdout",
     "output_type": "stream",
     "text": [
      "2021-10-02 23:43:56 [INFO]: [EvalScoreRecoder]: In epoch 0/150, loss train score: 0.685416607539865, val score: 0.6748630315065384\n",
      "2021-10-02 23:43:56 [INFO]: [EvalScoreRecoder]: In epoch 0/150, accuracy train score: 0.5535078548824593, val score: 0.5826822916666666\n",
      "2021-10-02 23:43:56 [INFO]: [EarlyStopper]: In epoch 0/150, accuracy score: 0.5826822916666666, best accuracy score: -inf;update best score to 0.5826822916666666\n",
      "2021-10-02 23:43:56 [INFO]: [ModelCheckpoint]: Checkpoint at epoch 0: accuracy improved from -inf to 0.5826822916666666, saving model to ../output/exp1/train.0.model_0.chk\n"
     ]
    },
    {
     "name": "stderr",
     "output_type": "stream",
     "text": [
      "\n",
      "Training in epoch 1/150: 100%|██████████| 158/158 [03:23<00:00,  1.29s/batch]\n",
      "Validating in epoch 1/150: 100%|██████████| 40/40 [00:37<00:00,  1.08batch/s]"
     ]
    },
    {
     "name": "stdout",
     "output_type": "stream",
     "text": [
      "2021-10-02 23:47:57 [INFO]: [EvalScoreRecoder]: In epoch 1/150, loss train score: 0.6406082963641686, val score: 0.5948871232569217\n",
      "2021-10-02 23:47:57 [INFO]: [EvalScoreRecoder]: In epoch 1/150, accuracy train score: 0.6211502599457505, val score: 0.663259548611111\n",
      "2021-10-02 23:47:57 [INFO]: [EarlyStopper]: In epoch 1/150, accuracy score: 0.663259548611111, best accuracy score: 0.5826822916666666;update best score to 0.663259548611111\n",
      "2021-10-02 23:47:57 [INFO]: [ModelCheckpoint]: Checkpoint at epoch 1: accuracy improved from 0.5826822916666666 to 0.663259548611111, saving model to ../output/exp1/train.0.model_1.chk\n"
     ]
    },
    {
     "name": "stderr",
     "output_type": "stream",
     "text": [
      "\n",
      "Training in epoch 2/150: 100%|██████████| 158/158 [03:20<00:00,  1.27s/batch]\n",
      "Validating in epoch 2/150: 100%|██████████| 40/40 [00:37<00:00,  1.07batch/s]"
     ]
    },
    {
     "name": "stdout",
     "output_type": "stream",
     "text": [
      "2021-10-02 23:51:56 [INFO]: [EvalScoreRecoder]: In epoch 2/150, loss train score: 0.5622627052325236, val score: 0.570823023468256\n",
      "2021-10-02 23:51:56 [INFO]: [EvalScoreRecoder]: In epoch 2/150, accuracy train score: 0.6894637206148282, val score: 0.690256076388889\n",
      "2021-10-02 23:51:56 [INFO]: [EarlyStopper]: In epoch 2/150, accuracy score: 0.690256076388889, best accuracy score: 0.663259548611111;update best score to 0.690256076388889\n",
      "2021-10-02 23:51:56 [INFO]: [ModelCheckpoint]: Checkpoint at epoch 2: accuracy improved from 0.663259548611111 to 0.690256076388889, saving model to ../output/exp1/train.0.model_2.chk\n"
     ]
    },
    {
     "name": "stderr",
     "output_type": "stream",
     "text": [
      "\n",
      "Training in epoch 3/150: 100%|██████████| 158/158 [03:56<00:00,  1.50s/batch]\n",
      "Validating in epoch 3/150: 100%|██████████| 40/40 [00:37<00:00,  1.07batch/s]"
     ]
    },
    {
     "name": "stdout",
     "output_type": "stream",
     "text": [
      "2021-10-02 23:56:30 [INFO]: [EvalScoreRecoder]: In epoch 3/150, loss train score: 0.5082104169303858, val score: 0.5534651964902878\n",
      "2021-10-02 23:56:30 [INFO]: [EvalScoreRecoder]: In epoch 3/150, accuracy train score: 0.7288370253164557, val score: 0.7004774305555556\n",
      "2021-10-02 23:56:30 [INFO]: [EarlyStopper]: In epoch 3/150, accuracy score: 0.7004774305555556, best accuracy score: 0.690256076388889;update best score to 0.7004774305555556\n",
      "2021-10-02 23:56:30 [INFO]: [ModelCheckpoint]: Checkpoint at epoch 3: accuracy improved from 0.690256076388889 to 0.7004774305555556, saving model to ../output/exp1/train.0.model_3.chk\n"
     ]
    },
    {
     "name": "stderr",
     "output_type": "stream",
     "text": [
      "\n",
      "Training in epoch 4/150: 100%|██████████| 158/158 [03:21<00:00,  1.28s/batch]\n",
      "Validating in epoch 4/150: 100%|██████████| 40/40 [00:37<00:00,  1.07batch/s]"
     ]
    },
    {
     "name": "stdout",
     "output_type": "stream",
     "text": [
      "2021-10-03 00:00:30 [INFO]: [EvalScoreRecoder]: In epoch 4/150, loss train score: 0.4631078906262977, val score: 0.7059741169214249\n",
      "2021-10-03 00:00:30 [INFO]: [EvalScoreRecoder]: In epoch 4/150, accuracy train score: 0.7653777689873418, val score: 0.6777994791666666\n",
      "2021-10-03 00:00:30 [INFO]: [EarlyStopper]: In epoch 4/150, accuracy score: 0.6777994791666666, best accuracy score: 0.7004774305555556;accuracy score was not improved\n",
      "2021-10-03 00:00:30 [INFO]: [EarlyStopper]: Current wait count: 1, patience: 15\n",
      "2021-10-03 00:00:30 [INFO]: [ModelCheckpoint]: Checkpoint at epoch 4: accuracy did not improve\n"
     ]
    },
    {
     "name": "stderr",
     "output_type": "stream",
     "text": [
      "\n",
      "Training in epoch 5/150: 100%|██████████| 158/158 [03:21<00:00,  1.27s/batch]\n",
      "Validating in epoch 5/150: 100%|██████████| 40/40 [00:38<00:00,  1.05batch/s]"
     ]
    },
    {
     "name": "stdout",
     "output_type": "stream",
     "text": [
      "2021-10-03 00:04:29 [INFO]: [EvalScoreRecoder]: In epoch 5/150, loss train score: 0.40755725227579287, val score: 0.6951736122369766\n",
      "2021-10-03 00:04:29 [INFO]: [EvalScoreRecoder]: In epoch 5/150, accuracy train score: 0.7995450949367089, val score: 0.683376736111111\n",
      "2021-10-03 00:04:29 [INFO]: [EarlyStopper]: In epoch 5/150, accuracy score: 0.683376736111111, best accuracy score: 0.7004774305555556;accuracy score was not improved\n",
      "2021-10-03 00:04:29 [INFO]: [EarlyStopper]: Current wait count: 2, patience: 15\n",
      "2021-10-03 00:04:29 [INFO]: [ModelCheckpoint]: Checkpoint at epoch 5: accuracy did not improve\n"
     ]
    },
    {
     "name": "stderr",
     "output_type": "stream",
     "text": [
      "\n",
      "Training in epoch 6/150: 100%|██████████| 158/158 [03:51<00:00,  1.46s/batch]\n",
      "Validating in epoch 6/150: 100%|██████████| 40/40 [00:37<00:00,  1.07batch/s]"
     ]
    },
    {
     "name": "stdout",
     "output_type": "stream",
     "text": [
      "2021-10-03 00:08:57 [INFO]: [EvalScoreRecoder]: In epoch 6/150, loss train score: 0.35500246352410014, val score: 0.6996993124485016\n",
      "2021-10-03 00:08:57 [INFO]: [EvalScoreRecoder]: In epoch 6/150, accuracy train score: 0.8355419303797469, val score: 0.7068359375\n",
      "2021-10-03 00:08:57 [INFO]: [EarlyStopper]: In epoch 6/150, accuracy score: 0.7068359375, best accuracy score: 0.7004774305555556;update best score to 0.7068359375\n",
      "2021-10-03 00:08:57 [INFO]: [ModelCheckpoint]: Checkpoint at epoch 6: accuracy improved from 0.7004774305555556 to 0.7068359375, saving model to ../output/exp1/train.0.model_6.chk\n"
     ]
    },
    {
     "name": "stderr",
     "output_type": "stream",
     "text": [
      "\n",
      "Training in epoch 7/150: 100%|██████████| 158/158 [03:20<00:00,  1.27s/batch]\n",
      "Validating in epoch 7/150: 100%|██████████| 40/40 [00:37<00:00,  1.05batch/s]"
     ]
    },
    {
     "name": "stdout",
     "output_type": "stream",
     "text": [
      "2021-10-03 00:12:57 [INFO]: [EvalScoreRecoder]: In epoch 7/150, loss train score: 0.3013963011517838, val score: 0.7619759634137153\n",
      "2021-10-03 00:12:57 [INFO]: [EvalScoreRecoder]: In epoch 7/150, accuracy train score: 0.867879746835443, val score: 0.717599826388889\n",
      "2021-10-03 00:12:57 [INFO]: [EarlyStopper]: In epoch 7/150, accuracy score: 0.717599826388889, best accuracy score: 0.7068359375;update best score to 0.717599826388889\n",
      "2021-10-03 00:12:57 [INFO]: [ModelCheckpoint]: Checkpoint at epoch 7: accuracy improved from 0.7068359375 to 0.717599826388889, saving model to ../output/exp1/train.0.model_7.chk\n"
     ]
    },
    {
     "name": "stderr",
     "output_type": "stream",
     "text": [
      "\n",
      "Training in epoch 8/150: 100%|██████████| 158/158 [03:19<00:00,  1.26s/batch]\n",
      "Validating in epoch 8/150: 100%|██████████| 40/40 [00:37<00:00,  1.06batch/s]"
     ]
    },
    {
     "name": "stdout",
     "output_type": "stream",
     "text": [
      "2021-10-03 00:16:54 [INFO]: [EvalScoreRecoder]: In epoch 8/150, loss train score: 0.26861469755892325, val score: 0.7391107387840747\n",
      "2021-10-03 00:16:54 [INFO]: [EvalScoreRecoder]: In epoch 8/150, accuracy train score: 0.8830102848101266, val score: 0.7303602430555556\n",
      "2021-10-03 00:16:54 [INFO]: [EarlyStopper]: In epoch 8/150, accuracy score: 0.7303602430555556, best accuracy score: 0.717599826388889;update best score to 0.7303602430555556\n",
      "2021-10-03 00:16:54 [INFO]: [ModelCheckpoint]: Checkpoint at epoch 8: accuracy improved from 0.717599826388889 to 0.7303602430555556, saving model to ../output/exp1/train.0.model_8.chk\n"
     ]
    },
    {
     "name": "stderr",
     "output_type": "stream",
     "text": [
      "\n",
      "Training in epoch 9/150: 100%|██████████| 158/158 [03:21<00:00,  1.27s/batch]\n",
      "Validating in epoch 9/150: 100%|██████████| 40/40 [00:37<00:00,  1.07batch/s]"
     ]
    },
    {
     "name": "stdout",
     "output_type": "stream",
     "text": [
      "2021-10-03 00:20:53 [INFO]: [EvalScoreRecoder]: In epoch 9/150, loss train score: 0.20106047450541223, val score: 0.9193572029471397\n",
      "2021-10-03 00:20:53 [INFO]: [EvalScoreRecoder]: In epoch 9/150, accuracy train score: 0.9156447784810127, val score: 0.7222439236111111\n",
      "2021-10-03 00:20:53 [INFO]: [EarlyStopper]: In epoch 9/150, accuracy score: 0.7222439236111111, best accuracy score: 0.7303602430555556;accuracy score was not improved\n",
      "2021-10-03 00:20:53 [INFO]: [EarlyStopper]: Current wait count: 1, patience: 15\n",
      "2021-10-03 00:20:53 [INFO]: [ModelCheckpoint]: Checkpoint at epoch 9: accuracy did not improve\n"
     ]
    },
    {
     "name": "stderr",
     "output_type": "stream",
     "text": [
      "\n",
      "Training in epoch 10/150: 100%|██████████| 158/158 [03:39<00:00,  1.39s/batch]\n",
      "Validating in epoch 10/150: 100%|██████████| 40/40 [00:37<00:00,  1.05batch/s]"
     ]
    },
    {
     "name": "stdout",
     "output_type": "stream",
     "text": [
      "2021-10-03 00:25:10 [INFO]: [EvalScoreRecoder]: In epoch 10/150, loss train score: 0.1667599884035726, val score: 0.8274986043572425\n",
      "2021-10-03 00:25:10 [INFO]: [EvalScoreRecoder]: In epoch 10/150, accuracy train score: 0.9334454113924051, val score: 0.7375\n",
      "2021-10-03 00:25:10 [INFO]: [EarlyStopper]: In epoch 10/150, accuracy score: 0.7375, best accuracy score: 0.7303602430555556;update best score to 0.7375\n",
      "2021-10-03 00:25:10 [INFO]: [ModelCheckpoint]: Checkpoint at epoch 10: accuracy improved from 0.7303602430555556 to 0.7375, saving model to ../output/exp1/train.0.model_10.chk\n"
     ]
    },
    {
     "name": "stderr",
     "output_type": "stream",
     "text": [
      "\n",
      "Training in epoch 11/150: 100%|██████████| 158/158 [03:21<00:00,  1.27s/batch]\n",
      "Validating in epoch 11/150: 100%|██████████| 40/40 [00:37<00:00,  1.07batch/s]"
     ]
    },
    {
     "name": "stdout",
     "output_type": "stream",
     "text": [
      "2021-10-03 00:29:09 [INFO]: [EvalScoreRecoder]: In epoch 11/150, loss train score: 0.13923232817780698, val score: 0.8658847853541374\n",
      "2021-10-03 00:29:09 [INFO]: [EvalScoreRecoder]: In epoch 11/150, accuracy train score: 0.946153085443038, val score: 0.7248046875\n",
      "2021-10-03 00:29:09 [INFO]: [EarlyStopper]: In epoch 11/150, accuracy score: 0.7248046875, best accuracy score: 0.7375;accuracy score was not improved\n",
      "2021-10-03 00:29:09 [INFO]: [EarlyStopper]: Current wait count: 1, patience: 15\n",
      "2021-10-03 00:29:09 [INFO]: [ModelCheckpoint]: Checkpoint at epoch 11: accuracy did not improve\n"
     ]
    },
    {
     "name": "stderr",
     "output_type": "stream",
     "text": [
      "\n",
      "Training in epoch 12/150: 100%|██████████| 158/158 [03:19<00:00,  1.26s/batch]\n",
      "Validating in epoch 12/150: 100%|██████████| 40/40 [00:37<00:00,  1.07batch/s]"
     ]
    },
    {
     "name": "stdout",
     "output_type": "stream",
     "text": [
      "2021-10-03 00:33:06 [INFO]: [EvalScoreRecoder]: In epoch 12/150, loss train score: 0.11968574713019631, val score: 0.957202136516571\n",
      "2021-10-03 00:33:06 [INFO]: [EvalScoreRecoder]: In epoch 12/150, accuracy train score: 0.9547567246835443, val score: 0.7503038194444445\n",
      "2021-10-03 00:33:06 [INFO]: [EarlyStopper]: In epoch 12/150, accuracy score: 0.7503038194444445, best accuracy score: 0.7375;update best score to 0.7503038194444445\n",
      "2021-10-03 00:33:06 [INFO]: [ModelCheckpoint]: Checkpoint at epoch 12: accuracy improved from 0.7375 to 0.7503038194444445, saving model to ../output/exp1/train.0.model_12.chk\n"
     ]
    },
    {
     "name": "stderr",
     "output_type": "stream",
     "text": [
      "\n",
      "Training in epoch 13/150: 100%|██████████| 158/158 [03:22<00:00,  1.28s/batch]\n",
      "Validating in epoch 13/150: 100%|██████████| 40/40 [00:38<00:00,  1.05batch/s]"
     ]
    },
    {
     "name": "stdout",
     "output_type": "stream",
     "text": [
      "2021-10-03 00:37:07 [INFO]: [EvalScoreRecoder]: In epoch 13/150, loss train score: 0.11132303596020358, val score: 0.9494324192404747\n",
      "2021-10-03 00:37:07 [INFO]: [EvalScoreRecoder]: In epoch 13/150, accuracy train score: 0.9569323575949367, val score: 0.7461805555555555\n",
      "2021-10-03 00:37:07 [INFO]: [EarlyStopper]: In epoch 13/150, accuracy score: 0.7461805555555555, best accuracy score: 0.7503038194444445;accuracy score was not improved\n",
      "2021-10-03 00:37:07 [INFO]: [EarlyStopper]: Current wait count: 1, patience: 15\n",
      "2021-10-03 00:37:07 [INFO]: [ModelCheckpoint]: Checkpoint at epoch 13: accuracy did not improve\n"
     ]
    },
    {
     "name": "stderr",
     "output_type": "stream",
     "text": [
      "\n",
      "Training in epoch 14/150: 100%|██████████| 158/158 [03:22<00:00,  1.28s/batch]\n",
      "Validating in epoch 14/150: 100%|██████████| 40/40 [00:37<00:00,  1.06batch/s]"
     ]
    },
    {
     "name": "stdout",
     "output_type": "stream",
     "text": [
      "2021-10-03 00:41:08 [INFO]: [EvalScoreRecoder]: In epoch 14/150, loss train score: 0.09145433799499245, val score: 1.0002603709697724\n",
      "2021-10-03 00:41:08 [INFO]: [EvalScoreRecoder]: In epoch 14/150, accuracy train score: 0.9656348892405063, val score: 0.7446180555555555\n",
      "2021-10-03 00:41:08 [INFO]: [EarlyStopper]: In epoch 14/150, accuracy score: 0.7446180555555555, best accuracy score: 0.7503038194444445;accuracy score was not improved\n",
      "2021-10-03 00:41:08 [INFO]: [EarlyStopper]: Current wait count: 2, patience: 15\n",
      "2021-10-03 00:41:08 [INFO]: [ModelCheckpoint]: Checkpoint at epoch 14: accuracy did not improve\n"
     ]
    },
    {
     "name": "stderr",
     "output_type": "stream",
     "text": [
      "\n",
      "Training in epoch 16/150: 100%|██████████| 158/158 [03:22<00:00,  1.28s/batch]\n",
      "Validating in epoch 16/150: 100%|██████████| 40/40 [00:38<00:00,  1.04batch/s]"
     ]
    },
    {
     "name": "stdout",
     "output_type": "stream",
     "text": [
      "2021-10-03 00:49:07 [INFO]: [EvalScoreRecoder]: In epoch 16/150, loss train score: 0.07780282500589007, val score: 1.1175270453095436\n",
      "2021-10-03 00:49:07 [INFO]: [EvalScoreRecoder]: In epoch 16/150, accuracy train score: 0.9722606803797469, val score: 0.7424913194444445\n",
      "2021-10-03 00:49:07 [INFO]: [EarlyStopper]: In epoch 16/150, accuracy score: 0.7424913194444445, best accuracy score: 0.7503038194444445;accuracy score was not improved\n",
      "2021-10-03 00:49:07 [INFO]: [EarlyStopper]: Current wait count: 4, patience: 15\n",
      "2021-10-03 00:49:07 [INFO]: [ModelCheckpoint]: Checkpoint at epoch 16: accuracy did not improve\n"
     ]
    },
    {
     "name": "stderr",
     "output_type": "stream",
     "text": [
      "\n",
      "Training in epoch 17/150: 100%|██████████| 158/158 [03:26<00:00,  1.31s/batch]\n",
      "Validating in epoch 17/150: 100%|██████████| 40/40 [00:38<00:00,  1.05batch/s]"
     ]
    },
    {
     "name": "stdout",
     "output_type": "stream",
     "text": [
      "2021-10-03 00:53:12 [INFO]: [EvalScoreRecoder]: In epoch 17/150, loss train score: 0.07055566298386341, val score: 0.8583766877651214\n",
      "2021-10-03 00:53:12 [INFO]: [EvalScoreRecoder]: In epoch 17/150, accuracy train score: 0.9744786957504522, val score: 0.7516710069444444\n",
      "2021-10-03 00:53:12 [INFO]: [EarlyStopper]: In epoch 17/150, accuracy score: 0.7516710069444444, best accuracy score: 0.7503038194444445;update best score to 0.7516710069444444\n",
      "2021-10-03 00:53:12 [INFO]: [ModelCheckpoint]: Checkpoint at epoch 17: accuracy improved from 0.7503038194444445 to 0.7516710069444444, saving model to ../output/exp1/train.0.model_17.chk\n"
     ]
    },
    {
     "name": "stderr",
     "output_type": "stream",
     "text": [
      "\n",
      "Training in epoch 18/150: 100%|██████████| 158/158 [03:23<00:00,  1.29s/batch]\n",
      "Validating in epoch 18/150: 100%|██████████| 40/40 [00:38<00:00,  1.04batch/s]"
     ]
    },
    {
     "name": "stdout",
     "output_type": "stream",
     "text": [
      "2021-10-03 00:57:15 [INFO]: [EvalScoreRecoder]: In epoch 18/150, loss train score: 0.07417477194007628, val score: 1.0360615894198417\n",
      "2021-10-03 00:57:15 [INFO]: [EvalScoreRecoder]: In epoch 18/150, accuracy train score: 0.9729034810126582, val score: 0.7418836805555555\n",
      "2021-10-03 00:57:15 [INFO]: [EarlyStopper]: In epoch 18/150, accuracy score: 0.7418836805555555, best accuracy score: 0.7516710069444444;accuracy score was not improved\n",
      "2021-10-03 00:57:15 [INFO]: [EarlyStopper]: Current wait count: 1, patience: 15\n",
      "2021-10-03 00:57:15 [INFO]: [ModelCheckpoint]: Checkpoint at epoch 18: accuracy did not improve\n"
     ]
    },
    {
     "name": "stderr",
     "output_type": "stream",
     "text": [
      "\n",
      "Training in epoch 19/150: 100%|██████████| 158/158 [03:23<00:00,  1.29s/batch]\n",
      "Validating in epoch 19/150: 100%|██████████| 40/40 [00:40<00:00,  1.02s/batch]"
     ]
    },
    {
     "name": "stdout",
     "output_type": "stream",
     "text": [
      "2021-10-03 01:01:18 [INFO]: [EvalScoreRecoder]: In epoch 19/150, loss train score: 0.053366897254887545, val score: 1.1682468503713608\n",
      "2021-10-03 01:01:18 [INFO]: [EvalScoreRecoder]: In epoch 19/150, accuracy train score: 0.9808643196202531, val score: 0.7441623263888889\n",
      "2021-10-03 01:01:18 [INFO]: [EarlyStopper]: In epoch 19/150, accuracy score: 0.7441623263888889, best accuracy score: 0.7516710069444444;accuracy score was not improved\n",
      "2021-10-03 01:01:18 [INFO]: [EarlyStopper]: Current wait count: 2, patience: 15\n",
      "2021-10-03 01:01:18 [INFO]: [ModelCheckpoint]: Checkpoint at epoch 19: accuracy did not improve\n"
     ]
    },
    {
     "name": "stderr",
     "output_type": "stream",
     "text": [
      "\n",
      "Training in epoch 20/150: 100%|██████████| 158/158 [03:39<00:00,  1.39s/batch]\n",
      "Validating in epoch 20/150: 100%|██████████| 40/40 [00:39<00:00,  1.02batch/s]"
     ]
    },
    {
     "name": "stdout",
     "output_type": "stream",
     "text": [
      "2021-10-03 01:05:37 [INFO]: [EvalScoreRecoder]: In epoch 20/150, loss train score: 0.05438033065204568, val score: 1.1608779087662697\n",
      "2021-10-03 01:05:37 [INFO]: [EvalScoreRecoder]: In epoch 20/150, accuracy train score: 0.9808078096745028, val score: 0.75390625\n",
      "2021-10-03 01:05:37 [INFO]: [EarlyStopper]: In epoch 20/150, accuracy score: 0.75390625, best accuracy score: 0.7516710069444444;update best score to 0.75390625\n",
      "2021-10-03 01:05:37 [INFO]: [ModelCheckpoint]: Checkpoint at epoch 20: accuracy improved from 0.7516710069444444 to 0.75390625, saving model to ../output/exp1/train.0.model_20.chk\n"
     ]
    },
    {
     "name": "stderr",
     "output_type": "stream",
     "text": [
      "\n",
      "Training in epoch 21/150: 100%|██████████| 158/158 [03:31<00:00,  1.34s/batch]\n",
      "Validating in epoch 21/150: 100%|██████████| 40/40 [00:40<00:00,  1.01s/batch]"
     ]
    },
    {
     "name": "stdout",
     "output_type": "stream",
     "text": [
      "2021-10-03 01:09:50 [INFO]: [EvalScoreRecoder]: In epoch 21/150, loss train score: 0.06414230405632997, val score: 1.118401001393795\n",
      "2021-10-03 01:09:50 [INFO]: [EvalScoreRecoder]: In epoch 21/150, accuracy train score: 0.9773041930379747, val score: 0.7539930555555555\n",
      "2021-10-03 01:09:50 [INFO]: [EarlyStopper]: In epoch 21/150, accuracy score: 0.7539930555555555, best accuracy score: 0.75390625;update best score to 0.7539930555555555\n",
      "2021-10-03 01:09:50 [INFO]: [ModelCheckpoint]: Checkpoint at epoch 21: accuracy improved from 0.75390625 to 0.7539930555555555, saving model to ../output/exp1/train.0.model_21.chk\n"
     ]
    },
    {
     "name": "stderr",
     "output_type": "stream",
     "text": [
      "\n",
      "Training in epoch 22/150: 100%|██████████| 158/158 [03:37<00:00,  1.37s/batch]\n",
      "Validating in epoch 22/150: 100%|██████████| 40/40 [00:39<00:00,  1.00batch/s]"
     ]
    },
    {
     "name": "stdout",
     "output_type": "stream",
     "text": [
      "2021-10-03 01:14:07 [INFO]: [EvalScoreRecoder]: In epoch 22/150, loss train score: 0.047322257437107385, val score: 1.0287435486912728\n",
      "2021-10-03 01:14:07 [INFO]: [EvalScoreRecoder]: In epoch 22/150, accuracy train score: 0.9835838607594937, val score: 0.7616102430555556\n",
      "2021-10-03 01:14:07 [INFO]: [EarlyStopper]: In epoch 22/150, accuracy score: 0.7616102430555556, best accuracy score: 0.7539930555555555;update best score to 0.7616102430555556\n",
      "2021-10-03 01:14:07 [INFO]: [ModelCheckpoint]: Checkpoint at epoch 22: accuracy improved from 0.7539930555555555 to 0.7616102430555556, saving model to ../output/exp1/train.0.model_22.chk\n"
     ]
    },
    {
     "name": "stderr",
     "output_type": "stream",
     "text": [
      "\n",
      "Training in epoch 23/150: 100%|██████████| 158/158 [03:37<00:00,  1.37s/batch]\n",
      "Validating in epoch 23/150: 100%|██████████| 40/40 [00:40<00:00,  1.01s/batch]"
     ]
    },
    {
     "name": "stdout",
     "output_type": "stream",
     "text": [
      "2021-10-03 01:18:25 [INFO]: [EvalScoreRecoder]: In epoch 23/150, loss train score: 0.042946015074967016, val score: 1.1821334674954413\n",
      "2021-10-03 01:18:25 [INFO]: [EvalScoreRecoder]: In epoch 23/150, accuracy train score: 0.9849683544303798, val score: 0.7613064236111111\n",
      "2021-10-03 01:18:25 [INFO]: [EarlyStopper]: In epoch 23/150, accuracy score: 0.7613064236111111, best accuracy score: 0.7616102430555556;accuracy score was not improved\n",
      "2021-10-03 01:18:25 [INFO]: [EarlyStopper]: Current wait count: 1, patience: 15\n",
      "2021-10-03 01:18:25 [INFO]: [ModelCheckpoint]: Checkpoint at epoch 23: accuracy did not improve\n"
     ]
    },
    {
     "name": "stderr",
     "output_type": "stream",
     "text": [
      "\n",
      "Training in epoch 24/150: 100%|██████████| 158/158 [03:40<00:00,  1.39s/batch]\n",
      "Validating in epoch 24/150: 100%|██████████| 40/40 [00:40<00:00,  1.02s/batch]"
     ]
    },
    {
     "name": "stdout",
     "output_type": "stream",
     "text": [
      "2021-10-03 01:22:46 [INFO]: [EvalScoreRecoder]: In epoch 24/150, loss train score: 0.04576880046180479, val score: 1.117977799475193\n",
      "2021-10-03 01:22:46 [INFO]: [EvalScoreRecoder]: In epoch 24/150, accuracy train score: 0.983682753164557, val score: 0.7596571180555556\n",
      "2021-10-03 01:22:46 [INFO]: [EarlyStopper]: In epoch 24/150, accuracy score: 0.7596571180555556, best accuracy score: 0.7616102430555556;accuracy score was not improved\n",
      "2021-10-03 01:22:46 [INFO]: [EarlyStopper]: Current wait count: 2, patience: 15\n",
      "2021-10-03 01:22:46 [INFO]: [ModelCheckpoint]: Checkpoint at epoch 24: accuracy did not improve\n"
     ]
    },
    {
     "name": "stderr",
     "output_type": "stream",
     "text": [
      "\n",
      "Training in epoch 25/150: 100%|██████████| 158/158 [03:33<00:00,  1.35s/batch]\n",
      "Validating in epoch 25/150: 100%|██████████| 40/40 [00:47<00:00,  1.18s/batch]"
     ]
    },
    {
     "name": "stdout",
     "output_type": "stream",
     "text": [
      "2021-10-03 01:27:07 [INFO]: [EvalScoreRecoder]: In epoch 25/150, loss train score: 0.038498973276442555, val score: 1.2220110327005387\n",
      "2021-10-03 01:27:07 [INFO]: [EvalScoreRecoder]: In epoch 25/150, accuracy train score: 0.9865506329113924, val score: 0.7585069444444444\n",
      "2021-10-03 01:27:07 [INFO]: [EarlyStopper]: In epoch 25/150, accuracy score: 0.7585069444444444, best accuracy score: 0.7616102430555556;accuracy score was not improved\n",
      "2021-10-03 01:27:07 [INFO]: [EarlyStopper]: Current wait count: 3, patience: 15\n",
      "2021-10-03 01:27:07 [INFO]: [ModelCheckpoint]: Checkpoint at epoch 25: accuracy did not improve\n"
     ]
    },
    {
     "name": "stderr",
     "output_type": "stream",
     "text": [
      "\n",
      "Training in epoch 27/150: 100%|██████████| 158/158 [03:38<00:00,  1.38s/batch]\n",
      "Validating in epoch 27/150: 100%|██████████| 40/40 [00:41<00:00,  1.04s/batch]"
     ]
    },
    {
     "name": "stdout",
     "output_type": "stream",
     "text": [
      "2021-10-03 01:35:42 [INFO]: [EvalScoreRecoder]: In epoch 27/150, loss train score: 0.037753869602574576, val score: 1.2298488855361938\n",
      "2021-10-03 01:35:42 [INFO]: [EvalScoreRecoder]: In epoch 27/150, accuracy train score: 0.9877373417721519, val score: 0.7630642361111111\n",
      "2021-10-03 01:35:42 [INFO]: [EarlyStopper]: In epoch 27/150, accuracy score: 0.7630642361111111, best accuracy score: 0.7616102430555556;update best score to 0.7630642361111111\n",
      "2021-10-03 01:35:42 [INFO]: [ModelCheckpoint]: Checkpoint at epoch 27: accuracy improved from 0.7616102430555556 to 0.7630642361111111, saving model to ../output/exp1/train.0.model_27.chk\n"
     ]
    },
    {
     "name": "stderr",
     "output_type": "stream",
     "text": [
      "\n",
      "Training in epoch 28/150: 100%|██████████| 158/158 [03:45<00:00,  1.43s/batch]\n",
      "Validating in epoch 28/150: 100%|██████████| 40/40 [00:40<00:00,  1.00s/batch]"
     ]
    },
    {
     "name": "stdout",
     "output_type": "stream",
     "text": [
      "2021-10-03 01:40:09 [INFO]: [EvalScoreRecoder]: In epoch 28/150, loss train score: 0.05019588052012215, val score: 1.0229157745838164\n",
      "2021-10-03 01:40:09 [INFO]: [EvalScoreRecoder]: In epoch 28/150, accuracy train score: 0.9827432753164557, val score: 0.7658203125\n",
      "2021-10-03 01:40:09 [INFO]: [EarlyStopper]: In epoch 28/150, accuracy score: 0.7658203125, best accuracy score: 0.7630642361111111;update best score to 0.7658203125\n",
      "2021-10-03 01:40:09 [INFO]: [ModelCheckpoint]: Checkpoint at epoch 28: accuracy improved from 0.7630642361111111 to 0.7658203125, saving model to ../output/exp1/train.0.model_28.chk\n"
     ]
    },
    {
     "name": "stderr",
     "output_type": "stream",
     "text": [
      "\n",
      "Training in epoch 29/150: 100%|██████████| 158/158 [03:34<00:00,  1.36s/batch]\n",
      "Validating in epoch 29/150: 100%|██████████| 40/40 [00:47<00:00,  1.20s/batch]"
     ]
    },
    {
     "name": "stdout",
     "output_type": "stream",
     "text": [
      "2021-10-03 01:44:32 [INFO]: [EvalScoreRecoder]: In epoch 29/150, loss train score: 0.03522039980139831, val score: 1.009060153365135\n",
      "2021-10-03 01:44:32 [INFO]: [EvalScoreRecoder]: In epoch 29/150, accuracy train score: 0.9875395569620253, val score: 0.7598741319444444\n",
      "2021-10-03 01:44:32 [INFO]: [EarlyStopper]: In epoch 29/150, accuracy score: 0.7598741319444444, best accuracy score: 0.7658203125;accuracy score was not improved\n",
      "2021-10-03 01:44:32 [INFO]: [EarlyStopper]: Current wait count: 1, patience: 15\n",
      "2021-10-03 01:44:32 [INFO]: [ModelCheckpoint]: Checkpoint at epoch 29: accuracy did not improve\n"
     ]
    },
    {
     "name": "stderr",
     "output_type": "stream",
     "text": [
      "\n",
      "Training in epoch 31/150: 100%|██████████| 158/158 [03:31<00:00,  1.34s/batch]\n",
      "Validating in epoch 31/150: 100%|██████████| 40/40 [00:40<00:00,  1.00s/batch]"
     ]
    },
    {
     "name": "stdout",
     "output_type": "stream",
     "text": [
      "2021-10-03 01:53:05 [INFO]: [EvalScoreRecoder]: In epoch 31/150, loss train score: 0.034048012627621735, val score: 1.223763856291771\n",
      "2021-10-03 01:53:05 [INFO]: [EvalScoreRecoder]: In epoch 31/150, accuracy train score: 0.9888746044303798, val score: 0.7612413194444445\n",
      "2021-10-03 01:53:05 [INFO]: [EarlyStopper]: In epoch 31/150, accuracy score: 0.7612413194444445, best accuracy score: 0.7689670138888889;accuracy score was not improved\n",
      "2021-10-03 01:53:05 [INFO]: [EarlyStopper]: Current wait count: 1, patience: 15\n",
      "2021-10-03 01:53:05 [INFO]: [ModelCheckpoint]: Checkpoint at epoch 31: accuracy did not improve\n"
     ]
    },
    {
     "name": "stderr",
     "output_type": "stream",
     "text": [
      "\n",
      "Training in epoch 32/150: 100%|██████████| 158/158 [03:31<00:00,  1.34s/batch]\n",
      "Validating in epoch 32/150: 100%|██████████| 40/40 [00:39<00:00,  1.01batch/s]"
     ]
    },
    {
     "name": "stdout",
     "output_type": "stream",
     "text": [
      "2021-10-03 01:57:16 [INFO]: [EvalScoreRecoder]: In epoch 32/150, loss train score: 0.034181828442975716, val score: 1.1103666797280312\n",
      "2021-10-03 01:57:16 [INFO]: [EvalScoreRecoder]: In epoch 32/150, accuracy train score: 0.9881823575949367, val score: 0.7567057291666666\n",
      "2021-10-03 01:57:16 [INFO]: [EarlyStopper]: In epoch 32/150, accuracy score: 0.7567057291666666, best accuracy score: 0.7689670138888889;accuracy score was not improved\n",
      "2021-10-03 01:57:16 [INFO]: [EarlyStopper]: Current wait count: 2, patience: 15\n",
      "2021-10-03 01:57:16 [INFO]: [ModelCheckpoint]: Checkpoint at epoch 32: accuracy did not improve\n"
     ]
    },
    {
     "name": "stderr",
     "output_type": "stream",
     "text": [
      "\n",
      "Training in epoch 33/150: 100%|██████████| 158/158 [03:30<00:00,  1.33s/batch]\n",
      "Validating in epoch 33/150: 100%|██████████| 40/40 [00:40<00:00,  1.00s/batch]"
     ]
    },
    {
     "name": "stdout",
     "output_type": "stream",
     "text": [
      "2021-10-03 02:01:27 [INFO]: [EvalScoreRecoder]: In epoch 33/150, loss train score: 0.03580799264284595, val score: 1.1832365840673447\n",
      "2021-10-03 02:01:27 [INFO]: [EvalScoreRecoder]: In epoch 33/150, accuracy train score: 0.98828125, val score: 0.7545138888888889\n",
      "2021-10-03 02:01:27 [INFO]: [EarlyStopper]: In epoch 33/150, accuracy score: 0.7545138888888889, best accuracy score: 0.7689670138888889;accuracy score was not improved\n",
      "2021-10-03 02:01:27 [INFO]: [EarlyStopper]: Current wait count: 3, patience: 15\n",
      "2021-10-03 02:01:27 [INFO]: [ModelCheckpoint]: Checkpoint at epoch 33: accuracy did not improve\n"
     ]
    },
    {
     "name": "stderr",
     "output_type": "stream",
     "text": [
      "\n",
      "Training in epoch 34/150: 100%|██████████| 158/158 [03:46<00:00,  1.43s/batch]\n",
      "Validating in epoch 34/150: 100%|██████████| 40/40 [00:39<00:00,  1.00batch/s]"
     ]
    },
    {
     "name": "stdout",
     "output_type": "stream",
     "text": [
      "2021-10-03 02:05:53 [INFO]: [EvalScoreRecoder]: In epoch 34/150, loss train score: 0.035799676307795354, val score: 1.410700622200966\n",
      "2021-10-03 02:05:53 [INFO]: [EvalScoreRecoder]: In epoch 34/150, accuracy train score: 0.9871934335443038, val score: 0.755859375\n",
      "2021-10-03 02:05:53 [INFO]: [EarlyStopper]: In epoch 34/150, accuracy score: 0.755859375, best accuracy score: 0.7689670138888889;accuracy score was not improved\n",
      "2021-10-03 02:05:53 [INFO]: [EarlyStopper]: Current wait count: 4, patience: 15\n",
      "2021-10-03 02:05:53 [INFO]: [ModelCheckpoint]: Checkpoint at epoch 34: accuracy did not improve\n"
     ]
    },
    {
     "name": "stderr",
     "output_type": "stream",
     "text": [
      "\n",
      "Training in epoch 35/150: 100%|██████████| 158/158 [03:31<00:00,  1.34s/batch]\n",
      "Validating in epoch 35/150: 100%|██████████| 40/40 [00:40<00:00,  1.00s/batch]"
     ]
    },
    {
     "name": "stdout",
     "output_type": "stream",
     "text": [
      "2021-10-03 02:10:05 [INFO]: [EvalScoreRecoder]: In epoch 35/150, loss train score: 0.03414937845137283, val score: 1.038359871506691\n",
      "2021-10-03 02:10:05 [INFO]: [EvalScoreRecoder]: In epoch 35/150, accuracy train score: 0.9877867879746836, val score: 0.7593532986111111\n",
      "2021-10-03 02:10:05 [INFO]: [EarlyStopper]: In epoch 35/150, accuracy score: 0.7593532986111111, best accuracy score: 0.7689670138888889;accuracy score was not improved\n",
      "2021-10-03 02:10:05 [INFO]: [EarlyStopper]: Current wait count: 5, patience: 15\n",
      "2021-10-03 02:10:05 [INFO]: [ModelCheckpoint]: Checkpoint at epoch 35: accuracy did not improve\n"
     ]
    },
    {
     "name": "stderr",
     "output_type": "stream",
     "text": [
      "\n",
      "Training in epoch 36/150: 100%|██████████| 158/158 [03:34<00:00,  1.36s/batch]\n",
      "Validating in epoch 36/150: 100%|██████████| 40/40 [00:39<00:00,  1.00batch/s]"
     ]
    },
    {
     "name": "stdout",
     "output_type": "stream",
     "text": [
      "2021-10-03 02:14:19 [INFO]: [EvalScoreRecoder]: In epoch 36/150, loss train score: 0.030405297358719267, val score: 1.089903599023819\n",
      "2021-10-03 02:14:19 [INFO]: [EvalScoreRecoder]: In epoch 36/150, accuracy train score: 0.9900118670886076, val score: 0.771657986111111\n",
      "2021-10-03 02:14:19 [INFO]: [EarlyStopper]: In epoch 36/150, accuracy score: 0.771657986111111, best accuracy score: 0.7689670138888889;update best score to 0.771657986111111\n",
      "2021-10-03 02:14:19 [INFO]: [ModelCheckpoint]: Checkpoint at epoch 36: accuracy improved from 0.7689670138888889 to 0.771657986111111, saving model to ../output/exp1/train.0.model_36.chk\n"
     ]
    },
    {
     "name": "stderr",
     "output_type": "stream",
     "text": [
      "\n",
      "Training in epoch 37/150: 100%|██████████| 158/158 [03:30<00:00,  1.33s/batch]\n",
      "Validating in epoch 37/150: 100%|██████████| 40/40 [00:40<00:00,  1.00s/batch]"
     ]
    },
    {
     "name": "stdout",
     "output_type": "stream",
     "text": [
      "2021-10-03 02:18:29 [INFO]: [EvalScoreRecoder]: In epoch 37/150, loss train score: 0.031839731942915325, val score: 1.0822225213050842\n",
      "2021-10-03 02:18:29 [INFO]: [EvalScoreRecoder]: In epoch 37/150, accuracy train score: 0.9885284810126582, val score: 0.7664930555555556\n",
      "2021-10-03 02:18:29 [INFO]: [EarlyStopper]: In epoch 37/150, accuracy score: 0.7664930555555556, best accuracy score: 0.771657986111111;accuracy score was not improved\n",
      "2021-10-03 02:18:29 [INFO]: [EarlyStopper]: Current wait count: 1, patience: 15\n",
      "2021-10-03 02:18:29 [INFO]: [ModelCheckpoint]: Checkpoint at epoch 37: accuracy did not improve\n"
     ]
    },
    {
     "name": "stderr",
     "output_type": "stream",
     "text": [
      "\n",
      "Training in epoch 38/150:  59%|█████▉    | 93/158 [02:09<01:26,  1.33s/batch]IOPub message rate exceeded.\n",
      "The notebook server will temporarily stop sending output\n",
      "to the client in order to avoid crashing it.\n",
      "To change this limit, set the config variable\n",
      "`--NotebookApp.iopub_msg_rate_limit`.\n",
      "\n",
      "Current values:\n",
      "NotebookApp.iopub_msg_rate_limit=1000.0 (msgs/sec)\n",
      "NotebookApp.rate_limit_window=3.0 (secs)\n",
      "\n",
      "Training in epoch 40/150: 100%|██████████| 158/158 [03:31<00:00,  1.34s/batch]\n",
      "Validating in epoch 40/150: 100%|██████████| 40/40 [00:46<00:00,  1.15s/batch]"
     ]
    },
    {
     "name": "stdout",
     "output_type": "stream",
     "text": [
      "2021-10-03 02:31:15 [INFO]: [EvalScoreRecoder]: In epoch 40/150, loss train score: 0.029458534748887877, val score: 1.4718605399131774\n",
      "2021-10-03 02:31:15 [INFO]: [EvalScoreRecoder]: In epoch 40/150, accuracy train score: 0.9898635284810127, val score: 0.7632161458333334\n",
      "2021-10-03 02:31:15 [INFO]: [EarlyStopper]: In epoch 40/150, accuracy score: 0.7632161458333334, best accuracy score: 0.771657986111111;accuracy score was not improved\n",
      "2021-10-03 02:31:15 [INFO]: [EarlyStopper]: Current wait count: 4, patience: 15\n",
      "2021-10-03 02:31:15 [INFO]: [ModelCheckpoint]: Checkpoint at epoch 40: accuracy did not improve\n"
     ]
    },
    {
     "name": "stderr",
     "output_type": "stream",
     "text": [
      "\n",
      "Training in epoch 41/150: 100%|██████████| 158/158 [03:30<00:00,  1.33s/batch]\n",
      "Validating in epoch 41/150: 100%|██████████| 40/40 [00:45<00:00,  1.14s/batch]"
     ]
    },
    {
     "name": "stdout",
     "output_type": "stream",
     "text": [
      "2021-10-03 02:35:31 [INFO]: [EvalScoreRecoder]: In epoch 41/150, loss train score: 0.0322464016392161, val score: 1.3008056744933127\n",
      "2021-10-03 02:35:31 [INFO]: [EvalScoreRecoder]: In epoch 41/150, accuracy train score: 0.9884295886075949, val score: 0.7650173611111111\n",
      "2021-10-03 02:35:31 [INFO]: [EarlyStopper]: In epoch 41/150, accuracy score: 0.7650173611111111, best accuracy score: 0.771657986111111;accuracy score was not improved\n",
      "2021-10-03 02:35:31 [INFO]: [EarlyStopper]: Current wait count: 5, patience: 15\n",
      "2021-10-03 02:35:31 [INFO]: [ModelCheckpoint]: Checkpoint at epoch 41: accuracy did not improve\n"
     ]
    },
    {
     "name": "stderr",
     "output_type": "stream",
     "text": [
      "\n",
      "Training in epoch 42/150: 100%|██████████| 158/158 [03:33<00:00,  1.35s/batch]\n",
      "Validating in epoch 42/150: 100%|██████████| 40/40 [00:38<00:00,  1.03batch/s]"
     ]
    },
    {
     "name": "stdout",
     "output_type": "stream",
     "text": [
      "2021-10-03 02:39:43 [INFO]: [EvalScoreRecoder]: In epoch 42/150, loss train score: 0.03422656641312274, val score: 1.1720990896224976\n",
      "2021-10-03 02:39:43 [INFO]: [EvalScoreRecoder]: In epoch 42/150, accuracy train score: 0.9885284810126582, val score: 0.771484375\n",
      "2021-10-03 02:39:43 [INFO]: [EarlyStopper]: In epoch 42/150, accuracy score: 0.771484375, best accuracy score: 0.771657986111111;accuracy score was not improved\n",
      "2021-10-03 02:39:43 [INFO]: [EarlyStopper]: Current wait count: 6, patience: 15\n",
      "2021-10-03 02:39:43 [INFO]: [ModelCheckpoint]: Checkpoint at epoch 42: accuracy did not improve\n"
     ]
    },
    {
     "name": "stderr",
     "output_type": "stream",
     "text": [
      "\n",
      "Training in epoch 43/150: 100%|██████████| 158/158 [03:22<00:00,  1.28s/batch]\n",
      "Validating in epoch 43/150: 100%|██████████| 40/40 [00:40<00:00,  1.00s/batch]"
     ]
    },
    {
     "name": "stdout",
     "output_type": "stream",
     "text": [
      "2021-10-03 02:43:46 [INFO]: [EvalScoreRecoder]: In epoch 43/150, loss train score: 0.03158449059237337, val score: 1.278463315963745\n",
      "2021-10-03 02:43:46 [INFO]: [EvalScoreRecoder]: In epoch 43/150, accuracy train score: 0.9893690664556962, val score: 0.7678602430555556\n",
      "2021-10-03 02:43:46 [INFO]: [EarlyStopper]: In epoch 43/150, accuracy score: 0.7678602430555556, best accuracy score: 0.771657986111111;accuracy score was not improved\n",
      "2021-10-03 02:43:46 [INFO]: [EarlyStopper]: Current wait count: 7, patience: 15\n",
      "2021-10-03 02:43:46 [INFO]: [ModelCheckpoint]: Checkpoint at epoch 43: accuracy did not improve\n"
     ]
    },
    {
     "name": "stderr",
     "output_type": "stream",
     "text": [
      "\n",
      "Training in epoch 44/150: 100%|██████████| 158/158 [03:42<00:00,  1.41s/batch]\n",
      "Validating in epoch 44/150: 100%|██████████| 40/40 [00:51<00:00,  1.28s/batch]"
     ]
    },
    {
     "name": "stdout",
     "output_type": "stream",
     "text": [
      "2021-10-03 02:48:19 [INFO]: [EvalScoreRecoder]: In epoch 44/150, loss train score: 0.03189420573259748, val score: 1.2862316831946372\n",
      "2021-10-03 02:48:19 [INFO]: [EvalScoreRecoder]: In epoch 44/150, accuracy train score: 0.9884790348101266, val score: 0.765625\n",
      "2021-10-03 02:48:19 [INFO]: [EarlyStopper]: In epoch 44/150, accuracy score: 0.765625, best accuracy score: 0.771657986111111;accuracy score was not improved\n",
      "2021-10-03 02:48:19 [INFO]: [EarlyStopper]: Current wait count: 8, patience: 15\n",
      "2021-10-03 02:48:19 [INFO]: [ModelCheckpoint]: Checkpoint at epoch 44: accuracy did not improve\n"
     ]
    },
    {
     "name": "stderr",
     "output_type": "stream",
     "text": [
      "\n",
      "Training in epoch 45/150: 100%|██████████| 158/158 [03:35<00:00,  1.36s/batch]\n",
      "Validating in epoch 45/150: 100%|██████████| 40/40 [00:39<00:00,  1.00batch/s]"
     ]
    },
    {
     "name": "stdout",
     "output_type": "stream",
     "text": [
      "2021-10-03 02:52:35 [INFO]: [EvalScoreRecoder]: In epoch 45/150, loss train score: 0.03477174997330817, val score: 1.2981771633028985\n",
      "2021-10-03 02:52:35 [INFO]: [EvalScoreRecoder]: In epoch 45/150, accuracy train score: 0.9883306962025317, val score: 0.7621961805555555\n",
      "2021-10-03 02:52:35 [INFO]: [EarlyStopper]: In epoch 45/150, accuracy score: 0.7621961805555555, best accuracy score: 0.771657986111111;accuracy score was not improved\n",
      "2021-10-03 02:52:35 [INFO]: [EarlyStopper]: Current wait count: 9, patience: 15\n",
      "2021-10-03 02:52:35 [INFO]: [ModelCheckpoint]: Checkpoint at epoch 45: accuracy did not improve\n"
     ]
    },
    {
     "name": "stderr",
     "output_type": "stream",
     "text": [
      "\n",
      "Training in epoch 46/150: 100%|██████████| 158/158 [03:33<00:00,  1.35s/batch]\n",
      "Validating in epoch 46/150: 100%|██████████| 40/40 [00:40<00:00,  1.01s/batch]"
     ]
    },
    {
     "name": "stdout",
     "output_type": "stream",
     "text": [
      "2021-10-03 02:56:49 [INFO]: [EvalScoreRecoder]: In epoch 46/150, loss train score: 0.032174219079300924, val score: 1.144901241362095\n",
      "2021-10-03 02:56:49 [INFO]: [EvalScoreRecoder]: In epoch 46/150, accuracy train score: 0.9893690664556962, val score: 0.7645616319444445\n",
      "2021-10-03 02:56:49 [INFO]: [EarlyStopper]: In epoch 46/150, accuracy score: 0.7645616319444445, best accuracy score: 0.771657986111111;accuracy score was not improved\n",
      "2021-10-03 02:56:49 [INFO]: [EarlyStopper]: Current wait count: 10, patience: 15\n",
      "2021-10-03 02:56:49 [INFO]: [ModelCheckpoint]: Checkpoint at epoch 46: accuracy did not improve\n"
     ]
    },
    {
     "name": "stderr",
     "output_type": "stream",
     "text": [
      "\n",
      "Training in epoch 47/150:  96%|█████████▌| 152/158 [03:27<00:07,  1.32s/batch]IOPub message rate exceeded.\n",
      "The notebook server will temporarily stop sending output\n",
      "to the client in order to avoid crashing it.\n",
      "To change this limit, set the config variable\n",
      "`--NotebookApp.iopub_msg_rate_limit`.\n",
      "\n",
      "Current values:\n",
      "NotebookApp.iopub_msg_rate_limit=1000.0 (msgs/sec)\n",
      "NotebookApp.rate_limit_window=3.0 (secs)\n",
      "\n",
      "Training in epoch 54/150: 100%|██████████| 158/158 [03:38<00:00,  1.38s/batch]\n",
      "Validating in epoch 54/150: 100%|██████████| 40/40 [00:40<00:00,  1.00s/batch]"
     ]
    },
    {
     "name": "stdout",
     "output_type": "stream",
     "text": [
      "2021-10-03 03:31:18 [INFO]: [EvalScoreRecoder]: In epoch 54/150, loss train score: 0.0238693061876376, val score: 1.0257236286997795\n",
      "2021-10-03 03:31:18 [INFO]: [EvalScoreRecoder]: In epoch 54/150, accuracy train score: 0.9921875, val score: 0.7609375\n",
      "2021-10-03 03:31:18 [INFO]: [EarlyStopper]: In epoch 54/150, accuracy score: 0.7609375, best accuracy score: 0.7793836805555555;accuracy score was not improved\n",
      "2021-10-03 03:31:18 [INFO]: [EarlyStopper]: Current wait count: 5, patience: 15\n",
      "2021-10-03 03:31:18 [INFO]: [ModelCheckpoint]: Checkpoint at epoch 54: accuracy did not improve\n"
     ]
    },
    {
     "name": "stderr",
     "output_type": "stream",
     "text": [
      "\n",
      "Training in epoch 55/150: 100%|██████████| 158/158 [03:32<00:00,  1.35s/batch]\n",
      "Validating in epoch 55/150: 100%|██████████| 40/40 [00:39<00:00,  1.01batch/s]"
     ]
    },
    {
     "name": "stdout",
     "output_type": "stream",
     "text": [
      "2021-10-03 03:35:31 [INFO]: [EvalScoreRecoder]: In epoch 55/150, loss train score: 0.029498448343186778, val score: 1.1310093685984612\n",
      "2021-10-03 03:35:31 [INFO]: [EvalScoreRecoder]: In epoch 55/150, accuracy train score: 0.9892701740506329, val score: 0.7631510416666666\n",
      "2021-10-03 03:35:31 [INFO]: [EarlyStopper]: In epoch 55/150, accuracy score: 0.7631510416666666, best accuracy score: 0.7793836805555555;accuracy score was not improved\n",
      "2021-10-03 03:35:31 [INFO]: [EarlyStopper]: Current wait count: 6, patience: 15\n",
      "2021-10-03 03:35:31 [INFO]: [ModelCheckpoint]: Checkpoint at epoch 55: accuracy did not improve\n"
     ]
    },
    {
     "name": "stderr",
     "output_type": "stream",
     "text": [
      "\n",
      "Training in epoch 56/150: 100%|██████████| 158/158 [03:30<00:00,  1.33s/batch]\n",
      "Validating in epoch 56/150: 100%|██████████| 40/40 [00:39<00:00,  1.00batch/s]"
     ]
    },
    {
     "name": "stdout",
     "output_type": "stream",
     "text": [
      "2021-10-03 03:39:41 [INFO]: [EvalScoreRecoder]: In epoch 56/150, loss train score: 0.0258045148401362, val score: 1.2313246682286263\n",
      "2021-10-03 03:39:41 [INFO]: [EvalScoreRecoder]: In epoch 56/150, accuracy train score: 0.9912974683544303, val score: 0.7672743055555555\n",
      "2021-10-03 03:39:41 [INFO]: [EarlyStopper]: In epoch 56/150, accuracy score: 0.7672743055555555, best accuracy score: 0.7793836805555555;accuracy score was not improved\n",
      "2021-10-03 03:39:41 [INFO]: [EarlyStopper]: Current wait count: 7, patience: 15\n",
      "2021-10-03 03:39:41 [INFO]: [ModelCheckpoint]: Checkpoint at epoch 56: accuracy did not improve\n"
     ]
    },
    {
     "name": "stderr",
     "output_type": "stream",
     "text": [
      "\n",
      "Training in epoch 57/150: 100%|██████████| 158/158 [03:29<00:00,  1.33s/batch]\n",
      "Validating in epoch 57/150: 100%|██████████| 40/40 [00:40<00:00,  1.00s/batch]"
     ]
    },
    {
     "name": "stdout",
     "output_type": "stream",
     "text": [
      "2021-10-03 03:43:51 [INFO]: [EvalScoreRecoder]: In epoch 57/150, loss train score: 0.025664724848302053, val score: 1.1421922490000724\n",
      "2021-10-03 03:43:51 [INFO]: [EvalScoreRecoder]: In epoch 57/150, accuracy train score: 0.9919402689873418, val score: 0.7702039930555555\n",
      "2021-10-03 03:43:51 [INFO]: [EarlyStopper]: In epoch 57/150, accuracy score: 0.7702039930555555, best accuracy score: 0.7793836805555555;accuracy score was not improved\n",
      "2021-10-03 03:43:51 [INFO]: [EarlyStopper]: Current wait count: 8, patience: 15\n",
      "2021-10-03 03:43:51 [INFO]: [ModelCheckpoint]: Checkpoint at epoch 57: accuracy did not improve\n"
     ]
    },
    {
     "name": "stderr",
     "output_type": "stream",
     "text": [
      "\n",
      "Training in epoch 58/150: 100%|██████████| 158/158 [03:39<00:00,  1.39s/batch]\n",
      "Validating in epoch 58/150: 100%|██████████| 40/40 [00:38<00:00,  1.03batch/s]"
     ]
    },
    {
     "name": "stdout",
     "output_type": "stream",
     "text": [
      "2021-10-03 03:48:09 [INFO]: [EvalScoreRecoder]: In epoch 58/150, loss train score: 0.023735659271113933, val score: 1.1319711461663247\n",
      "2021-10-03 03:48:09 [INFO]: [EvalScoreRecoder]: In epoch 58/150, accuracy train score: 0.9916435917721519, val score: 0.7662977430555555\n",
      "2021-10-03 03:48:09 [INFO]: [EarlyStopper]: In epoch 58/150, accuracy score: 0.7662977430555555, best accuracy score: 0.7793836805555555;accuracy score was not improved\n",
      "2021-10-03 03:48:09 [INFO]: [EarlyStopper]: Current wait count: 9, patience: 15\n",
      "2021-10-03 03:48:09 [INFO]: [ModelCheckpoint]: Checkpoint at epoch 58: accuracy did not improve\n"
     ]
    },
    {
     "name": "stderr",
     "output_type": "stream",
     "text": [
      "\n",
      "Training in epoch 59/150: 100%|██████████| 158/158 [03:37<00:00,  1.38s/batch]\n",
      "Validating in epoch 59/150: 100%|██████████| 40/40 [00:38<00:00,  1.05batch/s]"
     ]
    },
    {
     "name": "stdout",
     "output_type": "stream",
     "text": [
      "2021-10-03 03:52:25 [INFO]: [EvalScoreRecoder]: In epoch 59/150, loss train score: 0.02466419806609614, val score: 1.3287097305059432\n",
      "2021-10-03 03:52:25 [INFO]: [EvalScoreRecoder]: In epoch 59/150, accuracy train score: 0.9912480221518988, val score: 0.773046875\n",
      "2021-10-03 03:52:25 [INFO]: [EarlyStopper]: In epoch 59/150, accuracy score: 0.773046875, best accuracy score: 0.7793836805555555;accuracy score was not improved\n",
      "2021-10-03 03:52:25 [INFO]: [EarlyStopper]: Current wait count: 10, patience: 15\n",
      "2021-10-03 03:52:25 [INFO]: [ModelCheckpoint]: Checkpoint at epoch 59: accuracy did not improve\n"
     ]
    },
    {
     "name": "stderr",
     "output_type": "stream",
     "text": [
      "\n",
      "Training in epoch 60/150: 100%|██████████| 158/158 [03:35<00:00,  1.36s/batch]\n",
      "Validating in epoch 60/150: 100%|██████████| 40/40 [00:40<00:00,  1.02s/batch]"
     ]
    },
    {
     "name": "stdout",
     "output_type": "stream",
     "text": [
      "2021-10-03 03:56:42 [INFO]: [EvalScoreRecoder]: In epoch 60/150, loss train score: 0.02715357086662486, val score: 1.1540068224072457\n",
      "2021-10-03 03:56:42 [INFO]: [EvalScoreRecoder]: In epoch 60/150, accuracy train score: 0.9895174050632911, val score: 0.747829861111111\n",
      "2021-10-03 03:56:42 [INFO]: [EarlyStopper]: In epoch 60/150, accuracy score: 0.747829861111111, best accuracy score: 0.7793836805555555;accuracy score was not improved\n",
      "2021-10-03 03:56:42 [INFO]: [EarlyStopper]: Current wait count: 11, patience: 15\n",
      "2021-10-03 03:56:42 [INFO]: [ModelCheckpoint]: Checkpoint at epoch 60: accuracy did not improve\n"
     ]
    },
    {
     "name": "stderr",
     "output_type": "stream",
     "text": [
      "\n",
      "Training in epoch 61/150: 100%|██████████| 158/158 [03:37<00:00,  1.38s/batch]\n",
      "Validating in epoch 61/150:  70%|███████   | 28/40 [00:28<00:12,  1.00s/batch]IOPub message rate exceeded.\n",
      "The notebook server will temporarily stop sending output\n",
      "to the client in order to avoid crashing it.\n",
      "To change this limit, set the config variable\n",
      "`--NotebookApp.iopub_msg_rate_limit`.\n",
      "\n",
      "Current values:\n",
      "NotebookApp.iopub_msg_rate_limit=1000.0 (msgs/sec)\n",
      "NotebookApp.rate_limit_window=3.0 (secs)\n",
      "\n",
      "Training in epoch 73/150: 100%|██████████| 158/158 [03:56<00:00,  1.50s/batch]\n",
      "Validating in epoch 73/150: 100%|██████████| 40/40 [00:40<00:00,  1.01s/batch]"
     ]
    },
    {
     "name": "stdout",
     "output_type": "stream",
     "text": [
      "2021-10-03 04:53:01 [INFO]: [EvalScoreRecoder]: In epoch 73/150, loss train score: 0.027852789602478924, val score: 1.1606544315814973\n",
      "2021-10-03 04:53:01 [INFO]: [EvalScoreRecoder]: In epoch 73/150, accuracy train score: 0.9909018987341772, val score: 0.773828125\n",
      "2021-10-03 04:53:01 [INFO]: [EarlyStopper]: In epoch 73/150, accuracy score: 0.773828125, best accuracy score: 0.7798828125;accuracy score was not improved\n",
      "2021-10-03 04:53:01 [INFO]: [EarlyStopper]: Current wait count: 11, patience: 15\n",
      "2021-10-03 04:53:01 [INFO]: [ModelCheckpoint]: Checkpoint at epoch 73: accuracy did not improve\n"
     ]
    },
    {
     "name": "stderr",
     "output_type": "stream",
     "text": [
      "\n",
      "Training in epoch 74/150: 100%|██████████| 158/158 [03:33<00:00,  1.35s/batch]\n",
      "Validating in epoch 74/150: 100%|██████████| 40/40 [00:40<00:00,  1.02s/batch]"
     ]
    },
    {
     "name": "stdout",
     "output_type": "stream",
     "text": [
      "2021-10-03 04:57:16 [INFO]: [EvalScoreRecoder]: In epoch 74/150, loss train score: 0.024567156028786463, val score: 1.4829852655529976\n",
      "2021-10-03 04:57:16 [INFO]: [EvalScoreRecoder]: In epoch 74/150, accuracy train score: 0.9912974683544303, val score: 0.7650173611111111\n",
      "2021-10-03 04:57:16 [INFO]: [EarlyStopper]: In epoch 74/150, accuracy score: 0.7650173611111111, best accuracy score: 0.7798828125;accuracy score was not improved\n",
      "2021-10-03 04:57:16 [INFO]: [EarlyStopper]: Current wait count: 12, patience: 15\n",
      "2021-10-03 04:57:16 [INFO]: [ModelCheckpoint]: Checkpoint at epoch 74: accuracy did not improve\n"
     ]
    },
    {
     "name": "stderr",
     "output_type": "stream",
     "text": [
      "\n",
      "Training in epoch 75/150: 100%|██████████| 158/158 [04:00<00:00,  1.52s/batch]\n",
      "Validating in epoch 75/150: 100%|██████████| 40/40 [00:42<00:00,  1.06s/batch]"
     ]
    },
    {
     "name": "stdout",
     "output_type": "stream",
     "text": [
      "2021-10-03 05:01:58 [INFO]: [EvalScoreRecoder]: In epoch 75/150, loss train score: 0.02440654704093239, val score: 1.1363162830471993\n",
      "2021-10-03 05:01:58 [INFO]: [EvalScoreRecoder]: In epoch 75/150, accuracy train score: 0.9918413765822784, val score: 0.7746961805555556\n",
      "2021-10-03 05:01:58 [INFO]: [EarlyStopper]: In epoch 75/150, accuracy score: 0.7746961805555556, best accuracy score: 0.7798828125;accuracy score was not improved\n",
      "2021-10-03 05:01:58 [INFO]: [EarlyStopper]: Current wait count: 13, patience: 15\n",
      "2021-10-03 05:01:58 [INFO]: [ModelCheckpoint]: Checkpoint at epoch 75: accuracy did not improve\n"
     ]
    },
    {
     "name": "stderr",
     "output_type": "stream",
     "text": [
      "\n",
      "Training in epoch 76/150: 100%|██████████| 158/158 [03:33<00:00,  1.35s/batch]\n",
      "Validating in epoch 76/150: 100%|██████████| 40/40 [00:39<00:00,  1.01batch/s]"
     ]
    },
    {
     "name": "stdout",
     "output_type": "stream",
     "text": [
      "2021-10-03 05:06:12 [INFO]: [EvalScoreRecoder]: In epoch 76/150, loss train score: 0.022410864785572963, val score: 1.07275383323431\n",
      "2021-10-03 05:06:12 [INFO]: [EvalScoreRecoder]: In epoch 76/150, accuracy train score: 0.9929291930379747, val score: 0.7787109375\n",
      "2021-10-03 05:06:12 [INFO]: [EarlyStopper]: In epoch 76/150, accuracy score: 0.7787109375, best accuracy score: 0.7798828125;accuracy score was not improved\n",
      "2021-10-03 05:06:12 [INFO]: [EarlyStopper]: Current wait count: 14, patience: 15\n",
      "2021-10-03 05:06:12 [INFO]: [ModelCheckpoint]: Checkpoint at epoch 76: accuracy did not improve\n"
     ]
    },
    {
     "name": "stderr",
     "output_type": "stream",
     "text": [
      "\n",
      "Training in epoch 77/150: 100%|██████████| 158/158 [03:32<00:00,  1.35s/batch]\n",
      "Validating in epoch 77/150: 100%|██████████| 40/40 [00:39<00:00,  1.02batch/s]"
     ]
    },
    {
     "name": "stdout",
     "output_type": "stream",
     "text": [
      "2021-10-03 05:10:24 [INFO]: [EvalScoreRecoder]: In epoch 77/150, loss train score: 0.025377288168956395, val score: 1.2422312885522842\n",
      "2021-10-03 05:10:24 [INFO]: [EvalScoreRecoder]: In epoch 77/150, accuracy train score: 0.9913963607594937, val score: 0.7804036458333334\n",
      "2021-10-03 05:10:24 [INFO]: [EarlyStopper]: In epoch 77/150, accuracy score: 0.7804036458333334, best accuracy score: 0.7798828125;update best score to 0.7804036458333334\n",
      "2021-10-03 05:10:24 [INFO]: [ModelCheckpoint]: Checkpoint at epoch 77: accuracy improved from 0.7798828125 to 0.7804036458333334, saving model to ../output/exp1/train.0.model_77.chk\n"
     ]
    },
    {
     "name": "stderr",
     "output_type": "stream",
     "text": [
      "\n",
      "Training in epoch 78/150: 100%|██████████| 158/158 [03:31<00:00,  1.34s/batch]\n",
      "Validating in epoch 78/150: 100%|██████████| 40/40 [00:40<00:00,  1.02s/batch]"
     ]
    },
    {
     "name": "stdout",
     "output_type": "stream",
     "text": [
      "2021-10-03 05:14:37 [INFO]: [EvalScoreRecoder]: In epoch 78/150, loss train score: 0.023722085473182924, val score: 1.041344554722309\n",
      "2021-10-03 05:14:37 [INFO]: [EvalScoreRecoder]: In epoch 78/150, accuracy train score: 0.9919402689873418, val score: 0.7776258680555556\n",
      "2021-10-03 05:14:37 [INFO]: [EarlyStopper]: In epoch 78/150, accuracy score: 0.7776258680555556, best accuracy score: 0.7804036458333334;accuracy score was not improved\n",
      "2021-10-03 05:14:37 [INFO]: [EarlyStopper]: Current wait count: 1, patience: 15\n",
      "2021-10-03 05:14:37 [INFO]: [ModelCheckpoint]: Checkpoint at epoch 78: accuracy did not improve\n"
     ]
    },
    {
     "name": "stderr",
     "output_type": "stream",
     "text": [
      "\n",
      "Training in epoch 79/150: 100%|██████████| 158/158 [03:41<00:00,  1.40s/batch]\n",
      "Validating in epoch 79/150: 100%|██████████| 40/40 [00:40<00:00,  1.01s/batch]"
     ]
    },
    {
     "name": "stdout",
     "output_type": "stream",
     "text": [
      "2021-10-03 05:18:59 [INFO]: [EvalScoreRecoder]: In epoch 79/150, loss train score: 0.01949428920138589, val score: 1.36282821893692\n",
      "2021-10-03 05:18:59 [INFO]: [EvalScoreRecoder]: In epoch 79/150, accuracy train score: 0.9931764240506329, val score: 0.7798828125\n",
      "2021-10-03 05:18:59 [INFO]: [EarlyStopper]: In epoch 79/150, accuracy score: 0.7798828125, best accuracy score: 0.7804036458333334;accuracy score was not improved\n",
      "2021-10-03 05:18:59 [INFO]: [EarlyStopper]: Current wait count: 2, patience: 15\n",
      "2021-10-03 05:18:59 [INFO]: [ModelCheckpoint]: Checkpoint at epoch 79: accuracy did not improve\n"
     ]
    },
    {
     "name": "stderr",
     "output_type": "stream",
     "text": [
      "\n",
      "Training in epoch 80/150:  56%|█████▌    | 88/158 [01:57<01:34,  1.35s/batch]IOPub message rate exceeded.\n",
      "The notebook server will temporarily stop sending output\n",
      "to the client in order to avoid crashing it.\n",
      "To change this limit, set the config variable\n",
      "`--NotebookApp.iopub_msg_rate_limit`.\n",
      "\n",
      "Current values:\n",
      "NotebookApp.iopub_msg_rate_limit=1000.0 (msgs/sec)\n",
      "NotebookApp.rate_limit_window=3.0 (secs)\n",
      "\n",
      "Training in epoch 101/150: 100%|██████████| 158/158 [03:22<00:00,  1.28s/batch]\n",
      "Validating in epoch 101/150: 100%|██████████| 40/40 [00:37<00:00,  1.08batch/s]"
     ]
    },
    {
     "name": "stdout",
     "output_type": "stream",
     "text": [
      "2021-10-03 06:51:58 [INFO]: [EvalScoreRecoder]: In epoch 101/150, loss train score: 0.021036437759558116, val score: 1.2447727292776107\n",
      "2021-10-03 06:51:58 [INFO]: [EvalScoreRecoder]: In epoch 101/150, accuracy train score: 0.9929786392405063, val score: 0.7847873263888889\n",
      "2021-10-03 06:51:58 [INFO]: [EarlyStopper]: In epoch 101/150, accuracy score: 0.7847873263888889, best accuracy score: 0.7834852430555556;update best score to 0.7847873263888889\n",
      "2021-10-03 06:51:58 [INFO]: [ModelCheckpoint]: Checkpoint at epoch 101: accuracy improved from 0.7834852430555556 to 0.7847873263888889, saving model to ../output/exp1/train.0.model_101.chk\n"
     ]
    },
    {
     "name": "stderr",
     "output_type": "stream",
     "text": [
      "\n",
      "Training in epoch 102/150: 100%|██████████| 158/158 [03:20<00:00,  1.27s/batch]\n",
      "Validating in epoch 102/150: 100%|██████████| 40/40 [00:37<00:00,  1.06batch/s]"
     ]
    },
    {
     "name": "stdout",
     "output_type": "stream",
     "text": [
      "2021-10-03 06:55:57 [INFO]: [EvalScoreRecoder]: In epoch 102/150, loss train score: 0.019470027278035974, val score: 1.2229429066181183\n",
      "2021-10-03 06:55:57 [INFO]: [EvalScoreRecoder]: In epoch 102/150, accuracy train score: 0.9932258702531646, val score: 0.7764973958333334\n",
      "2021-10-03 06:55:57 [INFO]: [EarlyStopper]: In epoch 102/150, accuracy score: 0.7764973958333334, best accuracy score: 0.7847873263888889;accuracy score was not improved\n",
      "2021-10-03 06:55:57 [INFO]: [EarlyStopper]: Current wait count: 1, patience: 15\n",
      "2021-10-03 06:55:57 [INFO]: [ModelCheckpoint]: Checkpoint at epoch 102: accuracy did not improve\n"
     ]
    },
    {
     "name": "stderr",
     "output_type": "stream",
     "text": [
      "\n",
      "Training in epoch 103/150: 100%|██████████| 158/158 [03:19<00:00,  1.26s/batch]\n",
      "Validating in epoch 103/150: 100%|██████████| 40/40 [00:48<00:00,  1.20s/batch]"
     ]
    },
    {
     "name": "stdout",
     "output_type": "stream",
     "text": [
      "2021-10-03 07:00:04 [INFO]: [EvalScoreRecoder]: In epoch 103/150, loss train score: 0.020978174109344924, val score: 1.0989458382129669\n",
      "2021-10-03 07:00:04 [INFO]: [EvalScoreRecoder]: In epoch 103/150, accuracy train score: 0.9926325158227848, val score: 0.7773220486111111\n",
      "2021-10-03 07:00:04 [INFO]: [EarlyStopper]: In epoch 103/150, accuracy score: 0.7773220486111111, best accuracy score: 0.7847873263888889;accuracy score was not improved\n",
      "2021-10-03 07:00:04 [INFO]: [EarlyStopper]: Current wait count: 2, patience: 15\n",
      "2021-10-03 07:00:04 [INFO]: [ModelCheckpoint]: Checkpoint at epoch 103: accuracy did not improve\n"
     ]
    },
    {
     "name": "stderr",
     "output_type": "stream",
     "text": [
      "\n",
      "Training in epoch 104/150: 100%|██████████| 158/158 [03:19<00:00,  1.26s/batch]\n",
      "Validating in epoch 104/150: 100%|██████████| 40/40 [00:37<00:00,  1.06batch/s]"
     ]
    },
    {
     "name": "stdout",
     "output_type": "stream",
     "text": [
      "2021-10-03 07:04:02 [INFO]: [EvalScoreRecoder]: In epoch 104/150, loss train score: 0.02300376700155608, val score: 1.1743272468447685\n",
      "2021-10-03 07:04:02 [INFO]: [EvalScoreRecoder]: In epoch 104/150, accuracy train score: 0.9921875, val score: 0.7823784722222222\n",
      "2021-10-03 07:04:02 [INFO]: [EarlyStopper]: In epoch 104/150, accuracy score: 0.7823784722222222, best accuracy score: 0.7847873263888889;accuracy score was not improved\n",
      "2021-10-03 07:04:02 [INFO]: [EarlyStopper]: Current wait count: 3, patience: 15\n",
      "2021-10-03 07:04:02 [INFO]: [ModelCheckpoint]: Checkpoint at epoch 104: accuracy did not improve\n"
     ]
    },
    {
     "name": "stderr",
     "output_type": "stream",
     "text": [
      "\n",
      "Training in epoch 105/150: 100%|██████████| 158/158 [03:20<00:00,  1.27s/batch]\n",
      "Validating in epoch 105/150: 100%|██████████| 40/40 [00:37<00:00,  1.08batch/s]"
     ]
    },
    {
     "name": "stdout",
     "output_type": "stream",
     "text": [
      "2021-10-03 07:07:59 [INFO]: [EvalScoreRecoder]: In epoch 105/150, loss train score: 0.019572634289713127, val score: 1.2230993419885636\n",
      "2021-10-03 07:07:59 [INFO]: [EvalScoreRecoder]: In epoch 105/150, accuracy train score: 0.9933247626582279, val score: 0.7819444444444444\n",
      "2021-10-03 07:07:59 [INFO]: [EarlyStopper]: In epoch 105/150, accuracy score: 0.7819444444444444, best accuracy score: 0.7847873263888889;accuracy score was not improved\n",
      "2021-10-03 07:07:59 [INFO]: [EarlyStopper]: Current wait count: 4, patience: 15\n",
      "2021-10-03 07:07:59 [INFO]: [ModelCheckpoint]: Checkpoint at epoch 105: accuracy did not improve\n"
     ]
    },
    {
     "name": "stderr",
     "output_type": "stream",
     "text": [
      "\n",
      "Training in epoch 106/150: 100%|██████████| 158/158 [03:21<00:00,  1.27s/batch]\n",
      "Validating in epoch 106/150: 100%|██████████| 40/40 [00:37<00:00,  1.08batch/s]"
     ]
    },
    {
     "name": "stdout",
     "output_type": "stream",
     "text": [
      "2021-10-03 07:11:58 [INFO]: [EvalScoreRecoder]: In epoch 106/150, loss train score: 0.021424264193424452, val score: 1.1032777428627014\n",
      "2021-10-03 07:11:58 [INFO]: [EvalScoreRecoder]: In epoch 106/150, accuracy train score: 0.9927314082278481, val score: 0.790625\n",
      "2021-10-03 07:11:58 [INFO]: [EarlyStopper]: In epoch 106/150, accuracy score: 0.790625, best accuracy score: 0.7847873263888889;update best score to 0.790625\n",
      "2021-10-03 07:11:58 [INFO]: [ModelCheckpoint]: Checkpoint at epoch 106: accuracy improved from 0.7847873263888889 to 0.790625, saving model to ../output/exp1/train.0.model_106.chk\n"
     ]
    },
    {
     "name": "stderr",
     "output_type": "stream",
     "text": [
      "\n",
      "Training in epoch 107/150: 100%|██████████| 158/158 [03:18<00:00,  1.26s/batch]\n",
      "Validating in epoch 107/150: 100%|██████████| 40/40 [00:37<00:00,  1.07batch/s]"
     ]
    },
    {
     "name": "stdout",
     "output_type": "stream",
     "text": [
      "2021-10-03 07:15:54 [INFO]: [EvalScoreRecoder]: In epoch 107/150, loss train score: 0.016836487121520492, val score: 1.0717660039663315\n",
      "2021-10-03 07:15:54 [INFO]: [EvalScoreRecoder]: In epoch 107/150, accuracy train score: 0.9942642405063291, val score: 0.7934895833333333\n",
      "2021-10-03 07:15:54 [INFO]: [EarlyStopper]: In epoch 107/150, accuracy score: 0.7934895833333333, best accuracy score: 0.790625;update best score to 0.7934895833333333\n",
      "2021-10-03 07:15:54 [INFO]: [ModelCheckpoint]: Checkpoint at epoch 107: accuracy improved from 0.790625 to 0.7934895833333333, saving model to ../output/exp1/train.0.model_107.chk\n"
     ]
    },
    {
     "name": "stderr",
     "output_type": "stream",
     "text": [
      "\n",
      "Training in epoch 108/150:  92%|█████████▏| 146/158 [03:06<00:15,  1.27s/batch]IOPub message rate exceeded.\n",
      "The notebook server will temporarily stop sending output\n",
      "to the client in order to avoid crashing it.\n",
      "To change this limit, set the config variable\n",
      "`--NotebookApp.iopub_msg_rate_limit`.\n",
      "\n",
      "Current values:\n",
      "NotebookApp.iopub_msg_rate_limit=1000.0 (msgs/sec)\n",
      "NotebookApp.rate_limit_window=3.0 (secs)\n",
      "\n",
      "Training in epoch 1/100: 100%|██████████| 617/617 [12:08<00:00,  1.18s/batch]\n",
      "Validating in epoch 1/100: 100%|██████████| 155/155 [02:35<00:00,  1.00s/batch]"
     ]
    },
    {
     "name": "stdout",
     "output_type": "stream",
     "text": [
      "2021-10-03 08:44:57 [INFO]: [EvalScoreRecoder]: In epoch 1/100, loss train score: 0.33326195262529473, val score: 0.32932650033504735\n",
      "2021-10-03 08:44:57 [INFO]: [EvalScoreRecoder]: In epoch 1/100, accuracy train score: 0.8573490680713128, val score: 0.8646673387096774\n",
      "2021-10-03 08:44:57 [INFO]: [EarlyStopper]: In epoch 1/100, accuracy score: 0.8646673387096774, best accuracy score: 0.8150201612903226;update best score to 0.8646673387096774\n",
      "2021-10-03 08:44:57 [INFO]: [ModelCheckpoint]: Checkpoint at epoch 1: accuracy improved from 0.8150201612903226 to 0.8646673387096774, saving model to ../output/exp1/train.0.model_1.chk\n"
     ]
    },
    {
     "name": "stderr",
     "output_type": "stream",
     "text": [
      "\n"
     ]
    },
    {
     "name": "stdout",
     "output_type": "stream",
     "text": [
      "2021-10-03 08:44:59 [INFO]: [EvalScoreRecoder]: In epoch 1/100, loss train score: 0.33326195262529473, val score: 0.32932650033504735\n",
      "2021-10-03 08:44:59 [INFO]: [EvalScoreRecoder]: In epoch 1/100, accuracy train score: 0.8573490680713128, val score: 0.8646673387096774\n",
      "2021-10-03 08:44:59 [INFO]: [EarlyStopper]: In epoch 1/100, accuracy score: 0.8646673387096774, best accuracy score: 0.8150201612903226;update best score to 0.8646673387096774\n",
      "2021-10-03 08:44:59 [INFO]: [ModelCheckpoint]: Checkpoint at epoch 1: accuracy improved from 0.8150201612903226 to 0.8646673387096774, saving model to ../output/exp1/train.1.model_1.chk\n"
     ]
    },
    {
     "name": "stderr",
     "output_type": "stream",
     "text": [
      "Validating in epoch 2/100: 100%|██████████| 155/155 [02:23<00:00,  1.08batch/s]"
     ]
    },
    {
     "name": "stdout",
     "output_type": "stream",
     "text": [
      "2021-10-03 08:59:03 [INFO]: [EvalScoreRecoder]: In epoch 2/100, loss train score: 0.1997337299648135, val score: 0.316657087110704\n",
      "2021-10-03 08:59:03 [INFO]: [EvalScoreRecoder]: In epoch 2/100, accuracy train score: 0.9208113857374393, val score: 0.8885080645161291\n",
      "2021-10-03 08:59:03 [INFO]: [EarlyStopper]: In epoch 2/100, accuracy score: 0.8885080645161291, best accuracy score: 0.8646673387096774;update best score to 0.8885080645161291\n",
      "2021-10-03 08:59:03 [INFO]: [ModelCheckpoint]: Checkpoint at epoch 2: accuracy improved from 0.8646673387096774 to 0.8885080645161291, saving model to ../output/exp1/train.0.model_2.chk\n"
     ]
    },
    {
     "name": "stderr",
     "output_type": "stream",
     "text": [
      "\n"
     ]
    },
    {
     "name": "stdout",
     "output_type": "stream",
     "text": [
      "2021-10-03 08:59:04 [INFO]: [EvalScoreRecoder]: In epoch 2/100, loss train score: 0.1997337299648135, val score: 0.316657087110704\n",
      "2021-10-03 08:59:04 [INFO]: [EvalScoreRecoder]: In epoch 2/100, accuracy train score: 0.9208113857374393, val score: 0.8885080645161291\n",
      "2021-10-03 08:59:04 [INFO]: [EarlyStopper]: In epoch 2/100, accuracy score: 0.8885080645161291, best accuracy score: 0.8646673387096774;update best score to 0.8885080645161291\n",
      "2021-10-03 08:59:04 [INFO]: [ModelCheckpoint]: Checkpoint at epoch 2: accuracy improved from 0.8646673387096774 to 0.8885080645161291, saving model to ../output/exp1/train.1.model_2.chk\n"
     ]
    },
    {
     "name": "stderr",
     "output_type": "stream",
     "text": [
      "Training in epoch 3/100: 100%|██████████| 617/617 [11:46<00:00,  1.14s/batch]\n",
      "Validating in epoch 3/100: 100%|██████████| 155/155 [02:24<00:00,  1.07batch/s]"
     ]
    },
    {
     "name": "stdout",
     "output_type": "stream",
     "text": [
      "2021-10-03 09:13:15 [INFO]: [EvalScoreRecoder]: In epoch 3/100, loss train score: 0.13479867407892088, val score: 0.3352632375494126\n",
      "2021-10-03 09:13:15 [INFO]: [EvalScoreRecoder]: In epoch 3/100, accuracy train score: 0.9480854943273906, val score: 0.8996975806451613\n",
      "2021-10-03 09:13:15 [INFO]: [EarlyStopper]: In epoch 3/100, accuracy score: 0.8996975806451613, best accuracy score: 0.8885080645161291;update best score to 0.8996975806451613\n",
      "2021-10-03 09:13:15 [INFO]: [ModelCheckpoint]: Checkpoint at epoch 3: accuracy improved from 0.8885080645161291 to 0.8996975806451613, saving model to ../output/exp1/train.0.model_3.chk\n"
     ]
    },
    {
     "name": "stderr",
     "output_type": "stream",
     "text": [
      "\n"
     ]
    },
    {
     "name": "stdout",
     "output_type": "stream",
     "text": [
      "2021-10-03 09:13:17 [INFO]: [EvalScoreRecoder]: In epoch 3/100, loss train score: 0.13479867407892088, val score: 0.3352632375494126\n",
      "2021-10-03 09:13:17 [INFO]: [EvalScoreRecoder]: In epoch 3/100, accuracy train score: 0.9480854943273906, val score: 0.8996975806451613\n",
      "2021-10-03 09:13:17 [INFO]: [EarlyStopper]: In epoch 3/100, accuracy score: 0.8996975806451613, best accuracy score: 0.8885080645161291;update best score to 0.8996975806451613\n",
      "2021-10-03 09:13:17 [INFO]: [ModelCheckpoint]: Checkpoint at epoch 3: accuracy improved from 0.8885080645161291 to 0.8996975806451613, saving model to ../output/exp1/train.1.model_3.chk\n"
     ]
    },
    {
     "name": "stderr",
     "output_type": "stream",
     "text": [
      "Training in epoch 4/100: 100%|██████████| 617/617 [11:43<00:00,  1.14s/batch]\n",
      "Validating in epoch 4/100:  12%|█▏        | 18/155 [00:17<02:06,  1.08batch/s]IOPub message rate exceeded.\n",
      "The notebook server will temporarily stop sending output\n",
      "to the client in order to avoid crashing it.\n",
      "To change this limit, set the config variable\n",
      "`--NotebookApp.iopub_msg_rate_limit`.\n",
      "\n",
      "Current values:\n",
      "NotebookApp.iopub_msg_rate_limit=1000.0 (msgs/sec)\n",
      "NotebookApp.rate_limit_window=3.0 (secs)\n",
      "\n",
      "Training in epoch 9/100: 100%|██████████| 617/617 [11:44<00:00,  1.14s/batch]\n",
      "Validating in epoch 9/100: 100%|██████████| 155/155 [02:23<00:00,  1.08batch/s]"
     ]
    },
    {
     "name": "stdout",
     "output_type": "stream",
     "text": [
      "2021-10-03 10:38:13 [INFO]: [EvalScoreRecoder]: In epoch 9/100, loss train score: 0.05375783807466734, val score: 0.2922676979534088\n",
      "2021-10-03 10:38:13 [INFO]: [EvalScoreRecoder]: In epoch 9/100, accuracy train score: 0.9806650121555915, val score: 0.927116935483871\n",
      "2021-10-03 10:38:13 [INFO]: [EarlyStopper]: In epoch 9/100, accuracy score: 0.927116935483871, best accuracy score: 0.9257056451612903;update best score to 0.927116935483871\n",
      "2021-10-03 10:38:13 [INFO]: [ModelCheckpoint]: Checkpoint at epoch 9: accuracy improved from 0.9257056451612903 to 0.927116935483871, saving model to ../output/exp1/train.0.model_9.chk\n"
     ]
    },
    {
     "name": "stderr",
     "output_type": "stream",
     "text": [
      "\n"
     ]
    },
    {
     "name": "stdout",
     "output_type": "stream",
     "text": [
      "2021-10-03 10:38:14 [INFO]: [EvalScoreRecoder]: In epoch 9/100, loss train score: 0.05375783807466734, val score: 0.2922676979534088\n",
      "2021-10-03 10:38:14 [INFO]: [EvalScoreRecoder]: In epoch 9/100, accuracy train score: 0.9806650121555915, val score: 0.927116935483871\n",
      "2021-10-03 10:38:14 [INFO]: [EarlyStopper]: In epoch 9/100, accuracy score: 0.927116935483871, best accuracy score: 0.9257056451612903;update best score to 0.927116935483871\n",
      "2021-10-03 10:38:14 [INFO]: [ModelCheckpoint]: Checkpoint at epoch 9: accuracy improved from 0.9257056451612903 to 0.927116935483871, saving model to ../output/exp1/train.1.model_9.chk\n"
     ]
    },
    {
     "name": "stderr",
     "output_type": "stream",
     "text": [
      "Training in epoch 10/100: 100%|██████████| 617/617 [11:44<00:00,  1.14s/batch]\n",
      "Validating in epoch 10/100: 100%|██████████| 155/155 [02:27<00:00,  1.05batch/s]"
     ]
    },
    {
     "name": "stdout",
     "output_type": "stream",
     "text": [
      "2021-10-03 10:52:26 [INFO]: [EvalScoreRecoder]: In epoch 10/100, loss train score: 0.0538559247501122, val score: 0.23448368003291467\n",
      "2021-10-03 10:52:26 [INFO]: [EvalScoreRecoder]: In epoch 10/100, accuracy train score: 0.9808169570502431, val score: 0.9336693548387097\n",
      "2021-10-03 10:52:26 [INFO]: [EarlyStopper]: In epoch 10/100, accuracy score: 0.9336693548387097, best accuracy score: 0.927116935483871;update best score to 0.9336693548387097\n",
      "2021-10-03 10:52:26 [INFO]: [ModelCheckpoint]: Checkpoint at epoch 10: accuracy improved from 0.927116935483871 to 0.9336693548387097, saving model to ../output/exp1/train.0.model_10.chk\n"
     ]
    },
    {
     "name": "stderr",
     "output_type": "stream",
     "text": [
      "\n"
     ]
    },
    {
     "name": "stdout",
     "output_type": "stream",
     "text": [
      "2021-10-03 10:52:27 [INFO]: [EvalScoreRecoder]: In epoch 10/100, loss train score: 0.0538559247501122, val score: 0.23448368003291467\n",
      "2021-10-03 10:52:27 [INFO]: [EvalScoreRecoder]: In epoch 10/100, accuracy train score: 0.9808169570502431, val score: 0.9336693548387097\n",
      "2021-10-03 10:52:27 [INFO]: [EarlyStopper]: In epoch 10/100, accuracy score: 0.9336693548387097, best accuracy score: 0.927116935483871;update best score to 0.9336693548387097\n",
      "2021-10-03 10:52:27 [INFO]: [ModelCheckpoint]: Checkpoint at epoch 10: accuracy improved from 0.927116935483871 to 0.9336693548387097, saving model to ../output/exp1/train.1.model_10.chk\n"
     ]
    },
    {
     "name": "stderr",
     "output_type": "stream",
     "text": [
      "Training in epoch 11/100: 100%|██████████| 617/617 [11:42<00:00,  1.14s/batch]\n",
      "Validating in epoch 11/100: 100%|██████████| 155/155 [02:23<00:00,  1.08batch/s]"
     ]
    },
    {
     "name": "stdout",
     "output_type": "stream",
     "text": [
      "2021-10-03 11:06:34 [INFO]: [EvalScoreRecoder]: In epoch 11/100, loss train score: 0.04919516079269676, val score: 0.24445986074786033\n",
      "2021-10-03 11:06:34 [INFO]: [EvalScoreRecoder]: In epoch 11/100, accuracy train score: 0.9823870542949756, val score: 0.9259072580645161\n",
      "2021-10-03 11:06:34 [INFO]: [EarlyStopper]: In epoch 11/100, accuracy score: 0.9259072580645161, best accuracy score: 0.9336693548387097;accuracy score was not improved\n",
      "2021-10-03 11:06:34 [INFO]: [EarlyStopper]: Current wait count: 1, patience: 15\n",
      "2021-10-03 11:06:34 [INFO]: [ModelCheckpoint]: Checkpoint at epoch 11: accuracy did not improve\n",
      "2021-10-03 11:06:34 [INFO]: [EvalScoreRecoder]: In epoch 11/100, loss train score: 0.04919516079269676, val score: 0.24445986074786033\n",
      "2021-10-03 11:06:34 [INFO]: [EvalScoreRecoder]: In epoch 11/100, accuracy train score: 0.9823870542949756, val score: 0.9259072580645161\n",
      "2021-10-03 11:06:34 [INFO]: [EarlyStopper]: In epoch 11/100, accuracy score: 0.9259072580645161, best accuracy score: 0.9336693548387097;accuracy score was not improved\n",
      "2021-10-03 11:06:34 [INFO]: [EarlyStopper]: Current wait count: 1, patience: 10\n",
      "2021-10-03 11:06:34 [INFO]: [ModelCheckpoint]: Checkpoint at epoch 11: accuracy did not improve\n"
     ]
    },
    {
     "name": "stderr",
     "output_type": "stream",
     "text": [
      "\n",
      "Training in epoch 12/100: 100%|██████████| 617/617 [11:45<00:00,  1.14s/batch]\n",
      "Validating in epoch 12/100: 100%|██████████| 155/155 [02:24<00:00,  1.07batch/s]"
     ]
    },
    {
     "name": "stdout",
     "output_type": "stream",
     "text": [
      "2021-10-03 11:20:44 [INFO]: [EvalScoreRecoder]: In epoch 12/100, loss train score: 0.046885711033005914, val score: 0.29149393218178904\n",
      "2021-10-03 11:20:44 [INFO]: [EvalScoreRecoder]: In epoch 12/100, accuracy train score: 0.9830708063209076, val score: 0.9170866935483871\n",
      "2021-10-03 11:20:44 [INFO]: [EarlyStopper]: In epoch 12/100, accuracy score: 0.9170866935483871, best accuracy score: 0.9336693548387097;accuracy score was not improved\n",
      "2021-10-03 11:20:44 [INFO]: [EarlyStopper]: Current wait count: 2, patience: 15\n",
      "2021-10-03 11:20:44 [INFO]: [ModelCheckpoint]: Checkpoint at epoch 12: accuracy did not improve\n",
      "2021-10-03 11:20:44 [INFO]: [EvalScoreRecoder]: In epoch 12/100, loss train score: 0.046885711033005914, val score: 0.29149393218178904\n",
      "2021-10-03 11:20:44 [INFO]: [EvalScoreRecoder]: In epoch 12/100, accuracy train score: 0.9830708063209076, val score: 0.9170866935483871\n",
      "2021-10-03 11:20:44 [INFO]: [EarlyStopper]: In epoch 12/100, accuracy score: 0.9170866935483871, best accuracy score: 0.9336693548387097;accuracy score was not improved\n",
      "2021-10-03 11:20:44 [INFO]: [EarlyStopper]: Current wait count: 2, patience: 10\n",
      "2021-10-03 11:20:44 [INFO]: [ModelCheckpoint]: Checkpoint at epoch 12: accuracy did not improve\n"
     ]
    },
    {
     "name": "stderr",
     "output_type": "stream",
     "text": [
      "\n",
      "Training in epoch 13/100:  19%|█▉        | 119/617 [02:20<09:20,  1.13s/batch]IOPub message rate exceeded.\n",
      "The notebook server will temporarily stop sending output\n",
      "to the client in order to avoid crashing it.\n",
      "To change this limit, set the config variable\n",
      "`--NotebookApp.iopub_msg_rate_limit`.\n",
      "\n",
      "Current values:\n",
      "NotebookApp.iopub_msg_rate_limit=1000.0 (msgs/sec)\n",
      "NotebookApp.rate_limit_window=3.0 (secs)\n",
      "\n",
      "Validating in epoch 17/100: 100%|██████████| 155/155 [02:22<00:00,  1.09batch/s]"
     ]
    },
    {
     "name": "stdout",
     "output_type": "stream",
     "text": [
      "2021-10-03 12:31:14 [INFO]: [EvalScoreRecoder]: In epoch 17/100, loss train score: 0.03764678741544123, val score: 0.3319351277043743\n",
      "2021-10-03 12:31:14 [INFO]: [EvalScoreRecoder]: In epoch 17/100, accuracy train score: 0.9866541734197731, val score: 0.9229838709677419\n",
      "2021-10-03 12:31:14 [INFO]: [EarlyStopper]: In epoch 17/100, accuracy score: 0.9229838709677419, best accuracy score: 0.9336693548387097;accuracy score was not improved\n",
      "2021-10-03 12:31:14 [INFO]: [EarlyStopper]: Current wait count: 7, patience: 15\n",
      "2021-10-03 12:31:14 [INFO]: [ModelCheckpoint]: Checkpoint at epoch 17: accuracy did not improve\n",
      "2021-10-03 12:31:14 [INFO]: [EvalScoreRecoder]: In epoch 17/100, loss train score: 0.03764678741544123, val score: 0.3319351277043743\n",
      "2021-10-03 12:31:14 [INFO]: [EvalScoreRecoder]: In epoch 17/100, accuracy train score: 0.9866541734197731, val score: 0.9229838709677419\n",
      "2021-10-03 12:31:14 [INFO]: [EarlyStopper]: In epoch 17/100, accuracy score: 0.9229838709677419, best accuracy score: 0.9336693548387097;accuracy score was not improved\n",
      "2021-10-03 12:31:14 [INFO]: [EarlyStopper]: Current wait count: 7, patience: 10\n",
      "2021-10-03 12:31:14 [INFO]: [ModelCheckpoint]: Checkpoint at epoch 17: accuracy did not improve\n"
     ]
    },
    {
     "name": "stderr",
     "output_type": "stream",
     "text": [
      "\n",
      "Training in epoch 19/100: 100%|██████████| 617/617 [11:44<00:00,  1.14s/batch]\n",
      "Validating in epoch 19/100: 100%|██████████| 155/155 [02:24<00:00,  1.07batch/s]"
     ]
    },
    {
     "name": "stdout",
     "output_type": "stream",
     "text": [
      "2021-10-03 12:59:23 [INFO]: [EvalScoreRecoder]: In epoch 19/100, loss train score: 0.03654023939954959, val score: 0.35277137409054465\n",
      "2021-10-03 12:59:23 [INFO]: [EvalScoreRecoder]: In epoch 19/100, accuracy train score: 0.9869960494327391, val score: 0.9202620967741936\n",
      "2021-10-03 12:59:23 [INFO]: [EarlyStopper]: In epoch 19/100, accuracy score: 0.9202620967741936, best accuracy score: 0.9336693548387097;accuracy score was not improved\n",
      "2021-10-03 12:59:23 [INFO]: [EarlyStopper]: Current wait count: 9, patience: 15\n",
      "2021-10-03 12:59:23 [INFO]: [ModelCheckpoint]: Checkpoint at epoch 19: accuracy did not improve\n",
      "2021-10-03 12:59:23 [INFO]: [EvalScoreRecoder]: In epoch 19/100, loss train score: 0.03654023939954959, val score: 0.35277137409054465\n",
      "2021-10-03 12:59:23 [INFO]: [EvalScoreRecoder]: In epoch 19/100, accuracy train score: 0.9869960494327391, val score: 0.9202620967741936\n",
      "2021-10-03 12:59:23 [INFO]: [EarlyStopper]: In epoch 19/100, accuracy score: 0.9202620967741936, best accuracy score: 0.9336693548387097;accuracy score was not improved\n",
      "2021-10-03 12:59:23 [INFO]: [EarlyStopper]: Current wait count: 9, patience: 10\n",
      "2021-10-03 12:59:23 [INFO]: [ModelCheckpoint]: Checkpoint at epoch 19: accuracy did not improve\n"
     ]
    },
    {
     "name": "stderr",
     "output_type": "stream",
     "text": [
      "\n",
      "Training in epoch 20/100: 100%|██████████| 617/617 [11:42<00:00,  1.14s/batch]\n",
      "Validating in epoch 20/100: 100%|██████████| 155/155 [02:22<00:00,  1.09batch/s]"
     ]
    },
    {
     "name": "stdout",
     "output_type": "stream",
     "text": [
      "2021-10-03 13:13:28 [INFO]: [EvalScoreRecoder]: In epoch 20/100, loss train score: 0.03253122593836204, val score: 0.3644490624147077\n",
      "2021-10-03 13:13:28 [INFO]: [EvalScoreRecoder]: In epoch 20/100, accuracy train score: 0.9884268638573744, val score: 0.9168850806451613\n",
      "2021-10-03 13:13:28 [INFO]: [EarlyStopper]: In epoch 20/100, accuracy score: 0.9168850806451613, best accuracy score: 0.9336693548387097;accuracy score was not improved\n",
      "2021-10-03 13:13:28 [INFO]: [EarlyStopper]: Current wait count: 10, patience: 15\n",
      "2021-10-03 13:13:28 [INFO]: [ModelCheckpoint]: Checkpoint at epoch 20: accuracy did not improve\n",
      "2021-10-03 13:13:28 [INFO]: [EvalScoreRecoder]: In epoch 20/100, loss train score: 0.03253122593836204, val score: 0.3644490624147077\n",
      "2021-10-03 13:13:28 [INFO]: [EvalScoreRecoder]: In epoch 20/100, accuracy train score: 0.9884268638573744, val score: 0.9168850806451613\n",
      "2021-10-03 13:13:28 [INFO]: [EarlyStopper]: In epoch 20/100, accuracy score: 0.9168850806451613, best accuracy score: 0.9336693548387097;accuracy score was not improved\n",
      "2021-10-03 13:13:28 [INFO]: [EarlyStopper]: Current wait count: 10, patience: 10\n",
      "2021-10-03 13:13:28 [INFO]: [EarlyStopper]: Early stopping training: wait 10 >= patience 10 at epoch 20/100\n",
      "2021-10-03 13:13:28 [INFO]: [ModelCheckpoint]: Checkpoint at epoch 20: accuracy did not improve\n",
      "2021-10-03 13:13:28 [INFO]: [EvalScoreRecoder]: loss train socres: [0.5370177560919108, 0.33326195262529473, 0.1997337299648135, 0.13479867407892088, 0.1027027789527487, 0.08551379054712321, 0.07217748803984694, 0.06209484211997864, 0.059975045952022174, 0.05375783807466734, 0.0538559247501122, 0.04919516079269676, 0.046885711033005914, 0.046651116208546166, 0.045946342892479904, 0.04185913087923919, 0.041162203520391516, 0.03764678741544123, 0.03994787733615459, 0.03654023939954959, 0.03253122593836204], val scores: [0.4090686132830958, 0.32932650033504735, 0.316657087110704, 0.3352632375494126, 0.38690442221779975, 0.2439753995787713, 0.23709215920779012, 0.27889828739627714, 0.2530981355136441, 0.2922676979534088, 0.23448368003291467, 0.24445986074786033, 0.29149393218178904, 0.3410528955440367, 0.29279667812009014, 0.3362926353850672, 0.28156427668948325, 0.3319351277043743, 0.23023893338057302, 0.35277137409054465, 0.3644490624147077]\n",
      "2021-10-03 13:13:28 [INFO]: [EvalScoreRecoder]: accuracy train socres: [0.7363882698541329, 0.8573490680713128, 0.9208113857374393, 0.9480854943273906, 0.9612540518638574, 0.968534744732577, 0.9735489262560778, 0.977638776337115, 0.9779679902755267, 0.9806650121555915, 0.9808169570502431, 0.9823870542949756, 0.9830708063209076, 0.9835519651539708, 0.9842990275526742, 0.9848434967585089, 0.9852740072933549, 0.9866541734197731, 0.985919773095624, 0.9869960494327391, 0.9884268638573744], val scores: [0.8150201612903226, 0.8646673387096774, 0.8885080645161291, 0.8996975806451613, 0.8893145161290322, 0.9209173387096774, 0.9257056451612903, 0.9199596774193548, 0.9230846774193548, 0.927116935483871, 0.9336693548387097, 0.9259072580645161, 0.9170866935483871, 0.9220262096774193, 0.9189012096774194, 0.9228326612903226, 0.9272177419354839, 0.9229838709677419, 0.9252520161290323, 0.9202620967741936, 0.9168850806451613]\n",
      "2021-10-03 13:13:28 [INFO]: [EvalScoreRecoder]: loss train socres: [0.5370177560919108, 0.33326195262529473, 0.1997337299648135, 0.13479867407892088, 0.1027027789527487, 0.08551379054712321, 0.07217748803984694, 0.06209484211997864, 0.059975045952022174, 0.05375783807466734, 0.0538559247501122, 0.04919516079269676, 0.046885711033005914, 0.046651116208546166, 0.045946342892479904, 0.04185913087923919, 0.041162203520391516, 0.03764678741544123, 0.03994787733615459, 0.03654023939954959, 0.03253122593836204], val scores: [0.4090686132830958, 0.32932650033504735, 0.316657087110704, 0.3352632375494126, 0.38690442221779975, 0.2439753995787713, 0.23709215920779012, 0.27889828739627714, 0.2530981355136441, 0.2922676979534088, 0.23448368003291467, 0.24445986074786033, 0.29149393218178904, 0.3410528955440367, 0.29279667812009014, 0.3362926353850672, 0.28156427668948325, 0.3319351277043743, 0.23023893338057302, 0.35277137409054465, 0.3644490624147077]\n",
      "2021-10-03 13:13:28 [INFO]: [EvalScoreRecoder]: accuracy train socres: [0.7363882698541329, 0.8573490680713128, 0.9208113857374393, 0.9480854943273906, 0.9612540518638574, 0.968534744732577, 0.9735489262560778, 0.977638776337115, 0.9779679902755267, 0.9806650121555915, 0.9808169570502431, 0.9823870542949756, 0.9830708063209076, 0.9835519651539708, 0.9842990275526742, 0.9848434967585089, 0.9852740072933549, 0.9866541734197731, 0.985919773095624, 0.9869960494327391, 0.9884268638573744], val scores: [0.8150201612903226, 0.8646673387096774, 0.8885080645161291, 0.8996975806451613, 0.8893145161290322, 0.9209173387096774, 0.9257056451612903, 0.9199596774193548, 0.9230846774193548, 0.927116935483871, 0.9336693548387097, 0.9259072580645161, 0.9170866935483871, 0.9220262096774193, 0.9189012096774194, 0.9228326612903226, 0.9272177419354839, 0.9229838709677419, 0.9252520161290323, 0.9202620967741936, 0.9168850806451613]\n",
      "2021-10-03 13:13:28 [INFO]: [EarlyStopper]: Early stopped at the epoch 20/100\n",
      "2021-10-03 13:13:28 [INFO]: End training...\n",
      "2021-10-03 13:13:28 [INFO]: ======================\n",
      "2021-10-03 13:13:28 [INFO]: 1 train round result: {'metrics': ['accuracy'], 'train.score': OrderedDict([('loss', [0.5370177560919108, 0.33326195262529473, 0.1997337299648135, 0.13479867407892088, 0.1027027789527487, 0.08551379054712321, 0.07217748803984694, 0.06209484211997864, 0.059975045952022174, 0.05375783807466734, 0.0538559247501122, 0.04919516079269676, 0.046885711033005914, 0.046651116208546166, 0.045946342892479904, 0.04185913087923919, 0.041162203520391516, 0.03764678741544123, 0.03994787733615459, 0.03654023939954959, 0.03253122593836204]), ('accuracy', [0.7363882698541329, 0.8573490680713128, 0.9208113857374393, 0.9480854943273906, 0.9612540518638574, 0.968534744732577, 0.9735489262560778, 0.977638776337115, 0.9779679902755267, 0.9806650121555915, 0.9808169570502431, 0.9823870542949756, 0.9830708063209076, 0.9835519651539708, 0.9842990275526742, 0.9848434967585089, 0.9852740072933549, 0.9866541734197731, 0.985919773095624, 0.9869960494327391, 0.9884268638573744])]), 'val.score': OrderedDict([('loss', [0.4090686132830958, 0.32932650033504735, 0.316657087110704, 0.3352632375494126, 0.38690442221779975, 0.2439753995787713, 0.23709215920779012, 0.27889828739627714, 0.2530981355136441, 0.2922676979534088, 0.23448368003291467, 0.24445986074786033, 0.29149393218178904, 0.3410528955440367, 0.29279667812009014, 0.3362926353850672, 0.28156427668948325, 0.3319351277043743, 0.23023893338057302, 0.35277137409054465, 0.3644490624147077]), ('accuracy', [0.8150201612903226, 0.8646673387096774, 0.8885080645161291, 0.8996975806451613, 0.8893145161290322, 0.9209173387096774, 0.9257056451612903, 0.9199596774193548, 0.9230846774193548, 0.927116935483871, 0.9336693548387097, 0.9259072580645161, 0.9170866935483871, 0.9220262096774193, 0.9189012096774194, 0.9228326612903226, 0.9272177419354839, 0.9229838709677419, 0.9252520161290323, 0.9202620967741936, 0.9168850806451613])]), 'n_epochs': 100, 'stopped_epoch': 20, 'monitor': 'accuracy', 'best_epoch': 10, 'best_score': 0.9336693548387097, 'best_chk': '../output/exp1/train.1.model_10.chk'}, writing to ../output/exp1/train.1.result.json\n",
      "2021-10-03 13:13:28 [INFO]: End of 1 train round.\n",
      "2021-10-03 13:13:28 [INFO]: End of 2 train rounds of exp1, collapsed: 13:33:42.230618\n",
      "2021-10-03 13:13:28 [INFO]: ======================\n"
     ]
    },
    {
     "name": "stderr",
     "output_type": "stream",
     "text": [
      "\n"
     ]
    }
   ],
   "source": [
    "experiment.train()"
   ]
  },
  {
   "cell_type": "markdown",
   "metadata": {},
   "source": [
    "## Fine-tuning results"
   ]
  },
  {
   "cell_type": "code",
   "execution_count": 106,
   "metadata": {},
   "outputs": [
    {
     "name": "stdout",
     "output_type": "stream",
     "text": [
      "Populating the interactive namespace from numpy and matplotlib\n",
      "##############################\n",
      "n_epochs: 150\n",
      "stopped_epoch: 122\n",
      "best_epoch: 107\n",
      "best_score: 0.7934895833333333\n",
      "best_chk: ../output/exp1/train.0.model_107.chk\n",
      "##############################\n",
      "n_epochs: 100\n",
      "stopped_epoch: 20\n",
      "best_epoch: 10\n",
      "best_score: 0.9336693548387097\n",
      "best_chk: ../output/exp1/train.1.model_10.chk\n"
     ]
    },
    {
     "data": {
      "image/png": "[encoded data removed]",
      "text/plain": [
       "<Figure size 720x288 with 2 Axes>"
      ]
     },
     "metadata": {
      "needs_background": "light"
     },
     "output_type": "display_data"
    }
   ],
   "source": [
    "%pylab inline\n",
    "\n",
    "def show_train_result(train_result=None, ax=None, title=None):\n",
    "    df = pd.DataFrame({\n",
    "        'train_loss': train_result['train.score']['loss'],\n",
    "        'val_loss': train_result['val.score']['loss'],\n",
    "        'train_accuracy': train_result['train.score']['accuracy'],\n",
    "        'val_accuracy': train_result['val.score']['accuracy']\n",
    "    })\n",
    "\n",
    "    ax = df.loc[:, ['train_accuracy', 'val_accuracy']].plot(ax=ax, title=title, label='best:0.999')\n",
    "    bs = train_result['best_score']\n",
    "    ax.axhline(y=bs, ls='--', c='red')\n",
    "#     ax.annotate('%0.2f' % bs, (10, bs+0.01))\n",
    "    print('##############################')\n",
    "    print('n_epochs: %s' % train_result['n_epochs'])\n",
    "    print('stopped_epoch: %s' % train_result['stopped_epoch'])\n",
    "    print('best_epoch: %s' % train_result['best_epoch'])\n",
    "    print('best_score: %s' % train_result['best_score'])\n",
    "    print('best_chk: %s' % train_result['best_chk'])\n",
    "\n",
    "\n",
    "fig, axes = plt.subplots(nrows=1, ncols=2)\n",
    "fig.set_figwidth(10)\n",
    "fig.set_figheight(4)\n",
    "plt.tight_layout(h_pad=2, w_pad=2)\n",
    "\n",
    "show_train_result(train_result=experiment.get_train_result(0), \n",
    "                  ax=axes[0], \n",
    "                  title='1st finetuning round')\n",
    "show_train_result(train_result=experiment.get_train_result(1), \n",
    "                  ax=axes[1], \n",
    "                  title='2nd finetuning round')\n"
   ]
  },
  {
   "cell_type": "markdown",
   "metadata": {},
   "source": [
    "## Loading final fine-tuned model"
   ]
  },
  {
   "cell_type": "code",
   "execution_count": 107,
   "metadata": {},
   "outputs": [
    {
     "name": "stdout",
     "output_type": "stream",
     "text": [
      "2021-10-26 18:57:55 [INFO]: Create TAPE model using config: ../config/bert-base/\n",
      "2021-10-26 18:57:57 [INFO]: Loading the eval model from ../output/exp1/train.1.model_10.chk\n"
     ]
    },
    {
     "data": {
      "text/plain": [
       "BertTCREpitopeModel(\n",
       "  (bert): ProteinBertModel(\n",
       "    (embeddings): ProteinBertEmbeddings(\n",
       "      (word_embeddings): Embedding(30, 768, padding_idx=0)\n",
       "      (position_embeddings): Embedding(8192, 768)\n",
       "      (token_type_embeddings): Embedding(1, 768)\n",
       "      (LayerNorm): LayerNorm()\n",
       "      (dropout): Dropout(p=0.1)\n",
       "    )\n",
       "    (encoder): ProteinBertEncoder(\n",
       "      (layer): ModuleList(\n",
       "        (0): ProteinBertLayer(\n",
       "          (attention): ProteinBertAttention(\n",
       "            (self): ProteinBertSelfAttention(\n",
       "              (query): Linear(in_features=768, out_features=768, bias=True)\n",
       "              (key): Linear(in_features=768, out_features=768, bias=True)\n",
       "              (value): Linear(in_features=768, out_features=768, bias=True)\n",
       "              (dropout): Dropout(p=0.1)\n",
       "            )\n",
       "            (output): ProteinBertSelfOutput(\n",
       "              (dense): Linear(in_features=768, out_features=768, bias=True)\n",
       "              (LayerNorm): LayerNorm()\n",
       "              (dropout): Dropout(p=0.1)\n",
       "            )\n",
       "          )\n",
       "          (intermediate): ProteinBertIntermediate(\n",
       "            (dense): Linear(in_features=768, out_features=3072, bias=True)\n",
       "          )\n",
       "          (output): ProteinBertOutput(\n",
       "            (dense): Linear(in_features=3072, out_features=768, bias=True)\n",
       "            (LayerNorm): LayerNorm()\n",
       "            (dropout): Dropout(p=0.1)\n",
       "          )\n",
       "        )\n",
       "        (1): ProteinBertLayer(\n",
       "          (attention): ProteinBertAttention(\n",
       "            (self): ProteinBertSelfAttention(\n",
       "              (query): Linear(in_features=768, out_features=768, bias=True)\n",
       "              (key): Linear(in_features=768, out_features=768, bias=True)\n",
       "              (value): Linear(in_features=768, out_features=768, bias=True)\n",
       "              (dropout): Dropout(p=0.1)\n",
       "            )\n",
       "            (output): ProteinBertSelfOutput(\n",
       "              (dense): Linear(in_features=768, out_features=768, bias=True)\n",
       "              (LayerNorm): LayerNorm()\n",
       "              (dropout): Dropout(p=0.1)\n",
       "            )\n",
       "          )\n",
       "          (intermediate): ProteinBertIntermediate(\n",
       "            (dense): Linear(in_features=768, out_features=3072, bias=True)\n",
       "          )\n",
       "          (output): ProteinBertOutput(\n",
       "            (dense): Linear(in_features=3072, out_features=768, bias=True)\n",
       "            (LayerNorm): LayerNorm()\n",
       "            (dropout): Dropout(p=0.1)\n",
       "          )\n",
       "        )\n",
       "        (2): ProteinBertLayer(\n",
       "          (attention): ProteinBertAttention(\n",
       "            (self): ProteinBertSelfAttention(\n",
       "              (query): Linear(in_features=768, out_features=768, bias=True)\n",
       "              (key): Linear(in_features=768, out_features=768, bias=True)\n",
       "              (value): Linear(in_features=768, out_features=768, bias=True)\n",
       "              (dropout): Dropout(p=0.1)\n",
       "            )\n",
       "            (output): ProteinBertSelfOutput(\n",
       "              (dense): Linear(in_features=768, out_features=768, bias=True)\n",
       "              (LayerNorm): LayerNorm()\n",
       "              (dropout): Dropout(p=0.1)\n",
       "            )\n",
       "          )\n",
       "          (intermediate): ProteinBertIntermediate(\n",
       "            (dense): Linear(in_features=768, out_features=3072, bias=True)\n",
       "          )\n",
       "          (output): ProteinBertOutput(\n",
       "            (dense): Linear(in_features=3072, out_features=768, bias=True)\n",
       "            (LayerNorm): LayerNorm()\n",
       "            (dropout): Dropout(p=0.1)\n",
       "          )\n",
       "        )\n",
       "        (3): ProteinBertLayer(\n",
       "          (attention): ProteinBertAttention(\n",
       "            (self): ProteinBertSelfAttention(\n",
       "              (query): Linear(in_features=768, out_features=768, bias=True)\n",
       "              (key): Linear(in_features=768, out_features=768, bias=True)\n",
       "              (value): Linear(in_features=768, out_features=768, bias=True)\n",
       "              (dropout): Dropout(p=0.1)\n",
       "            )\n",
       "            (output): ProteinBertSelfOutput(\n",
       "              (dense): Linear(in_features=768, out_features=768, bias=True)\n",
       "              (LayerNorm): LayerNorm()\n",
       "              (dropout): Dropout(p=0.1)\n",
       "            )\n",
       "          )\n",
       "          (intermediate): ProteinBertIntermediate(\n",
       "            (dense): Linear(in_features=768, out_features=3072, bias=True)\n",
       "          )\n",
       "          (output): ProteinBertOutput(\n",
       "            (dense): Linear(in_features=3072, out_features=768, bias=True)\n",
       "            (LayerNorm): LayerNorm()\n",
       "            (dropout): Dropout(p=0.1)\n",
       "          )\n",
       "        )\n",
       "        (4): ProteinBertLayer(\n",
       "          (attention): ProteinBertAttention(\n",
       "            (self): ProteinBertSelfAttention(\n",
       "              (query): Linear(in_features=768, out_features=768, bias=True)\n",
       "              (key): Linear(in_features=768, out_features=768, bias=True)\n",
       "              (value): Linear(in_features=768, out_features=768, bias=True)\n",
       "              (dropout): Dropout(p=0.1)\n",
       "            )\n",
       "            (output): ProteinBertSelfOutput(\n",
       "              (dense): Linear(in_features=768, out_features=768, bias=True)\n",
       "              (LayerNorm): LayerNorm()\n",
       "              (dropout): Dropout(p=0.1)\n",
       "            )\n",
       "          )\n",
       "          (intermediate): ProteinBertIntermediate(\n",
       "            (dense): Linear(in_features=768, out_features=3072, bias=True)\n",
       "          )\n",
       "          (output): ProteinBertOutput(\n",
       "            (dense): Linear(in_features=3072, out_features=768, bias=True)\n",
       "            (LayerNorm): LayerNorm()\n",
       "            (dropout): Dropout(p=0.1)\n",
       "          )\n",
       "        )\n",
       "        (5): ProteinBertLayer(\n",
       "          (attention): ProteinBertAttention(\n",
       "            (self): ProteinBertSelfAttention(\n",
       "              (query): Linear(in_features=768, out_features=768, bias=True)\n",
       "              (key): Linear(in_features=768, out_features=768, bias=True)\n",
       "              (value): Linear(in_features=768, out_features=768, bias=True)\n",
       "              (dropout): Dropout(p=0.1)\n",
       "            )\n",
       "            (output): ProteinBertSelfOutput(\n",
       "              (dense): Linear(in_features=768, out_features=768, bias=True)\n",
       "              (LayerNorm): LayerNorm()\n",
       "              (dropout): Dropout(p=0.1)\n",
       "            )\n",
       "          )\n",
       "          (intermediate): ProteinBertIntermediate(\n",
       "            (dense): Linear(in_features=768, out_features=3072, bias=True)\n",
       "          )\n",
       "          (output): ProteinBertOutput(\n",
       "            (dense): Linear(in_features=3072, out_features=768, bias=True)\n",
       "            (LayerNorm): LayerNorm()\n",
       "            (dropout): Dropout(p=0.1)\n",
       "          )\n",
       "        )\n",
       "        (6): ProteinBertLayer(\n",
       "          (attention): ProteinBertAttention(\n",
       "            (self): ProteinBertSelfAttention(\n",
       "              (query): Linear(in_features=768, out_features=768, bias=True)\n",
       "              (key): Linear(in_features=768, out_features=768, bias=True)\n",
       "              (value): Linear(in_features=768, out_features=768, bias=True)\n",
       "              (dropout): Dropout(p=0.1)\n",
       "            )\n",
       "            (output): ProteinBertSelfOutput(\n",
       "              (dense): Linear(in_features=768, out_features=768, bias=True)\n",
       "              (LayerNorm): LayerNorm()\n",
       "              (dropout): Dropout(p=0.1)\n",
       "            )\n",
       "          )\n",
       "          (intermediate): ProteinBertIntermediate(\n",
       "            (dense): Linear(in_features=768, out_features=3072, bias=True)\n",
       "          )\n",
       "          (output): ProteinBertOutput(\n",
       "            (dense): Linear(in_features=3072, out_features=768, bias=True)\n",
       "            (LayerNorm): LayerNorm()\n",
       "            (dropout): Dropout(p=0.1)\n",
       "          )\n",
       "        )\n",
       "        (7): ProteinBertLayer(\n",
       "          (attention): ProteinBertAttention(\n",
       "            (self): ProteinBertSelfAttention(\n",
       "              (query): Linear(in_features=768, out_features=768, bias=True)\n",
       "              (key): Linear(in_features=768, out_features=768, bias=True)\n",
       "              (value): Linear(in_features=768, out_features=768, bias=True)\n",
       "              (dropout): Dropout(p=0.1)\n",
       "            )\n",
       "            (output): ProteinBertSelfOutput(\n",
       "              (dense): Linear(in_features=768, out_features=768, bias=True)\n",
       "              (LayerNorm): LayerNorm()\n",
       "              (dropout): Dropout(p=0.1)\n",
       "            )\n",
       "          )\n",
       "          (intermediate): ProteinBertIntermediate(\n",
       "            (dense): Linear(in_features=768, out_features=3072, bias=True)\n",
       "          )\n",
       "          (output): ProteinBertOutput(\n",
       "            (dense): Linear(in_features=3072, out_features=768, bias=True)\n",
       "            (LayerNorm): LayerNorm()\n",
       "            (dropout): Dropout(p=0.1)\n",
       "          )\n",
       "        )\n",
       "        (8): ProteinBertLayer(\n",
       "          (attention): ProteinBertAttention(\n",
       "            (self): ProteinBertSelfAttention(\n",
       "              (query): Linear(in_features=768, out_features=768, bias=True)\n",
       "              (key): Linear(in_features=768, out_features=768, bias=True)\n",
       "              (value): Linear(in_features=768, out_features=768, bias=True)\n",
       "              (dropout): Dropout(p=0.1)\n",
       "            )\n",
       "            (output): ProteinBertSelfOutput(\n",
       "              (dense): Linear(in_features=768, out_features=768, bias=True)\n",
       "              (LayerNorm): LayerNorm()\n",
       "              (dropout): Dropout(p=0.1)\n",
       "            )\n",
       "          )\n",
       "          (intermediate): ProteinBertIntermediate(\n",
       "            (dense): Linear(in_features=768, out_features=3072, bias=True)\n",
       "          )\n",
       "          (output): ProteinBertOutput(\n",
       "            (dense): Linear(in_features=3072, out_features=768, bias=True)\n",
       "            (LayerNorm): LayerNorm()\n",
       "            (dropout): Dropout(p=0.1)\n",
       "          )\n",
       "        )\n",
       "        (9): ProteinBertLayer(\n",
       "          (attention): ProteinBertAttention(\n",
       "            (self): ProteinBertSelfAttention(\n",
       "              (query): Linear(in_features=768, out_features=768, bias=True)\n",
       "              (key): Linear(in_features=768, out_features=768, bias=True)\n",
       "              (value): Linear(in_features=768, out_features=768, bias=True)\n",
       "              (dropout): Dropout(p=0.1)\n",
       "            )\n",
       "            (output): ProteinBertSelfOutput(\n",
       "              (dense): Linear(in_features=768, out_features=768, bias=True)\n",
       "              (LayerNorm): LayerNorm()\n",
       "              (dropout): Dropout(p=0.1)\n",
       "            )\n",
       "          )\n",
       "          (intermediate): ProteinBertIntermediate(\n",
       "            (dense): Linear(in_features=768, out_features=3072, bias=True)\n",
       "          )\n",
       "          (output): ProteinBertOutput(\n",
       "            (dense): Linear(in_features=3072, out_features=768, bias=True)\n",
       "            (LayerNorm): LayerNorm()\n",
       "            (dropout): Dropout(p=0.1)\n",
       "          )\n",
       "        )\n",
       "        (10): ProteinBertLayer(\n",
       "          (attention): ProteinBertAttention(\n",
       "            (self): ProteinBertSelfAttention(\n",
       "              (query): Linear(in_features=768, out_features=768, bias=True)\n",
       "              (key): Linear(in_features=768, out_features=768, bias=True)\n",
       "              (value): Linear(in_features=768, out_features=768, bias=True)\n",
       "              (dropout): Dropout(p=0.1)\n",
       "            )\n",
       "            (output): ProteinBertSelfOutput(\n",
       "              (dense): Linear(in_features=768, out_features=768, bias=True)\n",
       "              (LayerNorm): LayerNorm()\n",
       "              (dropout): Dropout(p=0.1)\n",
       "            )\n",
       "          )\n",
       "          (intermediate): ProteinBertIntermediate(\n",
       "            (dense): Linear(in_features=768, out_features=3072, bias=True)\n",
       "          )\n",
       "          (output): ProteinBertOutput(\n",
       "            (dense): Linear(in_features=3072, out_features=768, bias=True)\n",
       "            (LayerNorm): LayerNorm()\n",
       "            (dropout): Dropout(p=0.1)\n",
       "          )\n",
       "        )\n",
       "        (11): ProteinBertLayer(\n",
       "          (attention): ProteinBertAttention(\n",
       "            (self): ProteinBertSelfAttention(\n",
       "              (query): Linear(in_features=768, out_features=768, bias=True)\n",
       "              (key): Linear(in_features=768, out_features=768, bias=True)\n",
       "              (value): Linear(in_features=768, out_features=768, bias=True)\n",
       "              (dropout): Dropout(p=0.1)\n",
       "            )\n",
       "            (output): ProteinBertSelfOutput(\n",
       "              (dense): Linear(in_features=768, out_features=768, bias=True)\n",
       "              (LayerNorm): LayerNorm()\n",
       "              (dropout): Dropout(p=0.1)\n",
       "            )\n",
       "          )\n",
       "          (intermediate): ProteinBertIntermediate(\n",
       "            (dense): Linear(in_features=768, out_features=3072, bias=True)\n",
       "          )\n",
       "          (output): ProteinBertOutput(\n",
       "            (dense): Linear(in_features=3072, out_features=768, bias=True)\n",
       "            (LayerNorm): LayerNorm()\n",
       "            (dropout): Dropout(p=0.1)\n",
       "          )\n",
       "        )\n",
       "      )\n",
       "    )\n",
       "    (pooler): ProteinBertPooler(\n",
       "      (dense): Linear(in_features=768, out_features=768, bias=True)\n",
       "      (activation): Tanh()\n",
       "    )\n",
       "  )\n",
       "  (classifier): SimpleMLP(\n",
       "    (main): Sequential(\n",
       "      (0): Linear(in_features=768, out_features=512, bias=True)\n",
       "      (1): ReLU()\n",
       "      (2): Dropout(p=0.0, inplace)\n",
       "      (3): Linear(in_features=512, out_features=2, bias=True)\n",
       "    )\n",
       "  )\n",
       ")"
      ]
     },
     "metadata": {},
     "output_type": "display_data"
    }
   ],
   "source": [
    "model = experiment.load_eval_model()\n",
    "display(model)\n",
    "\n",
    "# Eval result recoder\n",
    "eval_recoder = PredResultRecoder(output_attentions=True, output_hidden_states=True)\n",
    "model.add_pred_listener(eval_recoder)"
   ]
  },
  {
   "cell_type": "markdown",
   "metadata": {},
   "source": [
    "## 모델 평가와 결과분석"
   ]
  },
  {
   "cell_type": "markdown",
   "metadata": {},
   "source": [
    "### Shomuradova et al\n",
    "\n",
    "- Performance evaluation for the dataset containing COVID-19 S-protein269-277(YLQPRTFLL) epitope with the 352 epitope-specific TCRβs from {Shomuradova:2020}\n",
    "- TCR3b sequence motifs와 attention weights와의 상관관계는?"
   ]
  },
  {
   "cell_type": "markdown",
   "metadata": {},
   "source": [
    "#### Loading eval dataset"
   ]
  },
  {
   "cell_type": "code",
   "execution_count": 158,
   "metadata": {},
   "outputs": [
    {
     "name": "stdout",
     "output_type": "stream",
     "text": [
      "shomuradova\n",
      "sh_df.shape: (610, 9), duplicated: 0\n",
      "0    305\n",
      "1    305\n",
      "Name: label, dtype: int64\n"
     ]
    }
   ],
   "source": [
    "from torch.utils.data import DataLoader\n",
    "from tcrbert.dataset import TCREpitopeSentenceDataset\n",
    "import numpy as np\n",
    "from tcrbert.dataset import CN\n",
    "from tcrbert.bioseq import write_fa\n",
    "\n",
    "epitope = 'YLQPRTFLL'\n",
    "\n",
    "sh_ds = TCREpitopeSentenceDataset.from_key('shomuradova')\n",
    "sh_df = sh_ds.df_enc\n",
    "\n",
    "print(sh_ds.name)\n",
    "print('sh_df.shape: %s, duplicated: %s' % (str(sh_df.shape), np.count_nonzero(sh_df.index.duplicated())))\n",
    "print(sh_df[CN.label].value_counts())"
   ]
  },
  {
   "cell_type": "markdown",
   "metadata": {},
   "source": [
    "#### Evaluation performance"
   ]
  },
  {
   "cell_type": "code",
   "execution_count": 159,
   "metadata": {},
   "outputs": [
    {
     "name": "stdout",
     "output_type": "stream",
     "text": [
      "Populating the interactive namespace from numpy and matplotlib\n",
      "2021-10-26 22:13:55 [INFO]: ======================\n",
      "2021-10-26 22:13:55 [INFO]: Begin predict...\n",
      "2021-10-26 22:13:55 [INFO]: use_cuda, device: False, cpu\n",
      "2021-10-26 22:13:55 [INFO]: model: BertTCREpitopeModel(\n",
      "  (bert): ProteinBertModel(\n",
      "    (embeddings): ProteinBertEmbeddings(\n",
      "      (word_embeddings): Embedding(30, 768, padding_idx=0)\n",
      "      (position_embeddings): Embedding(8192, 768)\n",
      "      (token_type_embeddings): Embedding(1, 768)\n",
      "      (LayerNorm): LayerNorm()\n",
      "      (dropout): Dropout(p=0.1)\n",
      "    )\n",
      "    (encoder): ProteinBertEncoder(\n",
      "      (layer): ModuleList(\n",
      "        (0): ProteinBertLayer(\n",
      "          (attention): ProteinBertAttention(\n",
      "            (self): ProteinBertSelfAttention(\n",
      "              (query): Linear(in_features=768, out_features=768, bias=True)\n",
      "              (key): Linear(in_features=768, out_features=768, bias=True)\n",
      "              (value): Linear(in_features=768, out_features=768, bias=True)\n",
      "              (dropout): Dropout(p=0.1)\n",
      "            )\n",
      "            (output): ProteinBertSelfOutput(\n",
      "              (dense): Linear(in_features=768, out_features=768, bias=True)\n",
      "              (LayerNorm): LayerNorm()\n",
      "              (dropout): Dropout(p=0.1)\n",
      "            )\n",
      "          )\n",
      "          (intermediate): ProteinBertIntermediate(\n",
      "            (dense): Linear(in_features=768, out_features=3072, bias=True)\n",
      "          )\n",
      "          (output): ProteinBertOutput(\n",
      "            (dense): Linear(in_features=3072, out_features=768, bias=True)\n",
      "            (LayerNorm): LayerNorm()\n",
      "            (dropout): Dropout(p=0.1)\n",
      "          )\n",
      "        )\n",
      "        (1): ProteinBertLayer(\n",
      "          (attention): ProteinBertAttention(\n",
      "            (self): ProteinBertSelfAttention(\n",
      "              (query): Linear(in_features=768, out_features=768, bias=True)\n",
      "              (key): Linear(in_features=768, out_features=768, bias=True)\n",
      "              (value): Linear(in_features=768, out_features=768, bias=True)\n",
      "              (dropout): Dropout(p=0.1)\n",
      "            )\n",
      "            (output): ProteinBertSelfOutput(\n",
      "              (dense): Linear(in_features=768, out_features=768, bias=True)\n",
      "              (LayerNorm): LayerNorm()\n",
      "              (dropout): Dropout(p=0.1)\n",
      "            )\n",
      "          )\n",
      "          (intermediate): ProteinBertIntermediate(\n",
      "            (dense): Linear(in_features=768, out_features=3072, bias=True)\n",
      "          )\n",
      "          (output): ProteinBertOutput(\n",
      "            (dense): Linear(in_features=3072, out_features=768, bias=True)\n",
      "            (LayerNorm): LayerNorm()\n",
      "            (dropout): Dropout(p=0.1)\n",
      "          )\n",
      "        )\n",
      "        (2): ProteinBertLayer(\n",
      "          (attention): ProteinBertAttention(\n",
      "            (self): ProteinBertSelfAttention(\n",
      "              (query): Linear(in_features=768, out_features=768, bias=True)\n",
      "              (key): Linear(in_features=768, out_features=768, bias=True)\n",
      "              (value): Linear(in_features=768, out_features=768, bias=True)\n",
      "              (dropout): Dropout(p=0.1)\n",
      "            )\n",
      "            (output): ProteinBertSelfOutput(\n",
      "              (dense): Linear(in_features=768, out_features=768, bias=True)\n",
      "              (LayerNorm): LayerNorm()\n",
      "              (dropout): Dropout(p=0.1)\n",
      "            )\n",
      "          )\n",
      "          (intermediate): ProteinBertIntermediate(\n",
      "            (dense): Linear(in_features=768, out_features=3072, bias=True)\n",
      "          )\n",
      "          (output): ProteinBertOutput(\n",
      "            (dense): Linear(in_features=3072, out_features=768, bias=True)\n",
      "            (LayerNorm): LayerNorm()\n",
      "            (dropout): Dropout(p=0.1)\n",
      "          )\n",
      "        )\n",
      "        (3): ProteinBertLayer(\n",
      "          (attention): ProteinBertAttention(\n",
      "            (self): ProteinBertSelfAttention(\n",
      "              (query): Linear(in_features=768, out_features=768, bias=True)\n",
      "              (key): Linear(in_features=768, out_features=768, bias=True)\n",
      "              (value): Linear(in_features=768, out_features=768, bias=True)\n",
      "              (dropout): Dropout(p=0.1)\n",
      "            )\n",
      "            (output): ProteinBertSelfOutput(\n",
      "              (dense): Linear(in_features=768, out_features=768, bias=True)\n",
      "              (LayerNorm): LayerNorm()\n",
      "              (dropout): Dropout(p=0.1)\n",
      "            )\n",
      "          )\n",
      "          (intermediate): ProteinBertIntermediate(\n",
      "            (dense): Linear(in_features=768, out_features=3072, bias=True)\n",
      "          )\n",
      "          (output): ProteinBertOutput(\n",
      "            (dense): Linear(in_features=3072, out_features=768, bias=True)\n",
      "            (LayerNorm): LayerNorm()\n",
      "            (dropout): Dropout(p=0.1)\n",
      "          )\n",
      "        )\n",
      "        (4): ProteinBertLayer(\n",
      "          (attention): ProteinBertAttention(\n",
      "            (self): ProteinBertSelfAttention(\n",
      "              (query): Linear(in_features=768, out_features=768, bias=True)\n",
      "              (key): Linear(in_features=768, out_features=768, bias=True)\n",
      "              (value): Linear(in_features=768, out_features=768, bias=True)\n",
      "              (dropout): Dropout(p=0.1)\n",
      "            )\n",
      "            (output): ProteinBertSelfOutput(\n",
      "              (dense): Linear(in_features=768, out_features=768, bias=True)\n",
      "              (LayerNorm): LayerNorm()\n",
      "              (dropout): Dropout(p=0.1)\n",
      "            )\n",
      "          )\n",
      "          (intermediate): ProteinBertIntermediate(\n",
      "            (dense): Linear(in_features=768, out_features=3072, bias=True)\n",
      "          )\n",
      "          (output): ProteinBertOutput(\n",
      "            (dense): Linear(in_features=3072, out_features=768, bias=True)\n",
      "            (LayerNorm): LayerNorm()\n",
      "            (dropout): Dropout(p=0.1)\n",
      "          )\n",
      "        )\n",
      "        (5): ProteinBertLayer(\n",
      "          (attention): ProteinBertAttention(\n",
      "            (self): ProteinBertSelfAttention(\n",
      "              (query): Linear(in_features=768, out_features=768, bias=True)\n",
      "              (key): Linear(in_features=768, out_features=768, bias=True)\n",
      "              (value): Linear(in_features=768, out_features=768, bias=True)\n",
      "              (dropout): Dropout(p=0.1)\n",
      "            )\n",
      "            (output): ProteinBertSelfOutput(\n",
      "              (dense): Linear(in_features=768, out_features=768, bias=True)\n",
      "              (LayerNorm): LayerNorm()\n",
      "              (dropout): Dropout(p=0.1)\n",
      "            )\n",
      "          )\n",
      "          (intermediate): ProteinBertIntermediate(\n",
      "            (dense): Linear(in_features=768, out_features=3072, bias=True)\n",
      "          )\n",
      "          (output): ProteinBertOutput(\n",
      "            (dense): Linear(in_features=3072, out_features=768, bias=True)\n",
      "            (LayerNorm): LayerNorm()\n",
      "            (dropout): Dropout(p=0.1)\n",
      "          )\n",
      "        )\n",
      "        (6): ProteinBertLayer(\n",
      "          (attention): ProteinBertAttention(\n",
      "            (self): ProteinBertSelfAttention(\n",
      "              (query): Linear(in_features=768, out_features=768, bias=True)\n",
      "              (key): Linear(in_features=768, out_features=768, bias=True)\n",
      "              (value): Linear(in_features=768, out_features=768, bias=True)\n",
      "              (dropout): Dropout(p=0.1)\n",
      "            )\n",
      "            (output): ProteinBertSelfOutput(\n",
      "              (dense): Linear(in_features=768, out_features=768, bias=True)\n",
      "              (LayerNorm): LayerNorm()\n",
      "              (dropout): Dropout(p=0.1)\n",
      "            )\n",
      "          )\n",
      "          (intermediate): ProteinBertIntermediate(\n",
      "            (dense): Linear(in_features=768, out_features=3072, bias=True)\n",
      "          )\n",
      "          (output): ProteinBertOutput(\n",
      "            (dense): Linear(in_features=3072, out_features=768, bias=True)\n",
      "            (LayerNorm): LayerNorm()\n",
      "            (dropout): Dropout(p=0.1)\n",
      "          )\n",
      "        )\n",
      "        (7): ProteinBertLayer(\n",
      "          (attention): ProteinBertAttention(\n",
      "            (self): ProteinBertSelfAttention(\n",
      "              (query): Linear(in_features=768, out_features=768, bias=True)\n",
      "              (key): Linear(in_features=768, out_features=768, bias=True)\n",
      "              (value): Linear(in_features=768, out_features=768, bias=True)\n",
      "              (dropout): Dropout(p=0.1)\n",
      "            )\n",
      "            (output): ProteinBertSelfOutput(\n",
      "              (dense): Linear(in_features=768, out_features=768, bias=True)\n",
      "              (LayerNorm): LayerNorm()\n",
      "              (dropout): Dropout(p=0.1)\n",
      "            )\n",
      "          )\n",
      "          (intermediate): ProteinBertIntermediate(\n",
      "            (dense): Linear(in_features=768, out_features=3072, bias=True)\n",
      "          )\n",
      "          (output): ProteinBertOutput(\n",
      "            (dense): Linear(in_features=3072, out_features=768, bias=True)\n",
      "            (LayerNorm): LayerNorm()\n",
      "            (dropout): Dropout(p=0.1)\n",
      "          )\n",
      "        )\n",
      "        (8): ProteinBertLayer(\n",
      "          (attention): ProteinBertAttention(\n",
      "            (self): ProteinBertSelfAttention(\n",
      "              (query): Linear(in_features=768, out_features=768, bias=True)\n",
      "              (key): Linear(in_features=768, out_features=768, bias=True)\n",
      "              (value): Linear(in_features=768, out_features=768, bias=True)\n",
      "              (dropout): Dropout(p=0.1)\n",
      "            )\n",
      "            (output): ProteinBertSelfOutput(\n",
      "              (dense): Linear(in_features=768, out_features=768, bias=True)\n",
      "              (LayerNorm): LayerNorm()\n",
      "              (dropout): Dropout(p=0.1)\n",
      "            )\n",
      "          )\n",
      "          (intermediate): ProteinBertIntermediate(\n",
      "            (dense): Linear(in_features=768, out_features=3072, bias=True)\n",
      "          )\n",
      "          (output): ProteinBertOutput(\n",
      "            (dense): Linear(in_features=3072, out_features=768, bias=True)\n",
      "            (LayerNorm): LayerNorm()\n",
      "            (dropout): Dropout(p=0.1)\n",
      "          )\n",
      "        )\n",
      "        (9): ProteinBertLayer(\n",
      "          (attention): ProteinBertAttention(\n",
      "            (self): ProteinBertSelfAttention(\n",
      "              (query): Linear(in_features=768, out_features=768, bias=True)\n",
      "              (key): Linear(in_features=768, out_features=768, bias=True)\n",
      "              (value): Linear(in_features=768, out_features=768, bias=True)\n",
      "              (dropout): Dropout(p=0.1)\n",
      "            )\n",
      "            (output): ProteinBertSelfOutput(\n",
      "              (dense): Linear(in_features=768, out_features=768, bias=True)\n",
      "              (LayerNorm): LayerNorm()\n",
      "              (dropout): Dropout(p=0.1)\n",
      "            )\n",
      "          )\n",
      "          (intermediate): ProteinBertIntermediate(\n",
      "            (dense): Linear(in_features=768, out_features=3072, bias=True)\n",
      "          )\n",
      "          (output): ProteinBertOutput(\n",
      "            (dense): Linear(in_features=3072, out_features=768, bias=True)\n",
      "            (LayerNorm): LayerNorm()\n",
      "            (dropout): Dropout(p=0.1)\n",
      "          )\n",
      "        )\n",
      "        (10): ProteinBertLayer(\n",
      "          (attention): ProteinBertAttention(\n",
      "            (self): ProteinBertSelfAttention(\n",
      "              (query): Linear(in_features=768, out_features=768, bias=True)\n",
      "              (key): Linear(in_features=768, out_features=768, bias=True)\n",
      "              (value): Linear(in_features=768, out_features=768, bias=True)\n",
      "              (dropout): Dropout(p=0.1)\n",
      "            )\n",
      "            (output): ProteinBertSelfOutput(\n",
      "              (dense): Linear(in_features=768, out_features=768, bias=True)\n",
      "              (LayerNorm): LayerNorm()\n",
      "              (dropout): Dropout(p=0.1)\n",
      "            )\n",
      "          )\n",
      "          (intermediate): ProteinBertIntermediate(\n",
      "            (dense): Linear(in_features=768, out_features=3072, bias=True)\n",
      "          )\n",
      "          (output): ProteinBertOutput(\n",
      "            (dense): Linear(in_features=3072, out_features=768, bias=True)\n",
      "            (LayerNorm): LayerNorm()\n",
      "            (dropout): Dropout(p=0.1)\n",
      "          )\n",
      "        )\n",
      "        (11): ProteinBertLayer(\n",
      "          (attention): ProteinBertAttention(\n",
      "            (self): ProteinBertSelfAttention(\n",
      "              (query): Linear(in_features=768, out_features=768, bias=True)\n",
      "              (key): Linear(in_features=768, out_features=768, bias=True)\n",
      "              (value): Linear(in_features=768, out_features=768, bias=True)\n",
      "              (dropout): Dropout(p=0.1)\n",
      "            )\n",
      "            (output): ProteinBertSelfOutput(\n",
      "              (dense): Linear(in_features=768, out_features=768, bias=True)\n",
      "              (LayerNorm): LayerNorm()\n",
      "              (dropout): Dropout(p=0.1)\n",
      "            )\n",
      "          )\n",
      "          (intermediate): ProteinBertIntermediate(\n",
      "            (dense): Linear(in_features=768, out_features=3072, bias=True)\n",
      "          )\n",
      "          (output): ProteinBertOutput(\n",
      "            (dense): Linear(in_features=3072, out_features=768, bias=True)\n",
      "            (LayerNorm): LayerNorm()\n",
      "            (dropout): Dropout(p=0.1)\n",
      "          )\n",
      "        )\n",
      "      )\n",
      "    )\n",
      "    (pooler): ProteinBertPooler(\n",
      "      (dense): Linear(in_features=768, out_features=768, bias=True)\n",
      "      (activation): Tanh()\n",
      "    )\n",
      "  )\n",
      "  (classifier): SimpleMLP(\n",
      "    (main): Sequential(\n",
      "      (0): Linear(in_features=768, out_features=512, bias=True)\n",
      "      (1): ReLU()\n",
      "      (2): Dropout(p=0.0, inplace)\n",
      "      (3): Linear(in_features=512, out_features=2, bias=True)\n",
      "    )\n",
      "  )\n",
      ")\n"
     ]
    },
    {
     "name": "stdout",
     "output_type": "stream",
     "text": [
      "2021-10-26 22:13:55 [INFO]: n_data: 610\n",
      "2021-10-26 22:13:55 [INFO]: batch_size: 610\n",
      "2021-10-26 22:13:55 [INFO]: [PredResultRecoder]: on_predict_begin...\n",
      "2021-10-26 22:13:55 [INFO]: Begin 0/1 prediction batch\n",
      "2021-10-26 22:14:03 [INFO]: End 0/1 prediction batch\n",
      "2021-10-26 22:14:03 [INFO]: [PredResultRecoder]: on_predict_end...\n",
      "2021-10-26 22:14:04 [INFO]: Done to predict...\n",
      "2021-10-26 22:14:04 [INFO]: ======================\n",
      "score_map: OrderedDict([('accuracy', 0.9459016393442623), ('f1', 0.9454545454545454), ('roc_auc', 0.9789518946519754)])\n"
     ]
    },
    {
     "data": {
      "image/png": "[encoded data removed]",
      "text/plain": [
       "<Figure size 432x288 with 1 Axes>"
      ]
     },
     "metadata": {
      "needs_background": "light"
     },
     "output_type": "display_data"
    }
   ],
   "source": [
    "%pylab inline\n",
    "\n",
    "from sklearn.metrics import roc_curve, auc\n",
    "\n",
    "metrics = ['accuracy', 'f1', 'roc_auc']\n",
    "data_loader = DataLoader(sh_ds, batch_size=len(sh_ds), shuffle=False, num_workers=2)\n",
    "model.predict(data_loader=data_loader, metrics=metrics)\n",
    "\n",
    "input_labels  = np.array(eval_recoder.result_map['input_labels'])\n",
    "output_labels = np.array(eval_recoder.result_map['output_labels'])\n",
    "output_probs  = np.array(eval_recoder.result_map['output_probs'])\n",
    "\n",
    "fpr, tpr, _ = roc_curve(input_labels, output_probs)\n",
    "score = auc(fpr, tpr)\n",
    "plt.plot(fpr, tpr, color='darkorange', label='ROC curve (AUC = %0.2f)' % score)\n",
    "plt.plot([0, 1], [0, 1], color='navy', linestyle='--')\n",
    "plt.xlim([0.0, 1.0])\n",
    "plt.ylim([0.0, 1.05])\n",
    "plt.xlabel('False Positive Rate')\n",
    "plt.ylabel('True Positive Rate')\n",
    "plt.legend(loc=\"lower right\")\n",
    "\n",
    "print('score_map: %s' % eval_recoder.result_map['score_map'])"
   ]
  },
  {
   "cell_type": "markdown",
   "metadata": {},
   "source": [
    "#### Selecting target CDR3b sequences by lengths\n",
    "\n",
    "- Model에 의해 Positive로 분류된 CDR3beta 서열 중 갯수가 많은 길이를 선택한다."
   ]
  },
  {
   "cell_type": "code",
   "execution_count": 160,
   "metadata": {
    "scrolled": false
   },
   "outputs": [
    {
     "name": "stdout",
     "output_type": "stream",
     "text": [
      "Populating the interactive namespace from numpy and matplotlib\n",
      "cum_ratio: 159/300=0.53\n",
      "target_indices for 13: [  0   1   2   3   5   7   9  11  13  15  18  19  20  21  22  23  24  25\n",
      "  27  28  31  32  33  35  37  39  43  51  52  57  59  62  65  67  70  71\n",
      "  74  75  76  78  79  81  82  88  89  90  91  92  93  94  97  99 100 110\n",
      " 111 113 115 117 118 119 120 123 124 127 129 134 138 139 142 146 147 149\n",
      " 150 153 154 155 156 158 160 161 162 166 168 169 170 172 173 174 175 176\n",
      " 177 178 179 180 185 186 188 189 190 192 193 194 197 198 201 202 203 205\n",
      " 207 211 213 214 217 219 220 223 225 228 231 233 234 237 238 239 240 243\n",
      " 244 245 247 250 251 252 254 256 261 263 266 267 268 270 271 273 275 277\n",
      " 279 280 287 289 290 291 292 294 295 296 298 312 533 548 595](159)\n",
      "cum_ratio: 221/300=0.7366666666666667\n",
      "target_indices for 16: [  4  16  29  34  40  41  42  44  53  56  60  61  63  83  96 103 105 106\n",
      " 107 108 112 114 121 132 133 157 164 165 167 171 182 184 191 199 200 204\n",
      " 208 212 215 216 224 226 236 241 249 253 255 257 259 264 265 269 272 278\n",
      " 283 284 286 293 300 301 302 303](62)\n",
      "cum_ratio: 260/300=0.8666666666666667\n",
      "target_indices for 11: [  6   8  10  12  14  17  26  36  48  49  50  55  58  64  69  77  85  86\n",
      "  95  98 130 135 137 141 143 163 187 195 196 206 210 218 227 229 248 258\n",
      " 262 403 471](39)\n",
      "cum_ratio: 284/300=0.9466666666666667\n",
      "cum_ratio: 289/300=0.9633333333333334\n",
      "cum_ratio: 293/300=0.9766666666666667\n",
      "cum_ratio: 297/300=0.99\n",
      "cum_ratio: 299/300=0.9966666666666667\n",
      "cum_ratio: 300/300=1.0\n"
     ]
    },
    {
     "data": {
      "image/png": "[encoded data removed]",
      "text/plain": [
       "<Figure size 432x288 with 1 Axes>"
      ]
     },
     "metadata": {
      "needs_background": "light"
     },
     "output_type": "display_data"
    }
   ],
   "source": [
    "%pylab inline\n",
    "\n",
    "import matplotlib.pyplot as plt\n",
    "import matplotlib.image as image\n",
    "\n",
    "import seaborn as sns\n",
    "from collections import Counter, OrderedDict\n",
    "\n",
    "pos_indices = np.where(output_labels == 1)[0]\n",
    "# print('pos_indices: %s(%s)' % (pos_indices, str(pos_indices.shape)))\n",
    "pos_cdr3b = sh_df[CN.cdr3b].values[pos_indices]\n",
    "\n",
    "##########################################\n",
    "lens, cnts = zip(*sorted(Counter(map(lambda x: len(x), pos_cdr3b)).items()))\n",
    "lens = np.array(lens)\n",
    "cnts = np.array(cnts)\n",
    "ax = sns.barplot(x=lens, y=cnts, color='blue')\n",
    "ax.set_title('Length distribution of postives')\n",
    "ax.set_xlabel('Length')\n",
    "\n",
    "# Select target indices by cdr3b sequence lenghts\n",
    "target_index_map = OrderedDict()\n",
    "order = np.argsort(cnts)[::-1]\n",
    "cum_cnt = 0\n",
    "for cur_len, cur_cnt in zip(lens[order], cnts[order]):\n",
    "    cum_cnt += cur_cnt\n",
    "    cum_ratio = cum_cnt/pos_indices.shape[0]\n",
    "    print('cum_ratio: %s/%s=%s' % (cum_cnt, pos_indices.shape[0], cum_ratio))\n",
    "    if cum_ratio < 0.9:\n",
    "        target_indices = np.where((output_labels == 1) & (sh_df[CN.cdr3b].map(lambda x: len(x) == cur_len)))[0]\n",
    "        print('target_indices for %s: %s(%s)' % (cur_len, target_indices, target_indices.shape[0]))\n",
    "        target_index_map[cur_len] = target_indices\n",
    "\n"
   ]
  },
  {
   "cell_type": "markdown",
   "metadata": {},
   "source": [
    "- Length distribution\n",
    "    - Positive의 경우, 대부분의 서열 길이는 13이고 뒤를 이어 16, 11에 몰려 있다\n",
    "    - Negative의 경우, 11-18 길이로 골고루 분포되어 있으며, 14, 15에 가장 많이 있다.  \n",
    "\n",
    "<strike>\n",
    "- MSA\n",
    "    - Positive의 경우, 1-3번 위치에 C, A, <b>8번 위치에 P</b>, 16-20번 위치에 E, F가 모티프\n",
    "    - Negative의 경우, 1-3번 위치에 C, A, 4, 5번 위치에 S, 18-21번 위치에 각각 E, Q, F, 22-25번에 P, Q, H, F가 모티프\n",
    "\n",
    "- Positive/negative MSA 간의 모티프 차이점\n",
    "    - 앞단 위치의 모티프 구성: pos=>CCA, neg=>CCASS\n",
    "    - Positive MSA의 8번 위치의 P\n",
    "    - 말단 위치에서의 positive의 경우 E, F로 모티프가 구성되는 반면, negative의 경우 E, Q, F로 구성되는 점\n",
    "    - Positive MSA에서는 나타나지 않은 negative의 최말단에 P, Q, H, F로 구성되는 모티프가 있음\n",
    "</strike>"
   ]
  },
  {
   "cell_type": "markdown",
   "metadata": {},
   "source": [
    "#### Investigation of attention weights in YLQPRTFLL-CDR3b sequences \n",
    "- 전형적인 epitope-specific TCR recognition에서의 position-specific 아미노산 모티프들을 식별하는 방법들은 TCR 서열들의 MSA로 부터 유도되는 진화적 보존도를 기반으로 한다.\n",
    "\n",
    "- 이러한 방법들은 TCR 서열들의 MSA를 기반으로 하고 있기 때문에 에피토프 펩타이드 서열에서의 모티프를 함께 식별해내기 어렵다.\n",
    "\n",
    "- 최근에, BERTology는 TAPE, ProtAlbert 등과 같은 protein Transformer 모델의 output attention을 통하여 단백질 접힘 구조와 타겟 단백질에서의 functional 결합 사이트 등과 같은 단백질의 생물학적 특징들을 효과적으로 캡쳐할 수 있음을 증명하였다{Vig, J:2020}\n",
    "\n",
    "- YLQPRTFLL 에피토프와 TCR 상호작용에서의 position-specific 아미노산 모티프를 식별하기 위하여 positive 데이터셋의 epitope-CDR3beta 서열 상에서 우리의 모델 output attention weight를 조사하였다. 이러한 방법은 epitope 펩타이드 서열과 TCR 서열 모두 동시에 고려하기 때문에 더욱 유용할 것이라 판단된다.\n",
    "- Positive로 분류된 epitope-TCR 서열데이터 중에서 가장 많은 13mer TCR CDR3b 서열을 대상으로 고정길이 22 길이의 epitope-TCR CDR3b 서열에 대한 output attention 가중치를 조사하였다.\n",
    "- epitope-TCRb 서열에서의 position-wise marginal weights(수식?)를 bar plot으로 도식화한다.\n",
    "- 각각의 epitope TCRb 서열에서 상위 10%에 해당하는 위치에 tick label 아래에 점을 표시하였다."
   ]
  },
  {
   "cell_type": "markdown",
   "metadata": {},
   "source": [
    "##### Generating SeqLogo for target cdr3b sequences"
   ]
  },
  {
   "cell_type": "code",
   "execution_count": 162,
   "metadata": {},
   "outputs": [],
   "source": [
    "seq2logo = '/home/hym/trunk/seq2logo/Seq2Logo.py' "
   ]
  },
  {
   "cell_type": "code",
   "execution_count": 163,
   "metadata": {
    "scrolled": true
   },
   "outputs": [
    {
     "name": "stdout",
     "output_type": "stream",
     "text": [
      "Target CDR3b sequences for 13: ['CASSFQNTGELFF' 'CASSSVNNNEQFF' 'CAVGEANTGELFF' 'CAYQEVNTGELFF'\n",
      " 'CSAGQRNTGELFF' 'CAGDYLNTGELFF' 'CASSVDNTGELFF' 'CAGQDLNTGELFF'\n",
      " 'CAAQNLNTGELFF' 'CSAGDRNTGELFF' 'CASTDLNTGELFF' 'CASSELNTGELFF'\n",
      " 'CATQDVNTGELFF' 'CASSDLSTGELFF' 'CASSDLNSGEQYF' 'CANQDSNTGELFF'\n",
      " 'CASGDLSSGEQYF' 'CASSDQNGNIQYF' 'CASTELNGGTQYF' 'CASGTANTGELFF'\n",
      " 'CAYLEANSYEQYF' 'CASQDLNTGELFF' 'CASQEANTGELFF' 'CATEDLNTGELFF'\n",
      " 'CATSEENTGELFF' 'CASSSLNTGELFF' 'CASTPLNTGELFF' 'CANQDANTGELFF'\n",
      " 'CASTGLNTGELFF' 'CASNHANTGELFF' 'CASTSLNTGELFF' 'CASSGTNQNIQYF'\n",
      " 'CASQDRNTGELFF' 'CASTDLDTGELFF' 'CAASEMNTGELFF' 'CAKGTANTGELFF'\n",
      " 'CASEDRNTGELFF' 'CASGDDNTGELFF' 'CASGGTNTGELFF' 'CASGTLNSLVAFF'\n",
      " 'CASIGLNTGELFF' 'CASNNQNTGELFF' 'CASREGNTGELFF' 'CASSDGNTGELFF'\n",
      " 'CASSDLDGGEAFF' 'CASSDLNTGELFF' 'CASSDTNTGELFF' 'CASSERNSLEAFF'\n",
      " 'CASSESNTGELFF' 'CASSGLNTGELFF' 'CASSQRNDLKAFF' 'CASSTLNSLEAFF'\n",
      " 'CATTDLNTGELFF' 'CSVGTLNTGELFF' 'CALGDLNTGELFF' 'CATQGLNTGELFF'\n",
      " 'CASIDENTGELFF' 'CASSNANTGELFF' 'CAIGDENTGELFF' 'CASQATNTGELFF'\n",
      " 'CALGSSNTGELFF' 'CSVGDRNNLELFF' 'CARGLADTGELFF' 'CASMEENTGELFF'\n",
      " 'CSVEEQNTGELFF' 'CASGDENTGELFF' 'CASSYRNSLEQFF' 'CAIGDRSSGEQYF'\n",
      " 'CACQELNTGELFF' 'CASQQANTGELFF' 'CASMDQNTGELFF' 'CASSLGTGGDLHF'\n",
      " 'CAWSLLNDLEAFF' 'CASGEGNTGELFF' 'CASQLMNTGELFF' 'CAEGELNTGELFF'\n",
      " 'CASGEENTGELFF' 'CASIDQNTGELFF' 'CASSDMNTGELFF' 'CATGGLNTGELFF'\n",
      " 'CASQNENTGELFF' 'CASSVQNTGELFF' 'CAIGDRNTGELFF' 'CASSEMNTGELFF'\n",
      " 'CAPGDLNTGELFF' 'CASSDLDTGELFF' 'CASSSQNTGELFF' 'CSVLEMNTGELFF'\n",
      " 'CASLSQNTGELFF' 'CASSEGLGGEQYF' 'CAMQEMNTGELFF' 'CAAQMTNTGELFF'\n",
      " 'CAITDLNTGELFF' 'CATQNLNTGELFF' 'CASNDLNTGELFF' 'CATHELNTGELFF'\n",
      " 'CASSSQNTAEAFF' 'CAWSDHNSKELFF' 'CATEDRNTGELFF' 'CASGRQNTGELFF'\n",
      " 'CASGTQNTGELFF' 'CASQGLNTGELFF' 'CATQDRNTGELFF' 'CATSNLNTGELFF'\n",
      " 'CSCGNANTGELFF' 'CATSDLDSGELFF' 'CASSDGTSNEQYF' 'CASSEWIQETQYF'\n",
      " 'CAGQRANTGELFF' 'CAPQDLDTGELFF' 'CAAQDSNTGELFF' 'CAGGRGNTGELFF'\n",
      " 'CAIQYANTGELFF' 'CAIADANTGELFF' 'CASSEGTSGEQYF' 'CATSTENTGELFF'\n",
      " 'CASGEANTGELFF' 'CASNELNTGELFF' 'CAAQATNTGELFF' 'CASSLALANEQFF'\n",
      " 'CASNNLNTGELFF' 'CASMTHNTGELFF' 'CAASDPNTGELFF' 'CASSLGLYGEQYF'\n",
      " 'CATEYTNTGELFF' 'CATGSANTGELFF' 'CASSDLTGGEAFF' 'CASNSQNTGELFF'\n",
      " 'CASSEANTGELFF' 'CASSDLDNLVAFF' 'CAGADSNTGELFF' 'CAGQNLNTGELFF'\n",
      " 'CAAAERNTGELFF' 'CASPEANTGELFF' 'CASSDDNTGELFF' 'CATQGWDTGELFF'\n",
      " 'CAAGVENTGELFF' 'CASQDSNTGELFF' 'CASSYQNTGELFF' 'CASYDLNTGELFF'\n",
      " 'CAVQDSNTGELFF' 'CAIQESNTGELFF' 'CATQDANTGELFF' 'CARQDTNTGELFF'\n",
      " 'CATQRTNTGELFF' 'CATQAVNTGELFF' 'CASQYSNTGELFF' 'CANGKANTGELFF'\n",
      " 'CAIQDLNTGELFF' 'CARGESNTGELFF' 'CASTDMNTGELFF' 'CASGDLDSIEAFF'\n",
      " 'CASQDQNTGELFF' 'CASSHTNTGELFF' 'CASSDIDTGELFF' 'CASSLYSMGELFF'\n",
      " 'CASSLTASYEQYF' 'CASSFGGYQPQHF' 'CASSTGVGETQYF'](159)\n",
      "Writing target_cdr3b seqs to /home/hym/trunk/TCRBert/output/exp1/shomuradova.cdr3b_13.fa\n",
      "Generating Seq2Logo: /home/hym/trunk/seq2logo/Seq2Logo.py -I 1 -f /home/hym/trunk/TCRBert/output/exp1/shomuradova.cdr3b_13.fa -o /home/hym/trunk/TCRBert/output/exp1/shomuradova.cdr3b_13_logo --format PDF\n",
      "inputType: FASTA\n",
      "\n",
      "Target CDR3b sequences for 16: ['CSARDDQAVNTGELFF' 'CSARGGQGQNTGELFF' 'CATSGAETHNTGELFF'\n",
      " 'CSARDGPGVNTGELFF' 'CASSELGGGNTGELFF' 'CSARDWEQMNTGELFF'\n",
      " 'CASSPVGGGNTGELFF' 'CSARDQPGQNTGELFF' 'CASSLTGGGNTGELFF'\n",
      " 'CASSEIGGGNTGELFF' 'CSARDSRAQNTGELFF' 'CASSPLAGGNTGELFF'\n",
      " 'CASSQLAGGNTGELFF' 'CASRGGAELNTGELFF' 'CASSPLNGGNTGELFF'\n",
      " 'CSARDHKAMNTGELFF' 'CSARDQWAANTGELFF' 'CSARDRLAQNTGELFF'\n",
      " 'CSARDSVAVNTGELFF' 'CSARSRQGQNTGELFF' 'CASSPLGGGNTGELFF'\n",
      " 'CSARDDRAQNTGELFF' 'CSARDGLAMNTGELFF' 'CASSVPDRANTGELFF'\n",
      " 'CSARDLAAQNTGELFF' 'CSARDHRGANTGELFF' 'CSARDGWDHNTGELFF'\n",
      " 'CSARDVEGMNTGELFF' 'CALWKGGRENTGELFF' 'CSARDERAVNTGELFF'\n",
      " 'CSARDGLAQNTGELFF' 'CATQGPSEINTGELFF' 'CAIRTSGMLNTGELFF'\n",
      " 'CSARDAVAANTGELFF' 'CSARDEVAHNTGELFF' 'CSARDAEGQNTGELFF'\n",
      " 'CSARGELAVNTGELFF' 'CASSPTAGGDTGELFF' 'CASSPLVSRNTGELFF'\n",
      " 'CASSPPGGGNTGELFF' 'CASSDSEGHNTGELFF' 'CSARGGLSQNTGELFF'\n",
      " 'CSARTGDDWNTGELFF' 'CSARDGTGWNTGELFF' 'CASSPTAGGNTGELFF'\n",
      " 'CASRGLAEQNTGELFF' 'CSARDEAGQNTGELFF' 'CSARDGQGMNTGELFF'\n",
      " 'CASRDIHQQNTGELFF' 'CASSLVQGGNTGELFF' 'CASSIIGGGNTGELFF'\n",
      " 'CASSPPGAGNTGELFF' 'CSARDYRQTNTGELFF' 'CSARDLAGENTGELFF'\n",
      " 'CSARDFNSWNTGELFF' 'CSARDQAAQNTGELFF' 'CASSFLAGGNTGELFF'\n",
      " 'CAARDQRDLNTGELFF' 'CASSDTTRQNTGELFF' 'CASSELAGGNTGELFF'\n",
      " 'CSARDPPRVNTGELFF' 'CSARDQYRMNTGELFF'](62)\n",
      "Writing target_cdr3b seqs to /home/hym/trunk/TCRBert/output/exp1/shomuradova.cdr3b_16.fa\n",
      "Generating Seq2Logo: /home/hym/trunk/seq2logo/Seq2Logo.py -I 1 -f /home/hym/trunk/TCRBert/output/exp1/shomuradova.cdr3b_16.fa -o /home/hym/trunk/TCRBert/output/exp1/shomuradova.cdr3b_16_logo --format PDF\n",
      "inputType: FASTA\n",
      "\n",
      "Target CDR3b sequences for 11: ['CASSLEIEAFF' 'CASSPDIACTF' 'CASSPDIEAFF' 'CASSPDIVAFF' 'CASSLDIEAFF'\n",
      " 'CASSPDIEQYF' 'CASSSDIEAFF' 'CASSTDIEAFF' 'CASSPDIQAFF' 'CASSWDIEAFF'\n",
      " 'CASSQDIEQYF' 'CASSQDIEAFF' 'CASSADVEAFF' 'CASTQDIEAFF' 'CASSPDIEDFF'\n",
      " 'CASGPDLGYTF' 'CASRRGFEQYF' 'CASSADIQQYF' 'CASSLDIETYF' 'CASSSDIQQFF'\n",
      " 'CASSPEIEAFF' 'CANRDTDTQYF' 'CASSDSYGYTF' 'CASSPEDTQYF' 'CASSVDIEAFF'\n",
      " 'CASSPDIEQFF' 'CASSPDGEQYF' 'CASSADIEQFF' 'CASSPDSEQYF' 'CASSDDIEAFF'\n",
      " 'CASSLDVEQYF' 'CASSLDSEQFF' 'CASSLDILAFF' 'CASSSDIEQFF' 'CASSPDITQYF'\n",
      " 'CASSNSYGYTF' 'CASTRDIEAFF' 'CASSLGDTQYF' 'CASSLVETQYF'](39)\n",
      "Writing target_cdr3b seqs to /home/hym/trunk/TCRBert/output/exp1/shomuradova.cdr3b_11.fa\n",
      "Generating Seq2Logo: /home/hym/trunk/seq2logo/Seq2Logo.py -I 1 -f /home/hym/trunk/TCRBert/output/exp1/shomuradova.cdr3b_11.fa -o /home/hym/trunk/TCRBert/output/exp1/shomuradova.cdr3b_11_logo --format PDF\n",
      "inputType: FASTA\n",
      "\n"
     ]
    }
   ],
   "source": [
    "import numpy as np\n",
    "from tcrbert.dataset import CN\n",
    "from tcrbert.bioseq import write_fa\n",
    "\n",
    "\n",
    "for cur_len, cur_indices in target_index_map.items():\n",
    "    seqs = sh_df[CN.cdr3b].values[cur_indices]\n",
    "    print('Target CDR3b sequences for %s: %s(%s)' % (cur_len, seqs, len(seqs)))\n",
    "    fn_fa = '%s/%s/%s.cdr3b_%s.fa' % (outdir, exp_key, sh_ds.name, cur_len)\n",
    "    print('Writing target_cdr3b seqs to %s' % fn_fa)\n",
    "    write_fa(fn_fa, seqs)\n",
    "    \n",
    "    fn_logo = fn_fa.replace('.fa', '_logo')\n",
    "    cmd = '%s -I 1 -f %s -o %s --format PDF' % (seq2logo, fn_fa, fn_logo)\n",
    "    print('Generating Seq2Logo: %s' % cmd)\n",
    "    !$cmd\n",
    "    \n",
    "# Show seq logo for MSA of cdr3b seqs\n",
    "# image = img.imread(fn_fa.replace('fa', 'jpeg'))\n",
    "# plt.imshow(image)"
   ]
  },
  {
   "cell_type": "markdown",
   "metadata": {},
   "source": [
    "##### Attention weights"
   ]
  },
  {
   "cell_type": "code",
   "execution_count": 164,
   "metadata": {
    "scrolled": false
   },
   "outputs": [
    {
     "name": "stdout",
     "output_type": "stream",
     "text": [
      "Populating the interactive namespace from numpy and matplotlib\n",
      "attentions.shape: (12, 610, 12, 40, 40)\n",
      "Current attns for 13: [0.01643374 0.01618483 0.01511986 0.02533049 0.01850352 0.01619732\n",
      " 0.02031346 0.01818909 0.02093069 0.02580083 0.02896048 0.02805906\n",
      " 0.03447687 0.03893697 0.04397228 0.04865679 0.04153173 0.03341786\n",
      " 0.03399991 0.03015553 0.0324808  0.02483021]\n",
      "Current attns for 16: [0.01615029 0.01575572 0.01507342 0.02620301 0.01740889 0.01676265\n",
      " 0.02014595 0.01809091 0.01943124 0.02402712 0.02206711 0.02278116\n",
      " 0.02781942 0.04411919 0.03942972 0.04424402 0.0399127  0.04292218\n",
      " 0.03710573 0.03339493 0.03230027 0.0273747  0.0244459  0.02751078\n",
      " 0.02266816]\n",
      "Current attns for 11: [0.01634049 0.01784765 0.01617169 0.02543226 0.0187478  0.01719312\n",
      " 0.02091213 0.01858995 0.02114859 0.02412    0.02802869 0.02511326\n",
      " 0.03023196 0.04010335 0.0490456  0.04375431 0.04716745 0.04065299\n",
      " 0.03837138 0.02809359]\n"
     ]
    },
    {
     "data": {
      "image/png": "[encoded data removed]",
      "text/plain": [
       "<Figure size 504x864 with 3 Axes>"
      ]
     },
     "metadata": {
      "needs_background": "light"
     },
     "output_type": "display_data"
    }
   ],
   "source": [
    "%pylab inline\n",
    "\n",
    "# n_layers = model.config.num_hidden_layers\n",
    "# n_data = len(eval_ds)\n",
    "# n_heads = model.config.num_attention_heads\n",
    "# max_len = eval_ds.max_len\n",
    "\n",
    "epitope_len = len(epitope)\n",
    "\n",
    "attentions = eval_recoder.result_map['attentions']\n",
    "# attentions.shape: (n_layers, n_data, n_heads, max_len, max_len)\n",
    "print('attentions.shape: %s' % str(attentions.shape))\n",
    "\n",
    "# target_attn_map = OrderedDict()\n",
    "\n",
    "fig, axes = plt.subplots(nrows=3, ncols=1)\n",
    "fig.set_figwidth(7)\n",
    "fig.set_figheight(12)\n",
    "plt.tight_layout(h_pad=3, w_pad=3)\n",
    "\n",
    "for i, (cur_len, cur_indices) in enumerate(target_index_map.items()):\n",
    "    attns = attentions[:, cur_indices]\n",
    "    sent_len = epitope_len + cur_len\n",
    "    \n",
    "    # Position-wise marginal attentions by mean\n",
    "    attns = np.mean(attns, axis=(0, 1, 2, 3))[1:sent_len+1]\n",
    "    print('Current attns for %s: %s' % (cur_len, attns))\n",
    "    \n",
    "    ax = pd.Series(attns).plot(kind='bar', ax=axes[i], rot=0)\n",
    "    ax.set_title('Positional attention weights for CDR3b seq length %s' % cur_len)\n",
    "\n",
    "    ticks = list(epitope) + list(range(1, cur_len + 1))\n",
    "    mark_ratio = 0.1\n",
    "    mark_pos = []\n",
    "\n",
    "    for rank, pos in enumerate(np.argsort(attns[:epitope_len])[::-1]):\n",
    "        if rank < (epitope_len*mark_ratio):\n",
    "            ticks[pos] = '%s\\n•' % (ticks[pos])\n",
    "            mark_pos.append(pos)\n",
    "\n",
    "    for rank, pos in enumerate(np.argsort(attns[epitope_len:])[::-1]):\n",
    "        if rank < (tcr_len*mark_ratio):\n",
    "            ticks[epitope_len+pos] = '%s\\n•' % (ticks[epitope_len+pos])\n",
    "            mark_pos.append(epitope_len+pos)\n",
    "\n",
    "    ax.set_xticklabels(ticks) \n",
    "    for i, tick in enumerate(ax.get_xticklabels()):\n",
    "        if i < epitope_len:\n",
    "            tick.set_color('green')\n",
    "        else:\n",
    "            tick.set_color('black')\n",
    "        if i in mark_pos:\n",
    "            tick.set_color('darkred')"
   ]
  },
  {
   "cell_type": "markdown",
   "metadata": {},
   "source": [
    "- 위 barplot에서 보는 바와 같이 YLQPRTFLL 에피토프의 4번 위치의 P에 높은 attention 가중치가 나왔다. 이는 TCR-epitope 상호작용에 있어서 4번 위치의 P가 높은 기여를 한다는 것을 보여 준다.\n",
    "- Spike 단백질에서의 P272L 변이(YLQPRTFLL 에피토프의 4번 아미노산 위치)는 유럽에서의 'second pandemic wave'와 매우 밀접한 관련이 있는 거으로 알려져 있다.\n",
    "- 몇달 전에 Dolton et al{Garry Dolton:2021}은 COVID-19에서 완치된 환자 코호트에서의 CD8 T-cell들이 P272L variant에 면역 대응을 하지 못했다는 것을 실험적으로 증명하였다. 또한 현재 승인된 백신으로 면역화된 개인들로부터 유도된 CD8 T-cell들이 P272 mutant를 제대로 인지하지 못한다는 것을 알아 냈다(https://www.news-medical.net/news/20210629/Widespread-SARS-CoV-2-mutation-escapes-vaccine-and-infection-induced-CD8-T-cell-responses.aspx).\n",
    "> The spike protein mediates the initial stage of the SARS-CoV-2 infection process and is the structure that currently-approved COVID-19 vaccines have been based on.  \n",
    "The spike mutation – P272L – has so far arisen in five different SARS-CoV-2 lineages, including the B.1.177 lineage that was associated with a second pandemic wave in Europe.\n",
    "Now, a team from Cardiff University, Cardiff University School of Medicine, the University of Oxford, and the COVID-19 Genomics UK consortium have shown that CD8 T-cells from a cohort of convalescent patients that comprised more than 120 different T cell receptors (TCRs) failed to respond to the P272L variant.\n",
    "Furthermore, sizeable populations of CD8 T-cells from individuals immunized with the currently approved COVID-19  vaccines failed to bind to a P272L reagent.\n",
    "\n",
    "- 또한, TCR CDR3b 서열에서 attention 가중치가 상대적으로 높은 위치는 CDR3b 서열의 길이에 따라 약간 차이가 있지만 중간 부위인 5-8번사이에 있다. 아마도 이 위치의 TCR 아미노산 잔기들이 에피토프 펩타이드의 4번 위치의 P와 상대적으로 높은 상호작용을 하여 TCR 분자의 epitope recognition에 유의한 기여를 할 것으로 판단된다."
   ]
  },
  {
   "cell_type": "markdown",
   "metadata": {},
   "source": [
    "### ImmuneCODE\n",
    "\n",
    "-  The dataset contained 718 COVID-19 S-protein269-277-specific TCRs from the ImmuneRACE study launched by Adaptive Biotechnologies and Microsoft (https://immunerace.adaptivebiotech.com, June 10, 2020 dataset, from hereon referred to as ImmuneCODE dataset"
   ]
  },
  {
   "cell_type": "markdown",
   "metadata": {},
   "source": [
    "#### Loading eval dataset"
   ]
  },
  {
   "cell_type": "code",
   "execution_count": 165,
   "metadata": {},
   "outputs": [
    {
     "name": "stdout",
     "output_type": "stream",
     "text": [
      "immunecode\n",
      "len(im_ds): 742, duplicated: 0\n",
      "After removing duplicates, len(im_ds): 718\n",
      "0    390\n",
      "1    328\n",
      "Name: label, dtype: int64\n"
     ]
    }
   ],
   "source": [
    "\n",
    "im_ds = TCREpitopeSentenceDataset.from_key('immunecode')\n",
    "print(im_ds.name)\n",
    "print('len(im_ds): %s, duplicated: %s' % (len(im_ds), np.count_nonzero(im_ds.df_enc.index.duplicated())))\n",
    "\n",
    "# Remove duplicated CDR3beta seqs with Shomuradova\n",
    "im_ds.df_enc = im_ds.df_enc[\n",
    "        im_ds.df_enc[CN.cdr3b].map(lambda seq: seq not in sh_df[CN.cdr3b].values)\n",
    "]\n",
    "print('After removing duplicates, len(im_ds): %s' % len(im_ds))\n",
    "\n",
    "im_df = im_ds.df_enc\n",
    "print(im_df[CN.label].value_counts())"
   ]
  },
  {
   "cell_type": "markdown",
   "metadata": {},
   "source": [
    "#### Evaluation performance"
   ]
  },
  {
   "cell_type": "code",
   "execution_count": 166,
   "metadata": {},
   "outputs": [
    {
     "name": "stdout",
     "output_type": "stream",
     "text": [
      "Populating the interactive namespace from numpy and matplotlib\n",
      "2021-10-26 22:15:36 [INFO]: ======================\n",
      "2021-10-26 22:15:36 [INFO]: Begin predict...\n",
      "2021-10-26 22:15:36 [INFO]: use_cuda, device: False, cpu\n",
      "2021-10-26 22:15:36 [INFO]: model: BertTCREpitopeModel(\n",
      "  (bert): ProteinBertModel(\n",
      "    (embeddings): ProteinBertEmbeddings(\n",
      "      (word_embeddings): Embedding(30, 768, padding_idx=0)\n",
      "      (position_embeddings): Embedding(8192, 768)\n",
      "      (token_type_embeddings): Embedding(1, 768)\n",
      "      (LayerNorm): LayerNorm()\n",
      "      (dropout): Dropout(p=0.1)\n",
      "    )\n",
      "    (encoder): ProteinBertEncoder(\n",
      "      (layer): ModuleList(\n",
      "        (0): ProteinBertLayer(\n",
      "          (attention): ProteinBertAttention(\n",
      "            (self): ProteinBertSelfAttention(\n",
      "              (query): Linear(in_features=768, out_features=768, bias=True)\n",
      "              (key): Linear(in_features=768, out_features=768, bias=True)\n",
      "              (value): Linear(in_features=768, out_features=768, bias=True)\n",
      "              (dropout): Dropout(p=0.1)\n",
      "            )\n",
      "            (output): ProteinBertSelfOutput(\n",
      "              (dense): Linear(in_features=768, out_features=768, bias=True)\n",
      "              (LayerNorm): LayerNorm()\n",
      "              (dropout): Dropout(p=0.1)\n",
      "            )\n",
      "          )\n",
      "          (intermediate): ProteinBertIntermediate(\n",
      "            (dense): Linear(in_features=768, out_features=3072, bias=True)\n",
      "          )\n",
      "          (output): ProteinBertOutput(\n",
      "            (dense): Linear(in_features=3072, out_features=768, bias=True)\n",
      "            (LayerNorm): LayerNorm()\n",
      "            (dropout): Dropout(p=0.1)\n",
      "          )\n",
      "        )\n",
      "        (1): ProteinBertLayer(\n",
      "          (attention): ProteinBertAttention(\n",
      "            (self): ProteinBertSelfAttention(\n",
      "              (query): Linear(in_features=768, out_features=768, bias=True)\n",
      "              (key): Linear(in_features=768, out_features=768, bias=True)\n",
      "              (value): Linear(in_features=768, out_features=768, bias=True)\n",
      "              (dropout): Dropout(p=0.1)\n",
      "            )\n",
      "            (output): ProteinBertSelfOutput(\n",
      "              (dense): Linear(in_features=768, out_features=768, bias=True)\n",
      "              (LayerNorm): LayerNorm()\n",
      "              (dropout): Dropout(p=0.1)\n",
      "            )\n",
      "          )\n",
      "          (intermediate): ProteinBertIntermediate(\n",
      "            (dense): Linear(in_features=768, out_features=3072, bias=True)\n",
      "          )\n",
      "          (output): ProteinBertOutput(\n",
      "            (dense): Linear(in_features=3072, out_features=768, bias=True)\n",
      "            (LayerNorm): LayerNorm()\n",
      "            (dropout): Dropout(p=0.1)\n",
      "          )\n",
      "        )\n",
      "        (2): ProteinBertLayer(\n",
      "          (attention): ProteinBertAttention(\n",
      "            (self): ProteinBertSelfAttention(\n",
      "              (query): Linear(in_features=768, out_features=768, bias=True)\n",
      "              (key): Linear(in_features=768, out_features=768, bias=True)\n",
      "              (value): Linear(in_features=768, out_features=768, bias=True)\n",
      "              (dropout): Dropout(p=0.1)\n",
      "            )\n",
      "            (output): ProteinBertSelfOutput(\n",
      "              (dense): Linear(in_features=768, out_features=768, bias=True)\n",
      "              (LayerNorm): LayerNorm()\n",
      "              (dropout): Dropout(p=0.1)\n",
      "            )\n",
      "          )\n",
      "          (intermediate): ProteinBertIntermediate(\n",
      "            (dense): Linear(in_features=768, out_features=3072, bias=True)\n",
      "          )\n",
      "          (output): ProteinBertOutput(\n",
      "            (dense): Linear(in_features=3072, out_features=768, bias=True)\n",
      "            (LayerNorm): LayerNorm()\n",
      "            (dropout): Dropout(p=0.1)\n",
      "          )\n",
      "        )\n",
      "        (3): ProteinBertLayer(\n",
      "          (attention): ProteinBertAttention(\n",
      "            (self): ProteinBertSelfAttention(\n",
      "              (query): Linear(in_features=768, out_features=768, bias=True)\n",
      "              (key): Linear(in_features=768, out_features=768, bias=True)\n",
      "              (value): Linear(in_features=768, out_features=768, bias=True)\n",
      "              (dropout): Dropout(p=0.1)\n",
      "            )\n",
      "            (output): ProteinBertSelfOutput(\n",
      "              (dense): Linear(in_features=768, out_features=768, bias=True)\n",
      "              (LayerNorm): LayerNorm()\n",
      "              (dropout): Dropout(p=0.1)\n",
      "            )\n",
      "          )\n",
      "          (intermediate): ProteinBertIntermediate(\n",
      "            (dense): Linear(in_features=768, out_features=3072, bias=True)\n",
      "          )\n",
      "          (output): ProteinBertOutput(\n",
      "            (dense): Linear(in_features=3072, out_features=768, bias=True)\n",
      "            (LayerNorm): LayerNorm()\n",
      "            (dropout): Dropout(p=0.1)\n",
      "          )\n",
      "        )\n",
      "        (4): ProteinBertLayer(\n",
      "          (attention): ProteinBertAttention(\n",
      "            (self): ProteinBertSelfAttention(\n",
      "              (query): Linear(in_features=768, out_features=768, bias=True)\n",
      "              (key): Linear(in_features=768, out_features=768, bias=True)\n",
      "              (value): Linear(in_features=768, out_features=768, bias=True)\n",
      "              (dropout): Dropout(p=0.1)\n",
      "            )\n",
      "            (output): ProteinBertSelfOutput(\n",
      "              (dense): Linear(in_features=768, out_features=768, bias=True)\n",
      "              (LayerNorm): LayerNorm()\n",
      "              (dropout): Dropout(p=0.1)\n",
      "            )\n",
      "          )\n",
      "          (intermediate): ProteinBertIntermediate(\n",
      "            (dense): Linear(in_features=768, out_features=3072, bias=True)\n",
      "          )\n",
      "          (output): ProteinBertOutput(\n",
      "            (dense): Linear(in_features=3072, out_features=768, bias=True)\n",
      "            (LayerNorm): LayerNorm()\n",
      "            (dropout): Dropout(p=0.1)\n",
      "          )\n",
      "        )\n",
      "        (5): ProteinBertLayer(\n",
      "          (attention): ProteinBertAttention(\n",
      "            (self): ProteinBertSelfAttention(\n",
      "              (query): Linear(in_features=768, out_features=768, bias=True)\n",
      "              (key): Linear(in_features=768, out_features=768, bias=True)\n",
      "              (value): Linear(in_features=768, out_features=768, bias=True)\n",
      "              (dropout): Dropout(p=0.1)\n",
      "            )\n",
      "            (output): ProteinBertSelfOutput(\n",
      "              (dense): Linear(in_features=768, out_features=768, bias=True)\n",
      "              (LayerNorm): LayerNorm()\n",
      "              (dropout): Dropout(p=0.1)\n",
      "            )\n",
      "          )\n",
      "          (intermediate): ProteinBertIntermediate(\n",
      "            (dense): Linear(in_features=768, out_features=3072, bias=True)\n",
      "          )\n",
      "          (output): ProteinBertOutput(\n",
      "            (dense): Linear(in_features=3072, out_features=768, bias=True)\n",
      "            (LayerNorm): LayerNorm()\n",
      "            (dropout): Dropout(p=0.1)\n",
      "          )\n",
      "        )\n",
      "        (6): ProteinBertLayer(\n",
      "          (attention): ProteinBertAttention(\n",
      "            (self): ProteinBertSelfAttention(\n",
      "              (query): Linear(in_features=768, out_features=768, bias=True)\n",
      "              (key): Linear(in_features=768, out_features=768, bias=True)\n",
      "              (value): Linear(in_features=768, out_features=768, bias=True)\n",
      "              (dropout): Dropout(p=0.1)\n",
      "            )\n",
      "            (output): ProteinBertSelfOutput(\n",
      "              (dense): Linear(in_features=768, out_features=768, bias=True)\n",
      "              (LayerNorm): LayerNorm()\n",
      "              (dropout): Dropout(p=0.1)\n",
      "            )\n",
      "          )\n",
      "          (intermediate): ProteinBertIntermediate(\n",
      "            (dense): Linear(in_features=768, out_features=3072, bias=True)\n",
      "          )\n",
      "          (output): ProteinBertOutput(\n",
      "            (dense): Linear(in_features=3072, out_features=768, bias=True)\n",
      "            (LayerNorm): LayerNorm()\n",
      "            (dropout): Dropout(p=0.1)\n",
      "          )\n",
      "        )\n",
      "        (7): ProteinBertLayer(\n",
      "          (attention): ProteinBertAttention(\n",
      "            (self): ProteinBertSelfAttention(\n",
      "              (query): Linear(in_features=768, out_features=768, bias=True)\n",
      "              (key): Linear(in_features=768, out_features=768, bias=True)\n",
      "              (value): Linear(in_features=768, out_features=768, bias=True)\n",
      "              (dropout): Dropout(p=0.1)\n",
      "            )\n",
      "            (output): ProteinBertSelfOutput(\n",
      "              (dense): Linear(in_features=768, out_features=768, bias=True)\n",
      "              (LayerNorm): LayerNorm()\n",
      "              (dropout): Dropout(p=0.1)\n",
      "            )\n",
      "          )\n",
      "          (intermediate): ProteinBertIntermediate(\n",
      "            (dense): Linear(in_features=768, out_features=3072, bias=True)\n",
      "          )\n",
      "          (output): ProteinBertOutput(\n",
      "            (dense): Linear(in_features=3072, out_features=768, bias=True)\n",
      "            (LayerNorm): LayerNorm()\n",
      "            (dropout): Dropout(p=0.1)\n",
      "          )\n",
      "        )\n",
      "        (8): ProteinBertLayer(\n",
      "          (attention): ProteinBertAttention(\n",
      "            (self): ProteinBertSelfAttention(\n",
      "              (query): Linear(in_features=768, out_features=768, bias=True)\n",
      "              (key): Linear(in_features=768, out_features=768, bias=True)\n",
      "              (value): Linear(in_features=768, out_features=768, bias=True)\n",
      "              (dropout): Dropout(p=0.1)\n",
      "            )\n",
      "            (output): ProteinBertSelfOutput(\n",
      "              (dense): Linear(in_features=768, out_features=768, bias=True)\n",
      "              (LayerNorm): LayerNorm()\n",
      "              (dropout): Dropout(p=0.1)\n",
      "            )\n",
      "          )\n",
      "          (intermediate): ProteinBertIntermediate(\n",
      "            (dense): Linear(in_features=768, out_features=3072, bias=True)\n",
      "          )\n",
      "          (output): ProteinBertOutput(\n",
      "            (dense): Linear(in_features=3072, out_features=768, bias=True)\n",
      "            (LayerNorm): LayerNorm()\n",
      "            (dropout): Dropout(p=0.1)\n",
      "          )\n",
      "        )\n",
      "        (9): ProteinBertLayer(\n",
      "          (attention): ProteinBertAttention(\n",
      "            (self): ProteinBertSelfAttention(\n",
      "              (query): Linear(in_features=768, out_features=768, bias=True)\n",
      "              (key): Linear(in_features=768, out_features=768, bias=True)\n",
      "              (value): Linear(in_features=768, out_features=768, bias=True)\n",
      "              (dropout): Dropout(p=0.1)\n",
      "            )\n",
      "            (output): ProteinBertSelfOutput(\n",
      "              (dense): Linear(in_features=768, out_features=768, bias=True)\n",
      "              (LayerNorm): LayerNorm()\n",
      "              (dropout): Dropout(p=0.1)\n",
      "            )\n",
      "          )\n",
      "          (intermediate): ProteinBertIntermediate(\n",
      "            (dense): Linear(in_features=768, out_features=3072, bias=True)\n",
      "          )\n",
      "          (output): ProteinBertOutput(\n",
      "            (dense): Linear(in_features=3072, out_features=768, bias=True)\n",
      "            (LayerNorm): LayerNorm()\n",
      "            (dropout): Dropout(p=0.1)\n",
      "          )\n",
      "        )\n",
      "        (10): ProteinBertLayer(\n",
      "          (attention): ProteinBertAttention(\n",
      "            (self): ProteinBertSelfAttention(\n",
      "              (query): Linear(in_features=768, out_features=768, bias=True)\n",
      "              (key): Linear(in_features=768, out_features=768, bias=True)\n",
      "              (value): Linear(in_features=768, out_features=768, bias=True)\n",
      "              (dropout): Dropout(p=0.1)\n",
      "            )\n",
      "            (output): ProteinBertSelfOutput(\n",
      "              (dense): Linear(in_features=768, out_features=768, bias=True)\n",
      "              (LayerNorm): LayerNorm()\n",
      "              (dropout): Dropout(p=0.1)\n",
      "            )\n",
      "          )\n",
      "          (intermediate): ProteinBertIntermediate(\n",
      "            (dense): Linear(in_features=768, out_features=3072, bias=True)\n",
      "          )\n",
      "          (output): ProteinBertOutput(\n",
      "            (dense): Linear(in_features=3072, out_features=768, bias=True)\n",
      "            (LayerNorm): LayerNorm()\n",
      "            (dropout): Dropout(p=0.1)\n",
      "          )\n",
      "        )\n",
      "        (11): ProteinBertLayer(\n",
      "          (attention): ProteinBertAttention(\n",
      "            (self): ProteinBertSelfAttention(\n",
      "              (query): Linear(in_features=768, out_features=768, bias=True)\n",
      "              (key): Linear(in_features=768, out_features=768, bias=True)\n",
      "              (value): Linear(in_features=768, out_features=768, bias=True)\n",
      "              (dropout): Dropout(p=0.1)\n",
      "            )\n",
      "            (output): ProteinBertSelfOutput(\n",
      "              (dense): Linear(in_features=768, out_features=768, bias=True)\n",
      "              (LayerNorm): LayerNorm()\n",
      "              (dropout): Dropout(p=0.1)\n",
      "            )\n",
      "          )\n",
      "          (intermediate): ProteinBertIntermediate(\n",
      "            (dense): Linear(in_features=768, out_features=3072, bias=True)\n",
      "          )\n",
      "          (output): ProteinBertOutput(\n",
      "            (dense): Linear(in_features=3072, out_features=768, bias=True)\n",
      "            (LayerNorm): LayerNorm()\n",
      "            (dropout): Dropout(p=0.1)\n",
      "          )\n",
      "        )\n",
      "      )\n",
      "    )\n",
      "    (pooler): ProteinBertPooler(\n",
      "      (dense): Linear(in_features=768, out_features=768, bias=True)\n",
      "      (activation): Tanh()\n",
      "    )\n",
      "  )\n",
      "  (classifier): SimpleMLP(\n",
      "    (main): Sequential(\n",
      "      (0): Linear(in_features=768, out_features=512, bias=True)\n",
      "      (1): ReLU()\n",
      "      (2): Dropout(p=0.0, inplace)\n",
      "      (3): Linear(in_features=512, out_features=2, bias=True)\n",
      "    )\n",
      "  )\n",
      ")\n"
     ]
    },
    {
     "name": "stdout",
     "output_type": "stream",
     "text": [
      "2021-10-26 22:15:36 [INFO]: n_data: 718\n",
      "2021-10-26 22:15:36 [INFO]: batch_size: 718\n",
      "2021-10-26 22:15:36 [INFO]: [PredResultRecoder]: on_predict_begin...\n",
      "2021-10-26 22:15:36 [INFO]: Begin 0/1 prediction batch\n",
      "2021-10-26 22:15:46 [INFO]: End 0/1 prediction batch\n",
      "2021-10-26 22:15:46 [INFO]: [PredResultRecoder]: on_predict_end...\n",
      "2021-10-26 22:15:47 [INFO]: Done to predict...\n",
      "2021-10-26 22:15:47 [INFO]: ======================\n",
      "score_map: OrderedDict([('accuracy', 0.9484679665738162), ('f1', 0.9443609022556392), ('roc_auc', 0.9827900250156348)])\n"
     ]
    },
    {
     "data": {
      "image/png": "[encoded data removed]",
      "text/plain": [
       "<Figure size 432x288 with 1 Axes>"
      ]
     },
     "metadata": {
      "needs_background": "light"
     },
     "output_type": "display_data"
    }
   ],
   "source": [
    "%pylab inline\n",
    "\n",
    "from sklearn.metrics import roc_curve, auc\n",
    "\n",
    "data_loader = DataLoader(im_ds, batch_size=len(im_ds), shuffle=False, num_workers=2)\n",
    "model.predict(data_loader=data_loader, metrics=metrics)\n",
    "\n",
    "input_labels  = np.array(eval_recoder.result_map['input_labels'])\n",
    "output_labels = np.array(eval_recoder.result_map['output_labels'])\n",
    "output_probs  = np.array(eval_recoder.result_map['output_probs'])\n",
    "\n",
    "fpr, tpr, _ = roc_curve(input_labels, output_probs)\n",
    "score = auc(fpr, tpr)\n",
    "plt.plot(fpr, tpr, color='darkorange', label='ROC curve (AUC = %0.2f)' % score)\n",
    "plt.plot([0, 1], [0, 1], color='navy', linestyle='--')\n",
    "plt.xlim([0.0, 1.0])\n",
    "plt.ylim([0.0, 1.05])\n",
    "plt.xlabel('False Positive Rate')\n",
    "plt.ylabel('True Positive Rate')\n",
    "plt.legend(loc=\"lower right\")\n",
    "\n",
    "print('score_map: %s' % eval_recoder.result_map['score_map'])"
   ]
  },
  {
   "cell_type": "markdown",
   "metadata": {},
   "source": [
    "#### Selecting target CDR3b sequences by lengths\n",
    "\n",
    "- Model에 의해 Positive로 분류된 CDR3beta 서열 중 갯수가 많은 길이를 선택한다.#### CDR3beta sequence length distribution"
   ]
  },
  {
   "cell_type": "code",
   "execution_count": 167,
   "metadata": {},
   "outputs": [
    {
     "name": "stdout",
     "output_type": "stream",
     "text": [
      "Populating the interactive namespace from numpy and matplotlib\n",
      "cum_ratio: 160/337=0.47477744807121663\n",
      "target_indices for 13: [  0   5   9  11  16  17  18  19  21  26  27  28  30  32  33  36  40  41\n",
      "  42  43  44  45  46  47  48  55  56  60  63  65  68  69  71  74  75  77\n",
      "  84  85  86  87  90  93  94 100 105 106 107 109 110 111 113 114 115 118\n",
      " 126 127 129 131 133 135 138 140 145 147 148 151 154 156 157 163 166 167\n",
      " 168 170 172 174 175 176 177 181 183 184 188 190 191 192 194 196 199 200\n",
      " 201 202 203 204 207 208 209 210 211 216 219 220 222 223 224 226 230 231\n",
      " 233 234 235 239 240 247 254 255 258 259 260 261 263 264 265 266 269 280\n",
      " 281 282 283 286 289 290 292 293 295 297 298 299 304 306 308 310 312 314\n",
      " 317 318 319 320 321 323 324 325 326 327 357 406 408 522 551 648](160)\n",
      "cum_ratio: 220/337=0.6528189910979229\n",
      "target_indices for 14: [  7  22  29  37  39  49  52  53  54  78  82  83  88 101 102 104 117 120\n",
      " 121 128 134 136 142 144 150 152 159 160 161 164 178 179 185 186 193 205\n",
      " 212 213 229 236 238 242 248 273 279 285 287 294 296 300 303 384 485 499\n",
      " 505 585 632 682 701 705](60)\n",
      "cum_ratio: 278/337=0.8249258160237388\n",
      "target_indices for 16: [  3  12  13  14  24  25  35  38  58  61  62  64  73  79  80  89  91  92\n",
      "  95  96  98 116 122 124 125 130 137 139 141 149 153 158 162 165 182 197\n",
      " 198 206 214 217 225 228 232 237 241 245 250 271 275 277 288 302 305 307\n",
      " 311 316 543 699](58)\n",
      "cum_ratio: 296/337=0.8783382789317508\n",
      "cum_ratio: 312/337=0.9258160237388724\n",
      "cum_ratio: 322/337=0.9554896142433235\n",
      "cum_ratio: 330/337=0.9792284866468842\n",
      "cum_ratio: 333/337=0.9881305637982196\n",
      "cum_ratio: 335/337=0.9940652818991098\n",
      "cum_ratio: 337/337=1.0\n"
     ]
    },
    {
     "data": {
      "image/png": "[encoded data removed]",
      "text/plain": [
       "<Figure size 432x288 with 1 Axes>"
      ]
     },
     "metadata": {
      "needs_background": "light"
     },
     "output_type": "display_data"
    }
   ],
   "source": [
    "%pylab inline\n",
    "\n",
    "import matplotlib.pyplot as plt\n",
    "import matplotlib.image as image\n",
    "\n",
    "import seaborn as sns\n",
    "from collections import Counter, OrderedDict\n",
    "\n",
    "pos_indices = np.where(output_labels == 1)[0]\n",
    "# print('pos_indices: %s(%s)' % (pos_indices, str(pos_indices.shape)))\n",
    "pos_cdr3b = im_df[CN.cdr3b].values[pos_indices]\n",
    "\n",
    "##########################################\n",
    "lens, cnts = zip(*sorted(Counter(map(lambda x: len(x), pos_cdr3b)).items()))\n",
    "lens = np.array(lens)\n",
    "cnts = np.array(cnts)\n",
    "ax = sns.barplot(x=lens, y=cnts, color='blue')\n",
    "ax.set_title('Length distribution of postives')\n",
    "ax.set_xlabel('Length')\n",
    "\n",
    "# Select target indices by cdr3b sequence lenghts\n",
    "target_index_map = OrderedDict()\n",
    "order = np.argsort(cnts)[::-1]\n",
    "cum_cnt = 0\n",
    "for cur_len, cur_cnt in zip(lens[order], cnts[order]):\n",
    "    cum_cnt += cur_cnt\n",
    "    cum_ratio = cum_cnt/pos_indices.shape[0]\n",
    "    print('cum_ratio: %s/%s=%s' % (cum_cnt, pos_indices.shape[0], cum_ratio))\n",
    "    if cum_ratio < 0.85:\n",
    "        target_indices = np.where((output_labels == 1) & (im_df[CN.cdr3b].map(lambda x: len(x) == cur_len)))[0]\n",
    "        print('target_indices for %s: %s(%s)' % (cur_len, target_indices, target_indices.shape[0]))\n",
    "        target_index_map[cur_len] = target_indices\n"
   ]
  },
  {
   "cell_type": "markdown",
   "metadata": {},
   "source": [
    "- Length distribution\n",
    "    - Positive의 경우, 대부분의 서열 길이는 13이고 뒤를 이어 14, 16에 몰려 있다\n",
    "    - Negative의 경우, 대부분 14, 15이고 뒤를 이어 13, 17에 몰려 있다 "
   ]
  },
  {
   "cell_type": "markdown",
   "metadata": {},
   "source": [
    "##### Generating SeqLogos for target CDR3b sequences"
   ]
  },
  {
   "cell_type": "code",
   "execution_count": 168,
   "metadata": {},
   "outputs": [
    {
     "name": "stdout",
     "output_type": "stream",
     "text": [
      "Target CDR3b sequences for 13: ['CAKGLANTGELFF' 'CAGQESNTGELFF' 'CATQDTNTGELFF' 'CASSDVDSGELFF'\n",
      " 'CATGDQNTGELFF' 'CASQSQNTGELFF' 'CAVKEQNTGELFF' 'CASSRQNTGELFF'\n",
      " 'CAGGQANTGELFF' 'CASQERNTGELFF' 'CALSDANTGELFF' 'CASTNLNTGELFF'\n",
      " 'CATENLNTGELFF' 'CATGTANTGELFF' 'CAYQGTNTGELFF' 'CASLGQNTGELFF'\n",
      " 'CASEEANTGELFF' 'CATQDPNTGELFF' 'CARAEENTGELFF' 'CARQGLNTGELFF'\n",
      " 'CASSDRNTGELFF' 'CASSELDTGELFF' 'CASSDWDSLTQYF' 'CARGQSNTGELFF'\n",
      " 'CATQVLDTGELFF' 'CAHHELNTGELFF' 'CASQTLNTGELFF' 'CAGGQLNTGELFF'\n",
      " 'CATQEVNTGELFF' 'CATQVLNTGELFF' 'CASTELASGEQFF' 'CATQESNTGELFF'\n",
      " 'CASTYTNTGELFF' 'CASSSANTGELFF' 'CATTELNTGELFF' 'CASTEGNTGELFF'\n",
      " 'CASSPGNSGELFF' 'CASQELNTGELFF' 'CAIQEANTGELFF' 'CASSPGNTGELFF'\n",
      " 'CASQEQNTGELFF' 'CATQDSNTGELFF' 'CASSEQNTGELFF' 'CASQTGNTGELFF'\n",
      " 'CASSLQNTGELFF' 'CATSDGTDLGYTF' 'CASSDQNTGELFF' 'CANQNTNTGELFF'\n",
      " 'CAGSRTGSNEQFF' 'CASLDLNTGELFF' 'CATQYANTGELFF' 'CASSPQNSLEQYF'\n",
      " 'CALGTSNTGELFF' 'CATSDPNSLEAFF' 'CASSPGLGGEEFF' 'CASTELNTGELFF'\n",
      " 'CATGEVNTGELFF' 'CATGDLNTGELFF' 'CASGTENTGELFF' 'CASQFLNTGELFF'\n",
      " 'CASSDINTGELFF' 'CATQSPNTGELFF' 'CARPDQNTGELFF' 'CSAKLANTGELFF'\n",
      " 'CSFGLANTGELFF' 'CASMTVNTGELFF' 'CASDDANTGELFF' 'CASSQQNTGELFF'\n",
      " 'CASFGSNTGELFF' 'CASGAANTGELFF' 'CASGQPNTGELFF' 'CASCEGNTGELFF'\n",
      " 'CATGSENTGELFF' 'CASQNTNTGELFF' 'CATGQMNTGELFF' 'CAVGSDNTGELFF'\n",
      " 'CASQYMNTGELFF' 'CASIDTNTGELFF' 'CASSSINTGELFF' 'CASFEGNTGELFF'\n",
      " 'CASGDLNTGELFF' 'CASSDNSPLELFF' 'CSVELQGEETQYF' 'CSVEEDRDDEQYF'\n",
      " 'CASRPLNTGELFF' 'CATQTLNTGELFF' 'CASTDSNSGELFF' 'CASIELNTGELFF'\n",
      " 'CATGEANTGELFF' 'CAGQGANTGELFF' 'CATSNLDTGELFF' 'CASSESNSLKAFF'\n",
      " 'CASSDIDSGELFF' 'CASMDGNTGELFF' 'CASQETNTGELFF' 'CASPEGNTGELFF'\n",
      " 'CASCEVNTGELFF' 'CASKEENTGELFF' 'CASQDPNTGELFF' 'CASQEGNTGELFF'\n",
      " 'CAPSSPNTGELFF' 'CASMNQNTGELFF' 'CATSSGRELGYTF' 'CATPDRNTGELFF'\n",
      " 'CAGSDQNTGELFF' 'CASTSLLAGELFF' 'CATQDQNTGELFF' 'CASSSPNTGELFF'\n",
      " 'CAIGTLNTGELFF' 'CASTILNTGELFF' 'CATQDLNTGELFF' 'CASGGENTGELFF'\n",
      " 'CASFQANTGELFF' 'CASIDLDTGELFF' 'CATGELNTGELFF' 'CASSYVDTGELFF'\n",
      " 'CVRGDENTGELFF' 'CATSELNTGELFF' 'CASQQVNTGELFF' 'CASSEGNSLKAFF'\n",
      " 'CASSDVNTGELFF' 'CASGQLNTGELFF' 'CAAGHANTGELFF' 'CAEGGRNTGELFF'\n",
      " 'CASSESNSLEAFF' 'CARADLNTGELFF' 'CASSFTGDEKLFF' 'CAGQDMNTGELFF'\n",
      " 'CASQDTNTGELFF' 'CAISDQNTGELFF' 'CASSLTLNTEAFF' 'CAVGAANTGELFF'\n",
      " 'CSDGQQNSLEAFF' 'CAGQKTNTGELFF' 'CASSDLTTGELFF' 'CASQALDTGELFF'\n",
      " 'CAGQSSNTGELFF' 'CAGQHLNTGELFF' 'CGTEDITSGELFF' 'CAVAEQNTGELFF'\n",
      " 'CAWQAINTGELFF' 'CATQSLNTGELFF' 'CGFGSPNTGELFF' 'CASSNLNTGELFF'\n",
      " 'CAAQGLNTGELFF' 'CASMELNTGELFF' 'CAGEAANTGELFF' 'CACQEANTGELFF'\n",
      " 'CASQTVNTGELFF' 'CASPDGNTGELFF' 'CASSHLNTGELFF' 'CASQQMNTGELFF'\n",
      " 'CASSESSGNEQYF' 'CAEAYSNTGELFF' 'CASSQGDFWEQYF' 'CASSSGLSYEQYF'\n",
      " 'CASSLSANTEAFF' 'CATSREAQETQYF' 'CASSQLRYAEAFF' 'CASSLAGGDGYTF'](160)\n",
      "Writing target_cdr3b seqs to /home/hym/trunk/TCRBert/output/exp1/immunecode.cdr3b_13.fa\n",
      "Generating Seq2Logo: /home/hym/trunk/seq2logo/Seq2Logo.py -I 1 -f /home/hym/trunk/TCRBert/output/exp1/immunecode.cdr3b_13.fa -o /home/hym/trunk/TCRBert/output/exp1/immunecode.cdr3b_13_logo --format PDF\n",
      "inputType: FASTA\n",
      "\n",
      "Target CDR3b sequences for 14: ['CASILDQNTGELFF' 'CSASGNRNTGELFF' 'CASSLHQGVQPQHF' 'CSADRDLNTGELFF'\n",
      " 'CASSPGQGDYGYTF' 'CSVEEDRNSIEQFF' 'CSAHRDRNTGELFF' 'CASSPTESTDTQYF'\n",
      " 'CATDRDGNTGELFF' 'CASDADLNTGELFF' 'CASEGGPHTDTQYF' 'CSASEDRNTGELFF'\n",
      " 'CAWLRDQNTGELFF' 'CASSPDQNTGELFF' 'CAIPRDANTGELFF' 'CSATRDQNTGELFF'\n",
      " 'CASSPGQGIYGYTF' 'CASSILVSANEQFF' 'CASSPGQGAYGYTF' 'CARARDWNTGELFF'\n",
      " 'CASSEVLSADTQYF' 'CASEWDRNTGELFF' 'CASSEGHRGYGYTF' 'CATSGGQGIHGYTF'\n",
      " 'CAIDSDANTGELFF' 'CSATPDQNTGELFF' 'CASSPTTVGEGYTF' 'CASSLDRNTGELFF'\n",
      " 'CASSIVSSADTQYF' 'CSAPTDGNTGELFF' 'CASSEWVGGDEQYF' 'CASLKDMNTGELFF'\n",
      " 'CAWDRDHNTGELFF' 'CASSQPPGDETQYF' 'CSVDGDPNTGELFF' 'CARAGDPNTGELFF'\n",
      " 'CSAQRDLNTGELFF' 'CASSVNSGAETQYF' 'CATHLDLNTGELFF' 'CASNPDRNTGELFF'\n",
      " 'CSVDLDRNTGELFF' 'CASMGDRNTGELFF' 'CASSEWGDSYEQYF' 'CSAYRDQNTGELFF'\n",
      " 'CSVHRDRNTGELFF' 'CASSVLGLPTEAFF' 'CASSLIGLPTEAFF' 'CAVLSDRNTGELFF'\n",
      " 'CATTRDGNTGELFF' 'CAQVGNANTGELFF' 'CAWTLDRNTGELFF' 'CASSLNRGNTEAFF'\n",
      " 'CASSIGTGTGELFF' 'CASSSGLAGIEQYF' 'CASSLGGFNQPQHF' 'CASSQNIYLNEQFF'\n",
      " 'CASSQGNRGYEQYF' 'CASSLGTSTDTQYF' 'CASSLVSGANVLTF' 'CASRGTSGENEQFF'](60)\n",
      "Writing target_cdr3b seqs to /home/hym/trunk/TCRBert/output/exp1/immunecode.cdr3b_14.fa\n",
      "Generating Seq2Logo: /home/hym/trunk/seq2logo/Seq2Logo.py -I 1 -f /home/hym/trunk/TCRBert/output/exp1/immunecode.cdr3b_14.fa -o /home/hym/trunk/TCRBert/output/exp1/immunecode.cdr3b_14_logo --format PDF\n",
      "inputType: FASTA\n",
      "\n",
      "Target CDR3b sequences for 16: ['CSARDNWAVNTGELFF' 'CALLSQDSLNTGELFF' 'CASTTRDSANTGELFF'\n",
      " 'CSARDPPGANTGELFF' 'CSARDILAANTGELFF' 'CASSEAGTGNTGELFF'\n",
      " 'CASQDRGRKNTGELFF' 'CASSGGQGANTGELFF' 'CASSQDPGFMNTEAFF'\n",
      " 'CASSYSTSGSHNEQFF' 'CSARDGDRVNTGELFF' 'CSARDELAANTGELFF'\n",
      " 'CSARDSWQENTGELFF' 'CSARDQAGWNTGELFF' 'CASSLFAGGNTGELFF'\n",
      " 'CASSVAGALVGNEQFF' 'CSARDWTGMNTGELFF' 'CSARDHHRQNTGELFF'\n",
      " 'CASRGPGQQNTGELFF' 'CSVRDGQGMNTGELFF' 'CASSKLALGNTDTQYF'\n",
      " 'CSARDRPRANTGELFF' 'CASRDRDRQNTGELFF' 'CSARDGRAQNTGELFF'\n",
      " 'CSARDERGWNTGELFF' 'CSARDLSALNTGELFF' 'CSARDSWGTNTGELFF'\n",
      " 'CSARDMGAVNTGELFF' 'CASCSPGTGIPYEQYF' 'CASSQTGTGDYNEQFF'\n",
      " 'CASQGGFTQNTGELFF' 'CSARDQLAANTGELFF' 'CASSQLNGGNTGELFF'\n",
      " 'CSARDNLAANTGELFF' 'CSARDLEGMNTGELFF' 'CSARDYQGMNTGELFF'\n",
      " 'CSARDLLAENTGELFF' 'CASSESGVTYQETQYF' 'CSARTSGAYNTGELFF'\n",
      " 'CASRGPGLAVLYEQYF' 'CASSNNPGLAVETQYF' 'CSARSREGQNTGELFF'\n",
      " 'CACLGARQWNTGELFF' 'CSARDRLAANTGELFF' 'CASSDADRRNTGELFF'\n",
      " 'CASSPRDRENTGELFF' 'CASRDLQAVNTGELFF' 'CASSSPTDYLKNIQYF'\n",
      " 'CASSFSPGTSTDTQYF' 'CSVRPPGTENTGELFF' 'CATQTGFELNTGELFF'\n",
      " 'CSARDEWGTNTGELFF' 'CSARGDREQNTGELFF' 'CASSLGVGGVQETQYF'\n",
      " 'CASSRVMDRGIETQYF' 'CSARDRWHENTGELFF' 'CASSSKTRRNTDEQYF'\n",
      " 'CAWTFLGREASGELFF'](58)\n",
      "Writing target_cdr3b seqs to /home/hym/trunk/TCRBert/output/exp1/immunecode.cdr3b_16.fa\n",
      "Generating Seq2Logo: /home/hym/trunk/seq2logo/Seq2Logo.py -I 1 -f /home/hym/trunk/TCRBert/output/exp1/immunecode.cdr3b_16.fa -o /home/hym/trunk/TCRBert/output/exp1/immunecode.cdr3b_16_logo --format PDF\n",
      "inputType: FASTA\n",
      "\n"
     ]
    }
   ],
   "source": [
    "import numpy as np\n",
    "from tcrbert.dataset import CN\n",
    "from tcrbert.bioseq import write_fa\n",
    "\n",
    "    \n",
    "for cur_len, cur_indices in target_index_map.items():\n",
    "    seqs = im_df[CN.cdr3b].values[cur_indices]\n",
    "    print('Target CDR3b sequences for %s: %s(%s)' % (cur_len, seqs, len(seqs)))\n",
    "    fn_fa = '%s/%s/%s.cdr3b_%s.fa' % (outdir, exp_key, im_ds.name, cur_len)\n",
    "    print('Writing target_cdr3b seqs to %s' % fn_fa)\n",
    "    write_fa(fn_fa, seqs)\n",
    "\n",
    "    fn_logo = fn_fa.replace('.fa', '_logo')\n",
    "    cmd = '%s -I 1 -f %s -o %s --format PDF' % (seq2logo, fn_fa, fn_logo)\n",
    "    print('Generating Seq2Logo: %s' % cmd)\n",
    "    !$cmd\n"
   ]
  },
  {
   "cell_type": "markdown",
   "metadata": {},
   "source": [
    "#### Investigation of attention weights"
   ]
  },
  {
   "cell_type": "code",
   "execution_count": 157,
   "metadata": {},
   "outputs": [
    {
     "name": "stdout",
     "output_type": "stream",
     "text": [
      "Populating the interactive namespace from numpy and matplotlib\n",
      "attentions.shape: (12, 718, 12, 40, 40)\n",
      "Current attns for 13: [0.01630678 0.01613801 0.01512098 0.02522577 0.01851558 0.01629829\n",
      " 0.02041456 0.01825941 0.02079002 0.02608216 0.02811108 0.02789923\n",
      " 0.03508032 0.03850946 0.04396208 0.04873751 0.04107358 0.0334924\n",
      " 0.0340323  0.03055419 0.03295862 0.02484329]\n",
      "Current attns for 14: [0.01691636 0.01579219 0.01506595 0.0244922  0.01811742 0.01655911\n",
      " 0.02009635 0.01797518 0.02025169 0.0232316  0.02521668 0.02977495\n",
      " 0.03149963 0.03937949 0.04025109 0.0436696  0.04712518 0.04287682\n",
      " 0.03323653 0.03407052 0.02859696 0.02776003 0.02307034]\n",
      "Current attns for 16: [0.0161272  0.01577951 0.01493868 0.02566106 0.01749486 0.01673275\n",
      " 0.02000752 0.01790751 0.01934386 0.02318233 0.02239559 0.02363846\n",
      " 0.02733669 0.04140983 0.03949562 0.0435888  0.03881311 0.04322024\n",
      " 0.03894608 0.03375197 0.03373761 0.02654229 0.02398934 0.02749936\n",
      " 0.02230487]\n"
     ]
    },
    {
     "data": {
      "image/png": "[encoded data removed]",
      "text/plain": [
       "<Figure size 504x864 with 3 Axes>"
      ]
     },
     "metadata": {
      "needs_background": "light"
     },
     "output_type": "display_data"
    }
   ],
   "source": [
    "%pylab inline\n",
    "\n",
    "# n_layers = model.config.num_hidden_layers\n",
    "# n_data = len(eval_ds)\n",
    "# n_heads = model.config.num_attention_heads\n",
    "# max_len = eval_ds.max_len\n",
    "\n",
    "epitope_len = len(epitope)\n",
    "\n",
    "attentions = eval_recoder.result_map['attentions']\n",
    "# attentions.shape: (n_layers, n_data, n_heads, max_len, max_len)\n",
    "print('attentions.shape: %s' % str(attentions.shape))\n",
    "\n",
    "# target_attn_map = OrderedDict()\n",
    "\n",
    "fig, axes = plt.subplots(nrows=3, ncols=1)\n",
    "fig.set_figwidth(7)\n",
    "fig.set_figheight(12)\n",
    "plt.tight_layout(h_pad=3, w_pad=3)\n",
    "\n",
    "for i, (cur_len, cur_indices) in enumerate(target_index_map.items()):\n",
    "    attns = attentions[:, cur_indices]\n",
    "    sent_len = epitope_len + cur_len\n",
    "    \n",
    "    # Position-wise marginal attentions by mean\n",
    "    attns = np.mean(attns, axis=(0, 1, 2, 3))[1:sent_len+1]\n",
    "    print('Current attns for %s: %s' % (cur_len, attns))\n",
    "    \n",
    "    ax = pd.Series(attns).plot(kind='bar', ax=axes[i], rot=0)\n",
    "    ax.set_title('Positional attention weights for CDR3b seq length %s' % cur_len)\n",
    "\n",
    "    ticks = list(epitope) + list(range(1, cur_len + 1))\n",
    "    mark_ratio = 0.1\n",
    "    mark_pos = []\n",
    "\n",
    "    for rank, pos in enumerate(np.argsort(attns[:epitope_len])[::-1]):\n",
    "        if rank < (epitope_len*mark_ratio):\n",
    "            ticks[pos] = '%s\\n•' % (ticks[pos])\n",
    "            mark_pos.append(pos)\n",
    "\n",
    "    for rank, pos in enumerate(np.argsort(attns[epitope_len:])[::-1]):\n",
    "        if rank < (tcr_len*mark_ratio):\n",
    "            ticks[epitope_len+pos] = '%s\\n•' % (ticks[epitope_len+pos])\n",
    "            mark_pos.append(epitope_len+pos)\n",
    "\n",
    "    ax.set_xticklabels(ticks) \n",
    "    for i, tick in enumerate(ax.get_xticklabels()):\n",
    "        if i < epitope_len:\n",
    "            tick.set_color('darkgreen')\n",
    "        else:\n",
    "            tick.set_color('black')\n",
    "        if i in mark_pos:\n",
    "            tick.set_color('darkred')\n",
    "    \n"
   ]
  },
  {
   "cell_type": "markdown",
   "metadata": {},
   "source": [
    "- Shomuradova 데이터셋의 결과와 거의 동일하게 일관성있는 결과를 보여준다.\n",
    "- 두 데이터셋의 CDR3 beta 서열들은 서로 중복되지 않으며, 두 MSA를 비교해보면 양끝 위치에서 거의 유사한 motif를 보여주지만 중간 부분은 다른 양상을 보임에도 불구하고 attention weight는 거의 동일하게 일관성있는 결과를 보여 준다.  \n",
    "- TCR 서열에서의 attention 분포를 보더라도 Shomuradova와 거의 비슷하게 중간 부위인 6-9번 위치에서 높은 어텐션 가중치를 갖는다.\n",
    "- 또한, MSA를 기반으로 TCR CDR3beta 서열의 모티프를 살펴보면 6, 7, 8번은 그다지 conserved 되어 있지 않은 것으로 보인다. 이것으로 볼때, 에피토프와 높은 상호작용을 하는 TCR 서열 잔기 위치를 파악하는 데 있어 MSA 기반으로 conserved 모티프로부터 추론하는 방법도 전통적으로 유용하지만 attention weight로부터 유추하는 것도 더욱 심플하고 epitope 서열상의 모티프로 함께 분석할 수 있어 효과적일 수 있다는 것을 알 수 있다."
   ]
  }
 ],
 "metadata": {
  "kernelspec": {
   "display_name": "Python 3",
   "language": "python",
   "name": "python3"
  },
  "language_info": {
   "codemirror_mode": {
    "name": "ipython",
    "version": 3
   },
   "file_extension": ".py",
   "mimetype": "text/x-python",
   "name": "python",
   "nbconvert_exporter": "python",
   "pygments_lexer": "ipython3",
   "version": "3.7.8"
  },
  "toc": {
   "base_numbering": 1,
   "nav_menu": {},
   "number_sections": true,
   "sideBar": true,
   "skip_h1_title": false,
   "title_cell": "Table of Contents",
   "title_sidebar": "Contents",
   "toc_cell": false,
   "toc_position": {},
   "toc_section_display": true,
   "toc_window_display": true
  },
  "varInspector": {
   "cols": {
    "lenName": 16,
    "lenType": 16,
    "lenVar": 40
   },
   "kernels_config": {
    "python": {
     "delete_cmd_postfix": "",
     "delete_cmd_prefix": "del ",
     "library": "var_list.py",
     "varRefreshCmd": "print(var_dic_list())"
    },
    "r": {
     "delete_cmd_postfix": ") ",
     "delete_cmd_prefix": "rm(",
     "library": "var_list.r",
     "varRefreshCmd": "cat(var_dic_list()) "
    }
   },
   "position": {
    "height": "639px",
    "left": "1740px",
    "right": "20px",
    "top": "120px",
    "width": "800px"
   },
   "types_to_exclude": [
    "module",
    "function",
    "builtin_function_or_method",
    "instance",
    "_Feature"
   ],
   "window_display": false
  }
 },
 "nbformat": 4,
 "nbformat_minor": 1
}
