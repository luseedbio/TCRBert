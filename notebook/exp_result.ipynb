{
 "cells": [
  {
   "cell_type": "markdown",
   "metadata": {},
   "source": [
    "# Predicting epitope-specific TCR recognition using pre-trained protein embeddings"
   ]
  },
  {
   "cell_type": "markdown",
   "metadata": {},
   "source": [
    "## Configurations"
   ]
  },
  {
   "cell_type": "code",
   "execution_count": 17,
   "metadata": {},
   "outputs": [],
   "source": [
    "import sys\n",
    "import logging\n",
    "\n",
    "# Logger\n",
    "logger = logging.getLogger('tcrbert')\n",
    "\n",
    "# Paths\n",
    "sys.path.append('/home/hym/TCRBert')\n",
    "sys.path.append('/home/hym/TCRBert/tcrbert')\n",
    "\n",
    "outdir = '../output'"
   ]
  },
  {
   "cell_type": "markdown",
   "metadata": {},
   "source": [
    "## Fine-tunning results"
   ]
  },
  {
   "cell_type": "code",
   "execution_count": 21,
   "metadata": {},
   "outputs": [
    {
     "data": {
      "text/plain": [
       "{'metrics': ['accuracy'],\n",
       " 'train.score': {'loss': [0.6781552154806596,\n",
       "   0.5971099892749062,\n",
       "   0.5263835071008417,\n",
       "   0.45399056884306893,\n",
       "   0.3888420858715154,\n",
       "   0.3154121616595908,\n",
       "   0.27581161298329315,\n",
       "   0.20350860710008234,\n",
       "   0.1716768701053873,\n",
       "   0.1553273776286765,\n",
       "   0.11390917267225965,\n",
       "   0.09667724064445193,\n",
       "   0.0883629109380366,\n",
       "   0.07574388686614701,\n",
       "   0.0597161777977702,\n",
       "   0.057932414420986476,\n",
       "   0.044999376870691776,\n",
       "   0.03564236505263591,\n",
       "   0.038496645037792154,\n",
       "   0.032411213357095854,\n",
       "   0.03040241916322067,\n",
       "   0.02883238064808936,\n",
       "   0.028782874781968473,\n",
       "   0.029396393672339146,\n",
       "   0.03031066255172408,\n",
       "   0.028650511185862596,\n",
       "   0.026492425924332083,\n",
       "   0.02925996044414896,\n",
       "   0.027719512228158456,\n",
       "   0.02371242263389728,\n",
       "   0.024507890991819433,\n",
       "   0.023636227874438975,\n",
       "   0.02500492259506372,\n",
       "   0.027894865014130556,\n",
       "   0.021628560247842835,\n",
       "   0.023489107047738152,\n",
       "   0.020223607282637605,\n",
       "   0.02332119939589425,\n",
       "   0.022873411276318794,\n",
       "   0.021734450413267825,\n",
       "   0.02545447041917168,\n",
       "   0.022510240909560948,\n",
       "   0.018606124702204442,\n",
       "   0.022972173461266145,\n",
       "   0.023178866451393953,\n",
       "   0.019390339577051847,\n",
       "   0.0217014881693817,\n",
       "   0.019348103305489958],\n",
       "  'accuracy': [0.5549681406089634,\n",
       "   0.6556129903637815,\n",
       "   0.7174924627950736,\n",
       "   0.7699553291424336,\n",
       "   0.8134109683259209,\n",
       "   0.8565195931691185,\n",
       "   0.8823224925875242,\n",
       "   0.9168395056448855,\n",
       "   0.9292580753221575,\n",
       "   0.9392194805565058,\n",
       "   0.956145227505987,\n",
       "   0.9639880188733038,\n",
       "   0.966331145227506,\n",
       "   0.9715648698540313,\n",
       "   0.9773879397593797,\n",
       "   0.9793011959744555,\n",
       "   0.9848961897023606,\n",
       "   0.9864860410252024,\n",
       "   0.9870415312464363,\n",
       "   0.9882736771581707,\n",
       "   0.9893120474113353,\n",
       "   0.9897989365948228,\n",
       "   0.9896848985061011,\n",
       "   0.989148563120082,\n",
       "   0.9894679588607594,\n",
       "   0.990590075835329,\n",
       "   0.9916435917721519,\n",
       "   0.9896773256642719,\n",
       "   0.990738414442924,\n",
       "   0.9923358386075949,\n",
       "   0.991495253164557,\n",
       "   0.9924841772151899,\n",
       "   0.9917692118542593,\n",
       "   0.9901031866518416,\n",
       "   0.9931537055251454,\n",
       "   0.9923282657657657,\n",
       "   0.9926668163416582,\n",
       "   0.9922218005188733,\n",
       "   0.9924120124871707,\n",
       "   0.9925336234177216,\n",
       "   0.9920507433857909,\n",
       "   0.9924538858478733,\n",
       "   0.9942490948226708,\n",
       "   0.9927808544303798,\n",
       "   0.9920315885505758,\n",
       "   0.9934160822214619,\n",
       "   0.9931764240506329,\n",
       "   0.9934236550632911]},\n",
       " 'val.score': {'loss': [0.6413246601819992,\n",
       "   0.5976051300764084,\n",
       "   0.5902625024318695,\n",
       "   0.5565344586968421,\n",
       "   0.5689949154853821,\n",
       "   0.7212221264839173,\n",
       "   0.7820134848356247,\n",
       "   0.723547288775444,\n",
       "   0.7496077060699463,\n",
       "   0.7000928729772568,\n",
       "   1.0550810545682907,\n",
       "   1.0139726161956788,\n",
       "   1.069856482744217,\n",
       "   1.0676863580942153,\n",
       "   1.0931425213813781,\n",
       "   1.0688953816890716,\n",
       "   1.0209510028362274,\n",
       "   1.2130019694566727,\n",
       "   1.1039157122373582,\n",
       "   1.1215620398521424,\n",
       "   1.0691253691911697,\n",
       "   1.0905932754278183,\n",
       "   1.3297814100980758,\n",
       "   1.0821606069803238,\n",
       "   1.1542373090982436,\n",
       "   1.1548819482326507,\n",
       "   1.169136369228363,\n",
       "   1.2415487706661223,\n",
       "   1.2153250455856324,\n",
       "   1.2607829034328462,\n",
       "   1.241010409593582,\n",
       "   1.2732708364725114,\n",
       "   1.0156710475683213,\n",
       "   1.048106101155281,\n",
       "   1.1423724085092544,\n",
       "   1.2001380532979966,\n",
       "   1.2044565856456757,\n",
       "   1.149695062637329,\n",
       "   1.1433044224977493,\n",
       "   1.1794457346200944,\n",
       "   1.1461880058050156,\n",
       "   1.1814548790454864,\n",
       "   1.2508911043405533,\n",
       "   1.323626983165741,\n",
       "   1.0984668254852294,\n",
       "   1.3485825777053833,\n",
       "   1.1147113889455795,\n",
       "   1.2930206835269928],\n",
       "  'accuracy': [0.6256114130434782,\n",
       "   0.6754161005434782,\n",
       "   0.6924422554347827,\n",
       "   0.7090098505434782,\n",
       "   0.7023097826086957,\n",
       "   0.6904466711956522,\n",
       "   0.7360139266304347,\n",
       "   0.7432150135869565,\n",
       "   0.7572605298913043,\n",
       "   0.7528957201086957,\n",
       "   0.7420006793478261,\n",
       "   0.7599949048913043,\n",
       "   0.7546535326086957,\n",
       "   0.755859375,\n",
       "   0.7601647418478261,\n",
       "   0.7601137907608695,\n",
       "   0.755859375,\n",
       "   0.7591032608695653,\n",
       "   0.7643851902173913,\n",
       "   0.7742612092391304,\n",
       "   0.7757048233695653,\n",
       "   0.7726647418478261,\n",
       "   0.7689113451086957,\n",
       "   0.7694972826086957,\n",
       "   0.7691830842391305,\n",
       "   0.7720618206521739,\n",
       "   0.7705502717391305,\n",
       "   0.7766389266304348,\n",
       "   0.7728940217391305,\n",
       "   0.7780825407608696,\n",
       "   0.7777683423913043,\n",
       "   0.7759001358695652,\n",
       "   0.7732931385869566,\n",
       "   0.7788722826086957,\n",
       "   0.7747622282608695,\n",
       "   0.7721467391304347,\n",
       "   0.7793733016304347,\n",
       "   0.7842561141304347,\n",
       "   0.7760954483695652,\n",
       "   0.7726987092391304,\n",
       "   0.7734035326086957,\n",
       "   0.7815641983695653,\n",
       "   0.7783542798913043,\n",
       "   0.7741423233695652,\n",
       "   0.7732421875,\n",
       "   0.7813688858695652,\n",
       "   0.7753481657608695,\n",
       "   0.7804262907608696]},\n",
       " 'n_epochs': 100,\n",
       " 'stopped_epoch': 47,\n",
       " 'monitor': 'accuracy',\n",
       " 'best_epoch': 37,\n",
       " 'best_score': 0.7842561141304347,\n",
       " 'best_chk': '../output/exp1.train_0.model_37.chk'}"
      ]
     },
     "metadata": {},
     "output_type": "display_data"
    },
    {
     "data": {
      "text/plain": [
       "{'metrics': ['accuracy'],\n",
       " 'train.score': {'loss': [0.5423330806873061,\n",
       "   0.32110679676973974,\n",
       "   0.18867775149546662,\n",
       "   0.1301959120220952,\n",
       "   0.09384274248082142,\n",
       "   0.08020547214992248,\n",
       "   0.06982230940492001,\n",
       "   0.0633106113051657,\n",
       "   0.05739498662145494,\n",
       "   0.0517647277810248,\n",
       "   0.05078712398452418,\n",
       "   0.04763961792772321,\n",
       "   0.046936739444756855,\n",
       "   0.041343733859581074,\n",
       "   0.040446081526075525,\n",
       "   0.041332919041735014,\n",
       "   0.03832212482222247,\n",
       "   0.03867728100838624,\n",
       "   0.039045743607952224,\n",
       "   0.033992087926606754,\n",
       "   0.03408975286678375,\n",
       "   0.03136349043146671,\n",
       "   0.034342558685593404,\n",
       "   0.03120132179419788,\n",
       "   0.03237344334038071,\n",
       "   0.03193930478376494,\n",
       "   0.028798800950579635,\n",
       "   0.03178571919190951,\n",
       "   0.027688759104681333,\n",
       "   0.027239720906318442,\n",
       "   0.026475667231942997],\n",
       "  'accuracy': [0.7301135279650904,\n",
       "   0.8634849308677434,\n",
       "   0.9255319333444333,\n",
       "   0.9499139098748474,\n",
       "   0.9655987458721833,\n",
       "   0.9707732588591963,\n",
       "   0.9744222791097791,\n",
       "   0.9774478993228993,\n",
       "   0.9788925267440893,\n",
       "   0.9811004967254967,\n",
       "   0.9817980413683539,\n",
       "   0.982671950445388,\n",
       "   0.9834546963453215,\n",
       "   0.9854748116466867,\n",
       "   0.9862369618228993,\n",
       "   0.9854771964146964,\n",
       "   0.9867581420315795,\n",
       "   0.9865298546939172,\n",
       "   0.9866150559509935,\n",
       "   0.9878500405844156,\n",
       "   0.9883688360250861,\n",
       "   0.9892173798423799,\n",
       "   0.98774500239344,\n",
       "   0.9894975900835276,\n",
       "   0.9886870941558441,\n",
       "   0.9890156501484627,\n",
       "   0.9901063563172938,\n",
       "   0.9893073506354757,\n",
       "   0.9904602775696526,\n",
       "   0.9903612012987013,\n",
       "   0.9910448709276835]},\n",
       " 'val.score': {'loss': [0.40934368851897,\n",
       "   0.37326777223255725,\n",
       "   0.340786498668906,\n",
       "   0.34386585357707816,\n",
       "   0.3073318057342783,\n",
       "   0.34960030096691924,\n",
       "   0.2916068821758419,\n",
       "   0.2702125891462549,\n",
       "   0.2847766290817942,\n",
       "   0.27444881215304523,\n",
       "   0.33569065665269826,\n",
       "   0.3272914226566042,\n",
       "   0.3095150389164299,\n",
       "   0.3300725043110259,\n",
       "   0.3127202218422642,\n",
       "   0.29000037042545035,\n",
       "   0.28064737802782613,\n",
       "   0.26820996331123564,\n",
       "   0.2972199193552717,\n",
       "   0.29851545819214415,\n",
       "   0.20071606425108848,\n",
       "   0.4099208371012242,\n",
       "   0.31568486966773285,\n",
       "   0.3127822565374436,\n",
       "   0.29319259352595,\n",
       "   0.25501960288588105,\n",
       "   0.2315059071527673,\n",
       "   0.2602797972110959,\n",
       "   0.28601803737027304,\n",
       "   0.2838711298566747,\n",
       "   0.2688242123982349],\n",
       "  'accuracy': [0.8132351899092971,\n",
       "   0.8597115929705215,\n",
       "   0.8812760899814471,\n",
       "   0.8972022521129663,\n",
       "   0.900503762110905,\n",
       "   0.9050646773861059,\n",
       "   0.9103970186559472,\n",
       "   0.9219651875901875,\n",
       "   0.9188174796433726,\n",
       "   0.9215601486806844,\n",
       "   0.9157205022160378,\n",
       "   0.9130350056689343,\n",
       "   0.9139988855390642,\n",
       "   0.92140554138322,\n",
       "   0.9213572266027623,\n",
       "   0.9187200448361162,\n",
       "   0.9266839311482168,\n",
       "   0.9293734539270253,\n",
       "   0.9276011067305711,\n",
       "   0.9239428726035869,\n",
       "   0.9435812203669347,\n",
       "   0.9196831194599051,\n",
       "   0.9297293728097301,\n",
       "   0.9260775806534737,\n",
       "   0.9274980351989282,\n",
       "   0.9352122951453309,\n",
       "   0.939219200937951,\n",
       "   0.9341952690166977,\n",
       "   0.9367825255102041,\n",
       "   0.9395243893011751,\n",
       "   0.9316072072768502]},\n",
       " 'n_epochs': 100,\n",
       " 'stopped_epoch': 30,\n",
       " 'monitor': 'accuracy',\n",
       " 'best_epoch': 20,\n",
       " 'best_score': 0.9435812203669347,\n",
       " 'best_chk': '../output/exp7/train.1.model_20.chk'}"
      ]
     },
     "metadata": {},
     "output_type": "display_data"
    }
   ],
   "source": [
    "from IPython.display import display\n",
    "from tcrbert.commons import FileUtils\n",
    "\n",
    "fn_ft1 = '%s/exp1/exp1.train_0.result.json' % outdir\n",
    "ft1_result = FileUtils.json_load(fn_ft1)\n",
    "display(ft1_result)\n",
    "\n",
    "fn_ft2 = '%s/exp7/train.1.result.json' % outdir\n",
    "ft2_result = FileUtils.json_load(fn_ft2)\n",
    "display(ft2_result)\n"
   ]
  },
  {
   "cell_type": "code",
   "execution_count": 62,
   "metadata": {},
   "outputs": [
    {
     "name": "stdout",
     "output_type": "stream",
     "text": [
      "Populating the interactive namespace from numpy and matplotlib\n"
     ]
    },
    {
     "data": {
      "text/plain": [
       "0.7842561141304347"
      ]
     },
     "metadata": {},
     "output_type": "display_data"
    },
    {
     "data": {
      "text/plain": [
       "<matplotlib.lines.Line2D at 0x7f5b7712cbd0>"
      ]
     },
     "execution_count": 62,
     "metadata": {},
     "output_type": "execute_result"
    },
    {
     "data": {
      "image/png": "[encoded data removed]",
      "text/plain": [
       "<Figure size 432x360 with 1 Axes>"
      ]
     },
     "metadata": {
      "needs_background": "light"
     },
     "output_type": "display_data"
    }
   ],
   "source": [
    "%pylab inline\n",
    "\n",
    "import pandas as pd\n",
    "import matplotlib.pyplot as plt\n",
    "\n",
    "df = pd.DataFrame()\n",
    "df['train.loss'] = ft1_result['train.score']['loss']\n",
    "df['train.accuracy'] = ft1_result['train.score']['accuracy']\n",
    "df['val.loss'] = ft1_result['val.score']['loss']\n",
    "df['val.accuracy'] = ft1_result['val.score']['accuracy']\n",
    "val_acc = df['val.accuracy'].max()\n",
    "display(val_acc)\n",
    "ax = df.loc[:, ['train.accuracy', 'val.accuracy']].plot(figsize=(6, 5))\n",
    "ax.set_title('1st fine-tuning round')\n",
    "ax.set_xlabel('Epoch')\n",
    "ax.set_ylabel('Accuracy')\n",
    "ax.axhline(y=val_acc, alpha=0.5, color='r', linestyle=\"dashed\")\n"
   ]
  },
  {
   "cell_type": "code",
   "execution_count": 63,
   "metadata": {},
   "outputs": [
    {
     "name": "stdout",
     "output_type": "stream",
     "text": [
      "Populating the interactive namespace from numpy and matplotlib\n"
     ]
    },
    {
     "data": {
      "text/plain": [
       "0.9435812203669347"
      ]
     },
     "metadata": {},
     "output_type": "display_data"
    },
    {
     "data": {
      "text/plain": [
       "<matplotlib.lines.Line2D at 0x7f5b85ab6c10>"
      ]
     },
     "execution_count": 63,
     "metadata": {},
     "output_type": "execute_result"
    },
    {
     "data": {
      "image/png": "[encoded data removed]",
      "text/plain": [
       "<Figure size 432x360 with 1 Axes>"
      ]
     },
     "metadata": {
      "needs_background": "light"
     },
     "output_type": "display_data"
    }
   ],
   "source": [
    "%pylab inline\n",
    "\n",
    "import pandas as pd\n",
    "import matplotlib.pyplot as plt\n",
    "\n",
    "df = pd.DataFrame()\n",
    "df['train.loss'] = ft2_result['train.score']['loss']\n",
    "df['train.accuracy'] = ft2_result['train.score']['accuracy']\n",
    "df['val.loss'] = ft2_result['val.score']['loss']\n",
    "df['val.accuracy'] = ft2_result['val.score']['accuracy']\n",
    "val_acc = df['val.accuracy'].max()\n",
    "display(val_acc)\n",
    "\n",
    "ax = df.loc[:, ['train.accuracy', 'val.accuracy']].plot(figsize=(6, 5))\n",
    "ax.set_title('2nd fine-tuning round')\n",
    "ax.set_xlabel('Epoch')\n",
    "ax.set_ylabel('Accuracy')\n",
    "ax.axhline(y=val_acc, alpha=0.5, color='r', linestyle=\"dashed\")\n"
   ]
  },
  {
   "cell_type": "markdown",
   "metadata": {},
   "source": [
    "## Independent evaluation results"
   ]
  },
  {
   "cell_type": "code",
   "execution_count": 65,
   "metadata": {},
   "outputs": [
    {
     "name": "stdout",
     "output_type": "stream",
     "text": [
      "eval.immunecode.result.json   train.1.model_17.chk  train.1.model_5.chk\r\n",
      "eval.shomuradova.result.json  train.1.model_1.chk   train.1.model_6.chk\r\n",
      "eval.zhang.result.json\t      train.1.model_20.chk  train.1.model_7.chk\r\n",
      "nohup.out\t\t      train.1.model_2.chk   train.1.result.json\r\n",
      "train.1.model_0.chk\t      train.1.model_3.chk\r\n",
      "train.1.model_16.chk\t      train.1.model_4.chk\r\n"
     ]
    }
   ],
   "source": [
    "!ls ../output/exp7/"
   ]
  },
  {
   "cell_type": "code",
   "execution_count": 67,
   "metadata": {},
   "outputs": [
    {
     "data": {
      "text/plain": [
       "{'accuracy': 0.9388392857142858, 'f1': 0.9378093253788975}"
      ]
     },
     "metadata": {},
     "output_type": "display_data"
    },
    {
     "data": {
      "text/plain": [
       "{'accuracy': 0.96859375, 'f1': 0.9684247232627423}"
      ]
     },
     "metadata": {},
     "output_type": "display_data"
    }
   ],
   "source": [
    "fn_ev1 = '%s/exp7/eval.shomuradova.result.json' % outdir\n",
    "fn_ev2 = '%s/exp7/eval.immunecode.result.json' % outdir\n",
    "\n",
    "ev1_result = FileUtils.json_load(fn_ev1)\n",
    "ev2_result = FileUtils.json_load(fn_ev2)\n",
    "\n",
    "display(ev1_result['score_map'])\n",
    "display(ev2_result['score_map'])\n",
    "\n"
   ]
  }
 ],
 "metadata": {
  "kernelspec": {
   "display_name": "Python 3",
   "language": "python",
   "name": "python3"
  },
  "language_info": {
   "codemirror_mode": {
    "name": "ipython",
    "version": 3
   },
   "file_extension": ".py",
   "mimetype": "text/x-python",
   "name": "python",
   "nbconvert_exporter": "python",
   "pygments_lexer": "ipython3",
   "version": "3.7.8"
  },
  "toc": {
   "base_numbering": 1,
   "nav_menu": {},
   "number_sections": true,
   "sideBar": true,
   "skip_h1_title": false,
   "title_cell": "Table of Contents",
   "title_sidebar": "Contents",
   "toc_cell": false,
   "toc_position": {},
   "toc_section_display": true,
   "toc_window_display": true
  },
  "varInspector": {
   "cols": {
    "lenName": 16,
    "lenType": 16,
    "lenVar": 40
   },
   "kernels_config": {
    "python": {
     "delete_cmd_postfix": "",
     "delete_cmd_prefix": "del ",
     "library": "var_list.py",
     "varRefreshCmd": "print(var_dic_list())"
    },
    "r": {
     "delete_cmd_postfix": ") ",
     "delete_cmd_prefix": "rm(",
     "library": "var_list.r",
     "varRefreshCmd": "cat(var_dic_list()) "
    }
   },
   "types_to_exclude": [
    "module",
    "function",
    "builtin_function_or_method",
    "instance",
    "_Feature"
   ],
   "window_display": false
  }
 },
 "nbformat": 4,
 "nbformat_minor": 4
}
