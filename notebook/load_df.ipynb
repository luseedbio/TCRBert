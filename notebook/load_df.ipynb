{
 "cells": [
  {
   "cell_type": "markdown",
   "metadata": {},
   "source": [
    "# TCRBert: Improves Prediction of Epitope-specific TCR recognition using Pre-trained Protein Embeddings."
   ]
  },
  {
   "cell_type": "markdown",
   "metadata": {},
   "source": [
    "## Global configurations"
   ]
  },
  {
   "cell_type": "code",
   "execution_count": 31,
   "metadata": {},
   "outputs": [],
   "source": [
    "import logging\n",
    "import logging.config\n",
    "import os\n",
    "import warnings\n",
    "from enum import auto\n",
    "from tcrbert.commons import StrEnum\n",
    "\n",
    "workdir = '/home/hym/trunk/TCRBert'\n",
    "datadir = '%s/data' % workdir\n",
    "outdir = '%s/output' % workdir\n",
    "\n",
    "os.chdir(workdir)\n",
    "\n",
    "# Logger\n",
    "warnings.filterwarnings('ignore')\n",
    "logging.config.fileConfig('config/logging.conf')\n",
    "logger = logging.getLogger('tcrbert')\n",
    "\n",
    "class ColumnName(StrEnum):\n"
   ]
  },
  {
   "cell_type": "markdown",
   "metadata": {},
   "source": [
    "## Training Datasets"
   ]
  },
  {
   "cell_type": "markdown",
   "metadata": {},
   "source": [
    "### Postitive dataset"
   ]
  },
  {
   "cell_type": "markdown",
   "metadata": {},
   "source": [
    "#### Dash data\n",
    "- containing epitope-specific paired epitope-specific paired TCRα and TCRβ chains for  three epitopes from humans and for seven epitopes from mice[{Dash:2017go}]"
   ]
  },
  {
   "cell_type": "code",
   "execution_count": 40,
   "metadata": {
    "scrolled": true
   },
   "outputs": [
    {
     "data": {
      "text/html": [
       "<div>\n",
       "<style scoped>\n",
       "    .dataframe tbody tr th:only-of-type {\n",
       "        vertical-align: middle;\n",
       "    }\n",
       "\n",
       "    .dataframe tbody tr th {\n",
       "        vertical-align: top;\n",
       "    }\n",
       "\n",
       "    .dataframe thead th {\n",
       "        text-align: right;\n",
       "    }\n",
       "</style>\n",
       "<table border=\"1\" class=\"dataframe\">\n",
       "  <thead>\n",
       "    <tr style=\"text-align: right;\">\n",
       "      <th></th>\n",
       "      <th>epitope</th>\n",
       "      <th>epitope_gene</th>\n",
       "      <th>epitope_species</th>\n",
       "      <th>species</th>\n",
       "      <th>cdr3b</th>\n",
       "      <th>mhc</th>\n",
       "      <th>source</th>\n",
       "      <th>label</th>\n",
       "    </tr>\n",
       "  </thead>\n",
       "  <tbody>\n",
       "    <tr>\n",
       "      <th>GLCTLVAML_CASSLWTGSHEQYF</th>\n",
       "      <td>GLCTLVAML</td>\n",
       "      <td>BMLF</td>\n",
       "      <td>EBV</td>\n",
       "      <td>human</td>\n",
       "      <td>CASSLWTGSHEQYF</td>\n",
       "      <td>HLA-A*02:01</td>\n",
       "      <td>Dash</td>\n",
       "      <td>1</td>\n",
       "    </tr>\n",
       "    <tr>\n",
       "      <th>GLCTLVAML_CASSQSPGGEQYF</th>\n",
       "      <td>GLCTLVAML</td>\n",
       "      <td>BMLF</td>\n",
       "      <td>EBV</td>\n",
       "      <td>human</td>\n",
       "      <td>CASSQSPGGEQYF</td>\n",
       "      <td>HLA-A*02:01</td>\n",
       "      <td>Dash</td>\n",
       "      <td>1</td>\n",
       "    </tr>\n",
       "    <tr>\n",
       "      <th>GLCTLVAML_CASSLTTEQQFF</th>\n",
       "      <td>GLCTLVAML</td>\n",
       "      <td>BMLF</td>\n",
       "      <td>EBV</td>\n",
       "      <td>human</td>\n",
       "      <td>CASSLTTEQQFF</td>\n",
       "      <td>HLA-A*02:01</td>\n",
       "      <td>Dash</td>\n",
       "      <td>1</td>\n",
       "    </tr>\n",
       "    <tr>\n",
       "      <th>GLCTLVAML_CSARDATGNGYTF</th>\n",
       "      <td>GLCTLVAML</td>\n",
       "      <td>BMLF</td>\n",
       "      <td>EBV</td>\n",
       "      <td>human</td>\n",
       "      <td>CSARDATGNGYTF</td>\n",
       "      <td>HLA-A*02:01</td>\n",
       "      <td>Dash</td>\n",
       "      <td>1</td>\n",
       "    </tr>\n",
       "    <tr>\n",
       "      <th>GLCTLVAML_CSARDSTGNGYTF</th>\n",
       "      <td>GLCTLVAML</td>\n",
       "      <td>BMLF</td>\n",
       "      <td>EBV</td>\n",
       "      <td>human</td>\n",
       "      <td>CSARDSTGNGYTF</td>\n",
       "      <td>HLA-A*02:01</td>\n",
       "      <td>Dash</td>\n",
       "      <td>1</td>\n",
       "    </tr>\n",
       "  </tbody>\n",
       "</table>\n",
       "</div>"
      ],
      "text/plain": [
       "                            epitope epitope_gene epitope_species species  \\\n",
       "GLCTLVAML_CASSLWTGSHEQYF  GLCTLVAML         BMLF             EBV   human   \n",
       "GLCTLVAML_CASSQSPGGEQYF   GLCTLVAML         BMLF             EBV   human   \n",
       "GLCTLVAML_CASSLTTEQQFF    GLCTLVAML         BMLF             EBV   human   \n",
       "GLCTLVAML_CSARDATGNGYTF   GLCTLVAML         BMLF             EBV   human   \n",
       "GLCTLVAML_CSARDSTGNGYTF   GLCTLVAML         BMLF             EBV   human   \n",
       "\n",
       "                                   cdr3b          mhc source  label  \n",
       "GLCTLVAML_CASSLWTGSHEQYF  CASSLWTGSHEQYF  HLA-A*02:01   Dash      1  \n",
       "GLCTLVAML_CASSQSPGGEQYF    CASSQSPGGEQYF  HLA-A*02:01   Dash      1  \n",
       "GLCTLVAML_CASSLTTEQQFF      CASSLTTEQQFF  HLA-A*02:01   Dash      1  \n",
       "GLCTLVAML_CSARDATGNGYTF    CSARDATGNGYTF  HLA-A*02:01   Dash      1  \n",
       "GLCTLVAML_CSARDSTGNGYTF    CSARDSTGNGYTF  HLA-A*02:01   Dash      1  "
      ]
     },
     "metadata": {},
     "output_type": "display_data"
    },
    {
     "name": "stdout",
     "output_type": "stream",
     "text": [
      "epitope gene: BMLF, epitope: GLCTLVAML, n_cdr3b: 54\n",
      "epitope gene: pp65, epitope: NLVPMVATV, n_cdr3b: 54\n",
      "epitope gene: M1, epitope: GILGFVFTL, n_cdr3b: 150\n",
      "epitope gene: F2, epitope: LSLRNPILV, n_cdr3b: 102\n",
      "epitope gene: NP, epitope: ASNENMETM, n_cdr3b: 149\n",
      "epitope gene: PA, epitope: SSLENFRAYV, n_cdr3b: 230\n",
      "epitope gene: PB1, epitope: SSYRRPVGI, n_cdr3b: 335\n",
      "epitope gene: m139, epitope: TVYGFCLL, n_cdr3b: 73\n",
      "epitope gene: M38, epitope: SSPPMFRV, n_cdr3b: 60\n",
      "epitope gene: M45, epitope: HGIRNASFI, n_cdr3b: 201\n"
     ]
    }
   ],
   "source": [
    "import pandas as pd\n",
    "from IPython.core.display import display\n",
    "from collections import OrderedDict\n",
    "\n",
    "gene_info_map = OrderedDict({\n",
    "    'BMLF': ('EBV', 'GLCTLVAML', 'HLA-A*02:01'),\n",
    "    'pp65': ('CMV', 'NLVPMVATV', 'HLA-A*02:01'),\n",
    "    'M1': ('IAV', 'GILGFVFTL', 'HLA-A*02:01'),\n",
    "    'F2': ('IAV', 'LSLRNPILV', 'H2-Db'),\n",
    "    'NP': ('IAV', 'ASNENMETM', 'H2-Db'),\n",
    "    'PA': ('IAV', 'SSLENFRAYV', 'H2-Db'),\n",
    "    'PB1': ('IAV', 'SSYRRPVGI', 'H2-Kb'),\n",
    "    'm139': ('mCMV', 'TVYGFCLL', 'H2-Kb'),\n",
    "    'M38': ('mCMV', 'SSPPMFRV', 'H2-Kb'),\n",
    "    'M45': ('mCMV', 'HGIRNASFI', 'H2-Db'),   \n",
    "})\n",
    "\n",
    "df = pd.read_table('data/Dash/human_mouse_pairseqs_v1_parsed_seqs_probs_mq20_clones.tsv', sep='\\t')\n",
    "df = df.dropna(subset=['epitope', 'cdr3b'])\n",
    "df[CN.epitope_gene] = df['epitope']\n",
    "df[CN.epitope_species] = df[CN.epitope_gene].map(lambda x: gene_info_map[x][0])\n",
    "df[CN.epitope] = df[CN.epitope_gene].map(lambda x: gene_info_map[x][1])\n",
    "df[CN.mhc] = df[CN.epitope_gene].map(lambda x: gene_info_map[x][2])\n",
    "df[CN.species] = df['subject'].map(lambda x: 'human' if 'human' in x else 'mouse')\n",
    "df[CN.cdr3b] = df['cdr3b'].str.strip()\n",
    "df[CN.source] = 'Dash'\n",
    "df[CN.label] = 1\n",
    "df = df.loc[:, CN.values()]\n",
    "df.index = df.apply(lambda row: get_index(row), axis=1)\n",
    "\n",
    "df = df[~df.index.duplicated()]\n",
    "display(df.head())\n",
    "\n",
    "for gene in gene_info_map.keys():\n",
    "    subtab = df[df[CN.epitope_gene] == gene]\n",
    "    epitope = subtab[CN.epitope].iat[0]\n",
    "    n_cdr3b = subtab.shape[0]\n",
    "    print('epitope gene: %s, epitope: %s, n_cdr3b: %s' % (gene, epitope, n_cdr3b))\n",
    "    \n",
    "df_dash = df"
   ]
  },
  {
   "attachments": {},
   "cell_type": "markdown",
   "metadata": {},
   "source": [
    "#### VDJdb\n",
    "\n",
    "- We extend the positive dataset with new data set from VDJdb{Bagaev:2019hf}](https://vdjdb.cdr3.net, downloaded May 2021), which is a manually curated database that contains TCR sequences with known antigen specificity. Every entry in VDJdb has been given a confidence score between 0  and 3 (0: critical information missing, 1: medium confidence, 2: high confidence, 3: very high  confidence). We constructed our data set so that we selected all epitopes that have at least 30 TCRβ sequences with a confidence score at least 1 and found 22 such epitopes."
   ]
  }
 ],
 "metadata": {
  "kernelspec": {
   "display_name": "Python 3",
   "language": "python",
   "name": "python3"
  },
  "language_info": {
   "codemirror_mode": {
    "name": "ipython",
    "version": 3
   },
   "file_extension": ".py",
   "mimetype": "text/x-python",
   "name": "python",
   "nbconvert_exporter": "python",
   "pygments_lexer": "ipython3",
   "version": "3.7.8"
  },
  "toc": {
   "base_numbering": 1,
   "nav_menu": {},
   "number_sections": true,
   "sideBar": true,
   "skip_h1_title": false,
   "title_cell": "Table of Contents",
   "title_sidebar": "Contents",
   "toc_cell": false,
   "toc_position": {},
   "toc_section_display": true,
   "toc_window_display": false
  },
  "varInspector": {
   "cols": {
    "lenName": 16,
    "lenType": 16,
    "lenVar": 40
   },
   "kernels_config": {
    "python": {
     "delete_cmd_postfix": "",
     "delete_cmd_prefix": "del ",
     "library": "var_list.py",
     "varRefreshCmd": "print(var_dic_list())"
    },
    "r": {
     "delete_cmd_postfix": ") ",
     "delete_cmd_prefix": "rm(",
     "library": "var_list.r",
     "varRefreshCmd": "cat(var_dic_list()) "
    }
   },
   "types_to_exclude": [
    "module",
    "function",
    "builtin_function_or_method",
    "instance",
    "_Feature"
   ],
   "window_display": false
  }
 },
 "nbformat": 4,
 "nbformat_minor": 4
}
